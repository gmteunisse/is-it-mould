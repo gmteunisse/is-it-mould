{
 "cells": [
  {
   "cell_type": "markdown",
   "metadata": {},
   "source": [
    "# Introduction\n",
    "This is a Jupyter notebook, designed to test out the PRAW library and get an idea of how to use it for reddit scraping. It requires the `praw` library, which can be installed directly (e.g. `pip install praw`) or in a conda environment.\n",
    "\n",
    "# Set up a reddit instance\n",
    "First, we need to set up a reddit instance. This requires setting up a Reddit application. Head over to [the authorized applications page](https://www.reddit.com/prefs/apps) and create a new script at the bottom. It is required to add a title, description and redirect uri (use `http://localhost:8080` here). Once your apps has been created, you will have the required credentials to start using the Reddit API. The `user_agent` is the name of the application; the `client_id` is the line of gibberish next to the icon of the application; and the `client_secret` is the `secret` gibberish. "
   ]
  },
  {
   "cell_type": "code",
   "execution_count": 1,
   "metadata": {},
   "outputs": [],
   "source": [
    "import praw\n",
    "reddit = praw.Reddit(\n",
    "    user_agent=\"IsItMould?\",\n",
    "    client_id=\"EXRL43UtmsdPymRwqZErkg\",\n",
    "    client_secret=\"JrkEkIWSzI_srcUvJeh24Q__qvS3VQ\",\n",
    ")"
   ]
  },
  {
   "cell_type": "markdown",
   "metadata": {},
   "source": [
    "# Get and filter data from subreddit\n",
    "Next, let's try to obtain some data from our subreddit of interest: `r/kombucha`. First, lets print the attributes and methods for the latest post. Then we will get the last 5 posts by date and output some basic information like the post id, timestamp and title.\n",
    "\n",
    "## Available attributes\n",
    "Let's have a look at the available attributes and methods for the objects that are returned by `praw`."
   ]
  },
  {
   "cell_type": "code",
   "execution_count": 105,
   "metadata": {},
   "outputs": [
    {
     "name": "stdout",
     "output_type": "stream",
     "text": [
      "['MESSAGE_PREFIX', 'STR_FIELD', 'VALID_TIME_FILTERS', '__class__', '__delattr__', '__dict__', '__dir__', '__doc__', '__eq__', '__format__', '__ge__', '__getattr__', '__getattribute__', '__gt__', '__hash__', '__init__', '__init_subclass__', '__le__', '__lt__', '__module__', '__ne__', '__new__', '__reduce__', '__reduce_ex__', '__repr__', '__setattr__', '__sizeof__', '__str__', '__subclasshook__', '__weakref__', '_convert_to_fancypants', '_create_or_update', '_fetch', '_fetch_data', '_fetch_info', '_fetched', '_kind', '_parse_xml_response', '_path', '_reddit', '_reset_attributes', '_safely_add_arguments', '_submission_class', '_submit_media', '_subreddit_collections_class', '_subreddit_list', '_upload_inline_media', '_upload_media', '_url_parts', '_validate_gallery', '_validate_inline_media', '_validate_time_filter', 'banned', 'collections', 'comments', 'contributor', 'controversial', 'display_name', 'emoji', 'filters', 'flair', 'fullname', 'gilded', 'hot', 'message', 'mod', 'moderator', 'modmail', 'muted', 'new', 'parse', 'post_requirements', 'quaran', 'random', 'random_rising', 'rising', 'rules', 'search', 'sticky', 'stream', 'stylesheet', 'submit', 'submit_gallery', 'submit_image', 'submit_poll', 'submit_video', 'subscribe', 'top', 'traffic', 'unsubscribe', 'widgets', 'wiki']\n",
      "{'comment_limit': 2048, 'comment_sort': 'confidence', '_reddit': <praw.reddit.Reddit object at 0x1064cd3c0>, 'approved_at_utc': None, 'subreddit': Subreddit(display_name='Kombucha'), 'selftext': 'When brewing a new batch should I use the oldest scoby and how long should I keep an old scoby or does it not matter and will work fine regardless of age?', 'author_fullname': 't2_3tmbd0dz', 'saved': False, 'mod_reason_title': None, 'gilded': 0, 'clicked': False, 'title': 'Scoby hotel question', 'link_flair_richtext': [], 'subreddit_name_prefixed': 'r/Kombucha', 'hidden': False, 'pwls': 6, 'link_flair_css_class': 'one', 'downs': 0, 'thumbnail_height': None, 'top_awarded_type': None, 'hide_score': False, 'name': 't3_t7rlvt', 'quarantine': False, 'link_flair_text_color': 'dark', 'upvote_ratio': 0.5, 'author_flair_background_color': None, 'subreddit_type': 'public', 'ups': 0, 'total_awards_received': 0, 'media_embed': {}, 'thumbnail_width': None, 'author_flair_template_id': None, 'is_original_content': False, 'user_reports': [], 'secure_media': None, 'is_reddit_media_domain': False, 'is_meta': False, 'category': None, 'secure_media_embed': {}, 'link_flair_text': 'question', 'can_mod_post': False, 'score': 0, 'approved_by': None, 'is_created_from_ads_ui': False, 'author_premium': False, 'thumbnail': 'self', 'edited': False, 'author_flair_css_class': None, 'author_flair_richtext': [], 'gildings': {}, 'content_categories': None, 'is_self': True, 'mod_note': None, 'created': 1646543272.0, 'link_flair_type': 'text', 'wls': 6, 'removed_by_category': None, 'banned_by': None, 'author_flair_type': 'text', 'domain': 'self.Kombucha', 'allow_live_comments': False, 'selftext_html': '<!-- SC_OFF --><div class=\"md\"><p>When brewing a new batch should I use the oldest scoby and how long should I keep an old scoby or does it not matter and will work fine regardless of age?</p>\\n</div><!-- SC_ON -->', 'likes': None, 'suggested_sort': None, 'banned_at_utc': None, 'view_count': None, 'archived': False, 'no_follow': True, 'is_crosspostable': False, 'pinned': False, 'over_18': False, 'all_awardings': [], 'awarders': [], 'media_only': False, 'link_flair_template_id': '9441f570-e9d1-11e8-9e6a-0e0891963e48', 'can_gild': False, 'spoiler': False, 'locked': False, 'author_flair_text': None, 'treatment_tags': [], 'visited': False, 'removed_by': None, 'num_reports': None, 'distinguished': None, 'subreddit_id': 't5_2qx36', 'author_is_blocked': False, 'mod_reason_by': None, 'removal_reason': None, 'link_flair_background_color': '#ffb000', 'id': 't7rlvt', 'is_robot_indexable': True, 'report_reasons': None, 'author': Redditor(name='Jilly87'), 'discussion_type': None, 'num_comments': 1, 'send_replies': True, 'whitelist_status': 'all_ads', 'contest_mode': False, 'mod_reports': [], 'author_patreon_flair': False, 'author_flair_text_color': None, 'permalink': '/r/Kombucha/comments/t7rlvt/scoby_hotel_question/', 'parent_whitelist_status': 'all_ads', 'stickied': False, 'url': 'https://www.reddit.com/r/Kombucha/comments/t7rlvt/scoby_hotel_question/', 'subreddit_subscribers': 323082, 'created_utc': 1646543272.0, 'num_crossposts': 0, 'media': None, 'is_video': False, '_fetched': False, '_comments_by_id': {}}\n"
     ]
    }
   ],
   "source": [
    "# Get the attributes for a subreddit\n",
    "print(dir(reddit.subreddit('kombucha')))\n",
    "\n",
    "# Get the attributes for a post\n",
    "last_posts = reddit.subreddit('kombucha').new(limit=1)\n",
    "for post in last_posts:\n",
    "    print(vars(post))"
   ]
  },
  {
   "cell_type": "markdown",
   "metadata": {},
   "source": [
    "## Return the last posts\n",
    "Seems that the last posts can be returned using `.new()`. We can then extract useful information like the post id, the timestamp and the post title."
   ]
  },
  {
   "cell_type": "code",
   "execution_count": 48,
   "metadata": {},
   "outputs": [
    {
     "name": "stdout",
     "output_type": "stream",
     "text": [
      "Last 5 posts from the kombucha reddit:\n",
      "\n",
      "id\ttimestamp\ttitle\n",
      "t7rlvt\t2022-03-06 06:07:52\tScoby hotel question\n",
      "t7qbhc\t2022-03-06 04:48:15\tKratom as a singular base in 1f\n",
      "t7o1p7\t2022-03-06 02:38:07\tIs this normal??\n",
      "t7kec5\t2022-03-05 23:23:52\tThird batch, four days in, but what is that dark area within the scoby — and what are these dark thread-like things in the liquid? Newbie here, still learning.\n",
      "t7k2i9\t2022-03-05 23:07:08\t5 Days into F1 (second batch), do these white bumps look anything like mold to you?\n"
     ]
    }
   ],
   "source": [
    "# Import datetime\n",
    "import datetime\n",
    "\n",
    "# Grab the last 5 posts\n",
    "last_posts = reddit.subreddit('kombucha').new(limit=5)\n",
    "\n",
    "# Function to determine date and time posted\n",
    "# courtesty of https://www.reddit.com/r/learnprogramming/comments/37kr5n/praw_is_it_possible_to_get_post_time_and_date/\n",
    "def get_date(submission):\n",
    "\ttime = submission.created\n",
    "\treturn datetime.datetime.fromtimestamp(time)\n",
    "\n",
    "# Print post id, date and title\n",
    "print(\"Last 5 posts from the kombucha reddit:\\n\")\n",
    "print(\"id\\ttimestamp\\ttitle\")\n",
    "for post in last_posts:\n",
    "    attrs = (post.id, get_date(post), post.title)\n",
    "    print(\"%s\\t%s\\t%s\" % attrs)"
   ]
  },
  {
   "cell_type": "markdown",
   "metadata": {},
   "source": [
    "## Filter by flair\n",
    "To create our scraper, we are looking for posts that contain images of pellicles. Specifically, we want images of pellicles that have been classified as either \"mold!\" or not \"not mold\" by their flair. It seems to be possible to filter posts by flair."
   ]
  },
  {
   "cell_type": "code",
   "execution_count": 61,
   "metadata": {},
   "outputs": [
    {
     "name": "stdout",
     "output_type": "stream",
     "text": [
      "Last 5 mold posts from the kombucha reddit:\n",
      "\n",
      "id\ttimestamp\ttitle\n",
      "t6a39m\t2022-03-04 05:03:15\tMold?\n",
      "t4k01s\t2022-03-01 23:18:08\they guys, that looks normal? or it's kind of mold?\n",
      "t3i3pd\t2022-02-28 16:26:36\tAny idea if this is normal pellicle formation, or mold?\n",
      "t2cb8t\t2022-02-27 02:17:09\tMy first time making kombucha. This does look like mold? Should I throw it out?\n",
      "t11wwj\t2022-02-25 12:34:45\tIgnored this for… a year? Definitely has a dried leathery top that extends about an inch down. Should I (try) take it out and cut off the dried part and then add more sweet tea?\n"
     ]
    }
   ],
   "source": [
    "# Obtain the last 5 mold posts\n",
    "mold_posts = reddit.subreddit('kombucha').search(query='flair:\"mold!\"', sort='new', limit = 5, syntax='lucene')\n",
    "print(\"Last 5 mold posts from the kombucha reddit:\\n\")\n",
    "print(\"id\\ttimestamp\\ttitle\")\n",
    "for post in mold_posts:\n",
    "    attrs = (post.id, get_date(post), post.title)\n",
    "    print(\"%s\\t%s\\t%s\" % attrs)"
   ]
  },
  {
   "cell_type": "code",
   "execution_count": 68,
   "metadata": {},
   "outputs": [
    {
     "name": "stdout",
     "output_type": "stream",
     "text": [
      "\n",
      "Last 5 not mold posts from the kombucha reddit:\n",
      "\n",
      "id\ttimestamp\ttitle\n",
      "t6a39m\t2022-03-04 05:03:15\tMold?\n",
      "t3i3pd\t2022-02-28 16:26:36\tAny idea if this is normal pellicle formation, or mold?\n",
      "t2cb8t\t2022-02-27 02:17:09\tMy first time making kombucha. This does look like mold? Should I throw it out?\n",
      "t11wwj\t2022-02-25 12:34:45\tIgnored this for… a year? Definitely has a dried leathery top that extends about an inch down. Should I (try) take it out and cut off the dried part and then add more sweet tea?\n",
      "t0n4vh\t2022-02-24 23:20:59\tFirst time making kombucha. Is this mold?\n"
     ]
    }
   ],
   "source": [
    "# Obtain the last 5 not mold posts\n",
    "not_mold_posts = reddit.subreddit('kombucha').search(query='flair:\"not mold\"', sort='new', limit = 5, syntax='lucene')\n",
    "print(\"\\nLast 5 not mold posts from the kombucha reddit:\\n\")\n",
    "print(\"id\\ttimestamp\\ttitle\")\n",
    "for post in not_mold_posts:\n",
    "    attrs = (post.id, get_date(post), post.title)\n",
    "    print(\"%s\\t%s\\t%s\" % attrs)"
   ]
  },
  {
   "cell_type": "markdown",
   "metadata": {},
   "source": [
    "That didn't seem to work - the flairs are different, yet the posts overlap. Altering the syntax between `lucene`, `cloudsearch` and `plain` syntaxes also didn't do the trick. On the reddit website - `flair:\"not mold\"` returns just the `not mold` posts. As an alternative, can we get all `mold` posts and then obtain by their flair?"
   ]
  },
  {
   "cell_type": "code",
   "execution_count": 86,
   "metadata": {},
   "outputs": [
    {
     "name": "stdout",
     "output_type": "stream",
     "text": [
      "\n",
      "Last 5 mold or not mold posts from the kombucha reddit:\n",
      "\n",
      "id\ttimestamp\tflair\ttitle\n",
      "t6a39m\t2022-03-04 05:03:15\tnot mold\tMold?\n",
      "t4k01s\t2022-03-01 23:18:08\tmold!\they guys, that looks normal? or it's kind of mold?\n",
      "t3i3pd\t2022-02-28 16:26:36\tnot mold\tAny idea if this is normal pellicle formation, or mold?\n",
      "t2cb8t\t2022-02-27 02:17:09\tnot mold\tMy first time making kombucha. This does look like mold? Should I throw it out?\n",
      "t11wwj\t2022-02-25 12:34:45\tnot mold\tIgnored this for… a year? Definitely has a dried leathery top that extends about an inch down. Should I (try) take it out and cut off the dried part and then add more sweet tea?\n"
     ]
    }
   ],
   "source": [
    "mold_posts = reddit.subreddit('kombucha').search(\n",
    "    query='flair:\"*mold*\"', \n",
    "    sort='new', \n",
    "    limit = 5, \n",
    "    syntax='lucene')\n",
    "print(\"\\nLast 5 mold or not mold posts from the kombucha reddit:\\n\")\n",
    "print(\"id\\ttimestamp\\tflair\\ttitle\")\n",
    "for post in mold_posts:\n",
    "    attrs = (post.id, get_date(post), post.link_flair_text, post.title)\n",
    "    print(\"%s\\t%s\\t%s\\t%s\" % attrs)"
   ]
  },
  {
   "cell_type": "markdown",
   "metadata": {},
   "source": [
    "That worked! These posts match the results on the reddit website, and this seems sufficient to scrape the posts (and hopefully images) we need for our classifier.\n",
    "\n",
    "## Image from post\n",
    "Next, we need to obtain the URLs to images that have been attached to these posts. First, let's try to get these from the post URL."
   ]
  },
  {
   "cell_type": "code",
   "execution_count": 89,
   "metadata": {},
   "outputs": [
    {
     "name": "stdout",
     "output_type": "stream",
     "text": [
      "\n",
      "Last 5 mold or not mold posts from the kombucha reddit:\n",
      "\n",
      "id\ttimestamp\tflair\turl\n",
      "t6a39m\t2022-03-04 05:03:15\tnot mold\thttps://www.reddit.com/gallery/t6a39m\n",
      "t4k01s\t2022-03-01 23:18:08\tmold!\thttps://www.reddit.com/gallery/t4k01s\n",
      "t3i3pd\t2022-02-28 16:26:36\tnot mold\thttps://www.reddit.com/gallery/t3i3pd\n",
      "t2cb8t\t2022-02-27 02:17:09\tnot mold\thttps://i.redd.it/sry5fwcf1ak81.jpg\n",
      "t11wwj\t2022-02-25 12:34:45\tnot mold\thttps://www.reddit.com/gallery/t11wwj\n"
     ]
    }
   ],
   "source": [
    "mold_posts = reddit.subreddit('kombucha').search(\n",
    "    query='flair:\"*mold*\"', \n",
    "    sort='new', \n",
    "    limit = 5, \n",
    "    syntax='lucene')\n",
    "print(\"\\nLast 5 mold or not mold posts from the kombucha reddit:\\n\")\n",
    "print(\"id\\ttimestamp\\tflair\\turl\")\n",
    "for post in mold_posts:\n",
    "    attrs = (post.id, get_date(post), post.link_flair_text, post.url)\n",
    "    print(\"%s\\t%s\\t%s\\t%s\" % attrs)"
   ]
  },
  {
   "cell_type": "markdown",
   "metadata": {},
   "source": [
    "It seems that in some posts, the URL points directly to an image, whereas in others, it points to a gallery. Perhaps the `media_metadata` allows us to access all images within the gallery?"
   ]
  },
  {
   "cell_type": "code",
   "execution_count": 107,
   "metadata": {},
   "outputs": [
    {
     "name": "stdout",
     "output_type": "stream",
     "text": [
      "\n",
      "Last 5 mold or not mold posts from the kombucha reddit:\n",
      "\n",
      "id\ttimestamp\tflair\turl\n",
      "t6a39m\t2022-03-04 05:03:15\tnot mold\t{'5ik11nnmjal81': {'status': 'valid', 'e': 'Image', 'm': 'image/jpg', 'p': [{'y': 192, 'x': 108, 'u': 'https://preview.redd.it/5ik11nnmjal81.jpg?width=108&crop=smart&auto=webp&s=a9a3d6ad8eebfc9cd31e14e400b1f691d7d5372f'}, {'y': 384, 'x': 216, 'u': 'https://preview.redd.it/5ik11nnmjal81.jpg?width=216&crop=smart&auto=webp&s=4de944ecc985afad908ca87a1d0cd4ed4840d78b'}, {'y': 568, 'x': 320, 'u': 'https://preview.redd.it/5ik11nnmjal81.jpg?width=320&crop=smart&auto=webp&s=de608d065ee8d9249989fff3f0d5bef50803501b'}, {'y': 1137, 'x': 640, 'u': 'https://preview.redd.it/5ik11nnmjal81.jpg?width=640&crop=smart&auto=webp&s=66884928f830099b8ba674e953a4ff63d6d82b77'}, {'y': 1706, 'x': 960, 'u': 'https://preview.redd.it/5ik11nnmjal81.jpg?width=960&crop=smart&auto=webp&s=27453143cb7b5dc12b48543c99c914eea151d657'}, {'y': 1920, 'x': 1080, 'u': 'https://preview.redd.it/5ik11nnmjal81.jpg?width=1080&crop=smart&auto=webp&s=22ef4d6930272517198aa52cc62cc728ebbff210'}], 's': {'y': 4032, 'x': 2268, 'u': 'https://preview.redd.it/5ik11nnmjal81.jpg?width=2268&format=pjpg&auto=webp&s=bc64f6eeb7a9a510df20a3fcb9c93ae882a8f0fe'}, 'id': '5ik11nnmjal81'}, 'hdkxlonmjal81': {'status': 'valid', 'e': 'Image', 'm': 'image/jpg', 'p': [{'y': 192, 'x': 108, 'u': 'https://preview.redd.it/hdkxlonmjal81.jpg?width=108&crop=smart&auto=webp&s=e595058e9917bdf9da6d5ac05479ef63a1133107'}, {'y': 384, 'x': 216, 'u': 'https://preview.redd.it/hdkxlonmjal81.jpg?width=216&crop=smart&auto=webp&s=f0ff80c63b32f22a4cd730f74b820cc5a189b9c3'}, {'y': 568, 'x': 320, 'u': 'https://preview.redd.it/hdkxlonmjal81.jpg?width=320&crop=smart&auto=webp&s=d828708bc99f96230080cd45d6ac88a6399a3fd1'}, {'y': 1137, 'x': 640, 'u': 'https://preview.redd.it/hdkxlonmjal81.jpg?width=640&crop=smart&auto=webp&s=4424daa9cae3eab188a7887bf1ac371738ff6954'}, {'y': 1706, 'x': 960, 'u': 'https://preview.redd.it/hdkxlonmjal81.jpg?width=960&crop=smart&auto=webp&s=9be4271fe54ea749c8ac99c0c20e64678e4a98ae'}, {'y': 1920, 'x': 1080, 'u': 'https://preview.redd.it/hdkxlonmjal81.jpg?width=1080&crop=smart&auto=webp&s=5991b8d7b5f2d9797557d7947b0a6f86b414c0c1'}], 's': {'y': 4032, 'x': 2268, 'u': 'https://preview.redd.it/hdkxlonmjal81.jpg?width=2268&format=pjpg&auto=webp&s=1890eced03d9199751ca813fac984138367ce3e5'}, 'id': 'hdkxlonmjal81'}}\n",
      "\n",
      "\n",
      "t4k01s\t2022-03-01 23:18:08\tmold!\t{'eh1lhbe8kuk81': {'status': 'valid', 'e': 'Image', 'm': 'image/jpg', 'p': [{'y': 144, 'x': 108, 'u': 'https://preview.redd.it/eh1lhbe8kuk81.jpg?width=108&crop=smart&auto=webp&s=b4a12c1ce5caf70d921d785e922fe30055bfd198'}, {'y': 288, 'x': 216, 'u': 'https://preview.redd.it/eh1lhbe8kuk81.jpg?width=216&crop=smart&auto=webp&s=22bb6484da1610ec63291f01673708c487aa04ae'}, {'y': 426, 'x': 320, 'u': 'https://preview.redd.it/eh1lhbe8kuk81.jpg?width=320&crop=smart&auto=webp&s=31d601014de89b2b72c8ee3969e7b052ef4a433b'}, {'y': 853, 'x': 640, 'u': 'https://preview.redd.it/eh1lhbe8kuk81.jpg?width=640&crop=smart&auto=webp&s=7d1f77766b8690323ef09b96d5f7faba9caf1b1a'}, {'y': 1280, 'x': 960, 'u': 'https://preview.redd.it/eh1lhbe8kuk81.jpg?width=960&crop=smart&auto=webp&s=20d3ecfba41a314163eac2936e78123616728e80'}, {'y': 1440, 'x': 1080, 'u': 'https://preview.redd.it/eh1lhbe8kuk81.jpg?width=1080&crop=smart&auto=webp&s=cce112516fe5997887a5b59db2ff8e470bae5c0b'}], 's': {'y': 4032, 'x': 3024, 'u': 'https://preview.redd.it/eh1lhbe8kuk81.jpg?width=3024&format=pjpg&auto=webp&s=b6c10d625d5cd71b2e1239897535fe29bd607555'}, 'id': 'eh1lhbe8kuk81'}, 'hp1gmbe8kuk81': {'status': 'valid', 'e': 'Image', 'm': 'image/jpg', 'p': [{'y': 144, 'x': 108, 'u': 'https://preview.redd.it/hp1gmbe8kuk81.jpg?width=108&crop=smart&auto=webp&s=11e893cd727f2749f878a7c5bf72b5bb09a07e0e'}, {'y': 288, 'x': 216, 'u': 'https://preview.redd.it/hp1gmbe8kuk81.jpg?width=216&crop=smart&auto=webp&s=defd5967f6d8bb83f9ed5ea10bd38b58eb785266'}, {'y': 426, 'x': 320, 'u': 'https://preview.redd.it/hp1gmbe8kuk81.jpg?width=320&crop=smart&auto=webp&s=16b03bce994db9d435e290dfc5c4dade4a68c12b'}, {'y': 853, 'x': 640, 'u': 'https://preview.redd.it/hp1gmbe8kuk81.jpg?width=640&crop=smart&auto=webp&s=40dc8c5f8289f72eb54173e4fca757b1cb089749'}, {'y': 1280, 'x': 960, 'u': 'https://preview.redd.it/hp1gmbe8kuk81.jpg?width=960&crop=smart&auto=webp&s=2bf87ae3250726f4274a46cd139900c43658704c'}, {'y': 1440, 'x': 1080, 'u': 'https://preview.redd.it/hp1gmbe8kuk81.jpg?width=1080&crop=smart&auto=webp&s=9ffae1eab38d31c4b04ae8cbe5cbdeae129827f6'}], 's': {'y': 4032, 'x': 3024, 'u': 'https://preview.redd.it/hp1gmbe8kuk81.jpg?width=3024&format=pjpg&auto=webp&s=cee7d91729704155afdba4eb641f9d2d785c561b'}, 'id': 'hp1gmbe8kuk81'}}\n",
      "\n",
      "\n",
      "t3i3pd\t2022-02-28 16:26:36\tnot mold\t{'brdgv5rwdlk81': {'status': 'valid', 'e': 'Image', 'm': 'image/jpg', 'p': [{'y': 144, 'x': 108, 'u': 'https://preview.redd.it/brdgv5rwdlk81.jpg?width=108&crop=smart&auto=webp&s=691176292c53910555546d120e916a0b3a7e92f3'}, {'y': 288, 'x': 216, 'u': 'https://preview.redd.it/brdgv5rwdlk81.jpg?width=216&crop=smart&auto=webp&s=4dc2eec16561c4a39d7cb9465a3028ca572a0198'}, {'y': 426, 'x': 320, 'u': 'https://preview.redd.it/brdgv5rwdlk81.jpg?width=320&crop=smart&auto=webp&s=d8f80060c6651f024e7597ef587a568de46a777e'}, {'y': 853, 'x': 640, 'u': 'https://preview.redd.it/brdgv5rwdlk81.jpg?width=640&crop=smart&auto=webp&s=2d983b0dbeb09997a024730b3ff7923a31bdf976'}, {'y': 1280, 'x': 960, 'u': 'https://preview.redd.it/brdgv5rwdlk81.jpg?width=960&crop=smart&auto=webp&s=ede7344ad0e74d5e31bb65c441c5d13ebb5cd546'}, {'y': 1440, 'x': 1080, 'u': 'https://preview.redd.it/brdgv5rwdlk81.jpg?width=1080&crop=smart&auto=webp&s=ba0dec15d38ed3c22db11155984d5e071fad57dc'}], 's': {'y': 4032, 'x': 3024, 'u': 'https://preview.redd.it/brdgv5rwdlk81.jpg?width=3024&format=pjpg&auto=webp&s=7cec490c2602a8f1e0db0bf374da6deb0d026fca'}, 'id': 'brdgv5rwdlk81'}, 'bysx86rwdlk81': {'status': 'valid', 'e': 'Image', 'm': 'image/jpg', 'p': [{'y': 144, 'x': 108, 'u': 'https://preview.redd.it/bysx86rwdlk81.jpg?width=108&crop=smart&auto=webp&s=4337c80adddc65957db11b558ca4c95db8d8915d'}, {'y': 288, 'x': 216, 'u': 'https://preview.redd.it/bysx86rwdlk81.jpg?width=216&crop=smart&auto=webp&s=de1244326d2fee123f07e0ecef8c93a123a07f2c'}, {'y': 426, 'x': 320, 'u': 'https://preview.redd.it/bysx86rwdlk81.jpg?width=320&crop=smart&auto=webp&s=6227476ef9be76e368c58615eae9d74c21d174cd'}, {'y': 853, 'x': 640, 'u': 'https://preview.redd.it/bysx86rwdlk81.jpg?width=640&crop=smart&auto=webp&s=f2628111de62167fba8bcdf2906834ea545b12ee'}, {'y': 1280, 'x': 960, 'u': 'https://preview.redd.it/bysx86rwdlk81.jpg?width=960&crop=smart&auto=webp&s=6f07860be9b7db3b42ef533685b2e299321bf779'}, {'y': 1440, 'x': 1080, 'u': 'https://preview.redd.it/bysx86rwdlk81.jpg?width=1080&crop=smart&auto=webp&s=ed6f80eb0508d5f6307e42b70849744cffb32d91'}], 's': {'y': 4032, 'x': 3024, 'u': 'https://preview.redd.it/bysx86rwdlk81.jpg?width=3024&format=pjpg&auto=webp&s=6f5a7182eb7ce0d7a2fa6e36da5634dd23ad1b6b'}, 'id': 'bysx86rwdlk81'}, 'acw997rwdlk81': {'status': 'valid', 'e': 'Image', 'm': 'image/jpg', 'p': [{'y': 144, 'x': 108, 'u': 'https://preview.redd.it/acw997rwdlk81.jpg?width=108&crop=smart&auto=webp&s=cbaff0abddcbd767cb9255d1728073dad9a5a833'}, {'y': 288, 'x': 216, 'u': 'https://preview.redd.it/acw997rwdlk81.jpg?width=216&crop=smart&auto=webp&s=af4388bbf0e40e8e956af898a7ad7acf60dfee33'}, {'y': 426, 'x': 320, 'u': 'https://preview.redd.it/acw997rwdlk81.jpg?width=320&crop=smart&auto=webp&s=49199c0013007bbe8cd03bdf934b70ad79d22844'}, {'y': 853, 'x': 640, 'u': 'https://preview.redd.it/acw997rwdlk81.jpg?width=640&crop=smart&auto=webp&s=18cfbf12e884249a0fc134995bd06ed3eda39410'}, {'y': 1280, 'x': 960, 'u': 'https://preview.redd.it/acw997rwdlk81.jpg?width=960&crop=smart&auto=webp&s=55b1cf718c1c78a10ae80d9c9d6a33cf30ea548e'}, {'y': 1440, 'x': 1080, 'u': 'https://preview.redd.it/acw997rwdlk81.jpg?width=1080&crop=smart&auto=webp&s=da1cd23836af569a4d6fae6070d66985ca38d62a'}], 's': {'y': 4032, 'x': 3024, 'u': 'https://preview.redd.it/acw997rwdlk81.jpg?width=3024&format=pjpg&auto=webp&s=7caa051ba6fc30d7b233ced8ab9207dbc5f4d6c3'}, 'id': 'acw997rwdlk81'}}\n",
      "\n",
      "\n"
     ]
    },
    {
     "ename": "AttributeError",
     "evalue": "'Submission' object has no attribute 'media_metadata'",
     "output_type": "error",
     "traceback": [
      "\u001b[0;31m---------------------------------------------------------------------------\u001b[0m",
      "\u001b[0;31mAttributeError\u001b[0m                            Traceback (most recent call last)",
      "\u001b[1;32m/Users/guus/Documents/Code/is-it-mould/test_scraping.ipynb Cell 14'\u001b[0m in \u001b[0;36m<cell line: 8>\u001b[0;34m()\u001b[0m\n\u001b[1;32m      <a href='vscode-notebook-cell:/Users/guus/Documents/Code/is-it-mould/test_scraping.ipynb#ch0000014?line=6'>7</a>\u001b[0m \u001b[39mprint\u001b[39m(\u001b[39m\"\u001b[39m\u001b[39mid\u001b[39m\u001b[39m\\t\u001b[39;00m\u001b[39mtimestamp\u001b[39m\u001b[39m\\t\u001b[39;00m\u001b[39mflair\u001b[39m\u001b[39m\\t\u001b[39;00m\u001b[39murl\u001b[39m\u001b[39m\"\u001b[39m)\n\u001b[1;32m      <a href='vscode-notebook-cell:/Users/guus/Documents/Code/is-it-mould/test_scraping.ipynb#ch0000014?line=7'>8</a>\u001b[0m \u001b[39mfor\u001b[39;00m post \u001b[39min\u001b[39;00m mold_posts:\n\u001b[1;32m      <a href='vscode-notebook-cell:/Users/guus/Documents/Code/is-it-mould/test_scraping.ipynb#ch0000014?line=8'>9</a>\u001b[0m     \u001b[39m#print(dir(post))\u001b[39;00m\n\u001b[1;32m     <a href='vscode-notebook-cell:/Users/guus/Documents/Code/is-it-mould/test_scraping.ipynb#ch0000014?line=9'>10</a>\u001b[0m     \u001b[39m#break\u001b[39;00m\n\u001b[0;32m---> <a href='vscode-notebook-cell:/Users/guus/Documents/Code/is-it-mould/test_scraping.ipynb#ch0000014?line=10'>11</a>\u001b[0m     attrs \u001b[39m=\u001b[39m (post\u001b[39m.\u001b[39mid, get_date(post), post\u001b[39m.\u001b[39mlink_flair_text, post\u001b[39m.\u001b[39;49mmedia_metadata)\n\u001b[1;32m     <a href='vscode-notebook-cell:/Users/guus/Documents/Code/is-it-mould/test_scraping.ipynb#ch0000014?line=11'>12</a>\u001b[0m     \u001b[39mprint\u001b[39m(\u001b[39m\"\u001b[39m\u001b[39m%s\u001b[39;00m\u001b[39m\\t\u001b[39;00m\u001b[39m%s\u001b[39;00m\u001b[39m\\t\u001b[39;00m\u001b[39m%s\u001b[39;00m\u001b[39m\\t\u001b[39;00m\u001b[39m%s\u001b[39;00m\u001b[39m\\n\u001b[39;00m\u001b[39m\\n\u001b[39;00m\u001b[39m\"\u001b[39m \u001b[39m%\u001b[39m attrs)\n",
      "File \u001b[0;32m~/miniconda3/envs/praw/lib/python3.10/site-packages/praw/models/reddit/base.py:35\u001b[0m, in \u001b[0;36mRedditBase.__getattr__\u001b[0;34m(self, attribute)\u001b[0m\n\u001b[1;32m     <a href='file:///Users/guus/miniconda3/envs/praw/lib/python3.10/site-packages/praw/models/reddit/base.py?line=32'>33</a>\u001b[0m \u001b[39mif\u001b[39;00m \u001b[39mnot\u001b[39;00m attribute\u001b[39m.\u001b[39mstartswith(\u001b[39m\"\u001b[39m\u001b[39m_\u001b[39m\u001b[39m\"\u001b[39m) \u001b[39mand\u001b[39;00m \u001b[39mnot\u001b[39;00m \u001b[39mself\u001b[39m\u001b[39m.\u001b[39m_fetched:\n\u001b[1;32m     <a href='file:///Users/guus/miniconda3/envs/praw/lib/python3.10/site-packages/praw/models/reddit/base.py?line=33'>34</a>\u001b[0m     \u001b[39mself\u001b[39m\u001b[39m.\u001b[39m_fetch()\n\u001b[0;32m---> <a href='file:///Users/guus/miniconda3/envs/praw/lib/python3.10/site-packages/praw/models/reddit/base.py?line=34'>35</a>\u001b[0m     \u001b[39mreturn\u001b[39;00m \u001b[39mgetattr\u001b[39;49m(\u001b[39mself\u001b[39;49m, attribute)\n\u001b[1;32m     <a href='file:///Users/guus/miniconda3/envs/praw/lib/python3.10/site-packages/praw/models/reddit/base.py?line=35'>36</a>\u001b[0m \u001b[39mraise\u001b[39;00m \u001b[39mAttributeError\u001b[39;00m(\n\u001b[1;32m     <a href='file:///Users/guus/miniconda3/envs/praw/lib/python3.10/site-packages/praw/models/reddit/base.py?line=36'>37</a>\u001b[0m     \u001b[39mf\u001b[39m\u001b[39m\"\u001b[39m\u001b[39m{\u001b[39;00m\u001b[39mself\u001b[39m\u001b[39m.\u001b[39m\u001b[39m__class__\u001b[39m\u001b[39m.\u001b[39m\u001b[39m__name__\u001b[39m\u001b[39m!r}\u001b[39;00m\u001b[39m object has no attribute \u001b[39m\u001b[39m{\u001b[39;00mattribute\u001b[39m!r}\u001b[39;00m\u001b[39m\"\u001b[39m\n\u001b[1;32m     <a href='file:///Users/guus/miniconda3/envs/praw/lib/python3.10/site-packages/praw/models/reddit/base.py?line=37'>38</a>\u001b[0m )\n",
      "File \u001b[0;32m~/miniconda3/envs/praw/lib/python3.10/site-packages/praw/models/reddit/base.py:36\u001b[0m, in \u001b[0;36mRedditBase.__getattr__\u001b[0;34m(self, attribute)\u001b[0m\n\u001b[1;32m     <a href='file:///Users/guus/miniconda3/envs/praw/lib/python3.10/site-packages/praw/models/reddit/base.py?line=33'>34</a>\u001b[0m     \u001b[39mself\u001b[39m\u001b[39m.\u001b[39m_fetch()\n\u001b[1;32m     <a href='file:///Users/guus/miniconda3/envs/praw/lib/python3.10/site-packages/praw/models/reddit/base.py?line=34'>35</a>\u001b[0m     \u001b[39mreturn\u001b[39;00m \u001b[39mgetattr\u001b[39m(\u001b[39mself\u001b[39m, attribute)\n\u001b[0;32m---> <a href='file:///Users/guus/miniconda3/envs/praw/lib/python3.10/site-packages/praw/models/reddit/base.py?line=35'>36</a>\u001b[0m \u001b[39mraise\u001b[39;00m \u001b[39mAttributeError\u001b[39;00m(\n\u001b[1;32m     <a href='file:///Users/guus/miniconda3/envs/praw/lib/python3.10/site-packages/praw/models/reddit/base.py?line=36'>37</a>\u001b[0m     \u001b[39mf\u001b[39m\u001b[39m\"\u001b[39m\u001b[39m{\u001b[39;00m\u001b[39mself\u001b[39m\u001b[39m.\u001b[39m\u001b[39m__class__\u001b[39m\u001b[39m.\u001b[39m\u001b[39m__name__\u001b[39m\u001b[39m!r}\u001b[39;00m\u001b[39m object has no attribute \u001b[39m\u001b[39m{\u001b[39;00mattribute\u001b[39m!r}\u001b[39;00m\u001b[39m\"\u001b[39m\n\u001b[1;32m     <a href='file:///Users/guus/miniconda3/envs/praw/lib/python3.10/site-packages/praw/models/reddit/base.py?line=37'>38</a>\u001b[0m )\n",
      "\u001b[0;31mAttributeError\u001b[0m: 'Submission' object has no attribute 'media_metadata'"
     ]
    }
   ],
   "source": [
    "mold_posts = reddit.subreddit('kombucha').search(\n",
    "    query='flair:\"*mold*\"', \n",
    "    sort='new', \n",
    "    limit = 5, \n",
    "    syntax='lucene')\n",
    "print(\"\\nLast 5 mold or not mold posts from the kombucha reddit:\\n\")\n",
    "print(\"id\\ttimestamp\\tflair\\turl\")\n",
    "for post in mold_posts:\n",
    "    #print(dir(post))\n",
    "    #break\n",
    "    attrs = (post.id, get_date(post), post.link_flair_text, post.media_metadata)\n",
    "    print(\"%s\\t%s\\t%s\\t%s\\n\\n\" % attrs)"
   ]
  },
  {
   "cell_type": "markdown",
   "metadata": {},
   "source": [
    "This returns an error, because one of the submissions doesn't have `media_metadata`. It seems that this is the post that pointed directly to an URL. Can we avoid this problem by checking if the URL point to an image?"
   ]
  },
  {
   "cell_type": "code",
   "execution_count": 109,
   "metadata": {},
   "outputs": [
    {
     "name": "stdout",
     "output_type": "stream",
     "text": [
      "\n",
      "Last 5 mold or not mold posts from the kombucha reddit:\n",
      "\n",
      "id\ttimestamp\tflair\turl\n",
      "t6a39m\t2022-03-04 05:03:15\tnot mold\t{'5ik11nnmjal81': {'status': 'valid', 'e': 'Image', 'm': 'image/jpg', 'p': [{'y': 192, 'x': 108, 'u': 'https://preview.redd.it/5ik11nnmjal81.jpg?width=108&crop=smart&auto=webp&s=a9a3d6ad8eebfc9cd31e14e400b1f691d7d5372f'}, {'y': 384, 'x': 216, 'u': 'https://preview.redd.it/5ik11nnmjal81.jpg?width=216&crop=smart&auto=webp&s=4de944ecc985afad908ca87a1d0cd4ed4840d78b'}, {'y': 568, 'x': 320, 'u': 'https://preview.redd.it/5ik11nnmjal81.jpg?width=320&crop=smart&auto=webp&s=de608d065ee8d9249989fff3f0d5bef50803501b'}, {'y': 1137, 'x': 640, 'u': 'https://preview.redd.it/5ik11nnmjal81.jpg?width=640&crop=smart&auto=webp&s=66884928f830099b8ba674e953a4ff63d6d82b77'}, {'y': 1706, 'x': 960, 'u': 'https://preview.redd.it/5ik11nnmjal81.jpg?width=960&crop=smart&auto=webp&s=27453143cb7b5dc12b48543c99c914eea151d657'}, {'y': 1920, 'x': 1080, 'u': 'https://preview.redd.it/5ik11nnmjal81.jpg?width=1080&crop=smart&auto=webp&s=22ef4d6930272517198aa52cc62cc728ebbff210'}], 's': {'y': 4032, 'x': 2268, 'u': 'https://preview.redd.it/5ik11nnmjal81.jpg?width=2268&format=pjpg&auto=webp&s=bc64f6eeb7a9a510df20a3fcb9c93ae882a8f0fe'}, 'id': '5ik11nnmjal81'}, 'hdkxlonmjal81': {'status': 'valid', 'e': 'Image', 'm': 'image/jpg', 'p': [{'y': 192, 'x': 108, 'u': 'https://preview.redd.it/hdkxlonmjal81.jpg?width=108&crop=smart&auto=webp&s=e595058e9917bdf9da6d5ac05479ef63a1133107'}, {'y': 384, 'x': 216, 'u': 'https://preview.redd.it/hdkxlonmjal81.jpg?width=216&crop=smart&auto=webp&s=f0ff80c63b32f22a4cd730f74b820cc5a189b9c3'}, {'y': 568, 'x': 320, 'u': 'https://preview.redd.it/hdkxlonmjal81.jpg?width=320&crop=smart&auto=webp&s=d828708bc99f96230080cd45d6ac88a6399a3fd1'}, {'y': 1137, 'x': 640, 'u': 'https://preview.redd.it/hdkxlonmjal81.jpg?width=640&crop=smart&auto=webp&s=4424daa9cae3eab188a7887bf1ac371738ff6954'}, {'y': 1706, 'x': 960, 'u': 'https://preview.redd.it/hdkxlonmjal81.jpg?width=960&crop=smart&auto=webp&s=9be4271fe54ea749c8ac99c0c20e64678e4a98ae'}, {'y': 1920, 'x': 1080, 'u': 'https://preview.redd.it/hdkxlonmjal81.jpg?width=1080&crop=smart&auto=webp&s=5991b8d7b5f2d9797557d7947b0a6f86b414c0c1'}], 's': {'y': 4032, 'x': 2268, 'u': 'https://preview.redd.it/hdkxlonmjal81.jpg?width=2268&format=pjpg&auto=webp&s=1890eced03d9199751ca813fac984138367ce3e5'}, 'id': 'hdkxlonmjal81'}}\n",
      "\n",
      "\n",
      "t4k01s\t2022-03-01 23:18:08\tmold!\t{'eh1lhbe8kuk81': {'status': 'valid', 'e': 'Image', 'm': 'image/jpg', 'p': [{'y': 144, 'x': 108, 'u': 'https://preview.redd.it/eh1lhbe8kuk81.jpg?width=108&crop=smart&auto=webp&s=b4a12c1ce5caf70d921d785e922fe30055bfd198'}, {'y': 288, 'x': 216, 'u': 'https://preview.redd.it/eh1lhbe8kuk81.jpg?width=216&crop=smart&auto=webp&s=22bb6484da1610ec63291f01673708c487aa04ae'}, {'y': 426, 'x': 320, 'u': 'https://preview.redd.it/eh1lhbe8kuk81.jpg?width=320&crop=smart&auto=webp&s=31d601014de89b2b72c8ee3969e7b052ef4a433b'}, {'y': 853, 'x': 640, 'u': 'https://preview.redd.it/eh1lhbe8kuk81.jpg?width=640&crop=smart&auto=webp&s=7d1f77766b8690323ef09b96d5f7faba9caf1b1a'}, {'y': 1280, 'x': 960, 'u': 'https://preview.redd.it/eh1lhbe8kuk81.jpg?width=960&crop=smart&auto=webp&s=20d3ecfba41a314163eac2936e78123616728e80'}, {'y': 1440, 'x': 1080, 'u': 'https://preview.redd.it/eh1lhbe8kuk81.jpg?width=1080&crop=smart&auto=webp&s=cce112516fe5997887a5b59db2ff8e470bae5c0b'}], 's': {'y': 4032, 'x': 3024, 'u': 'https://preview.redd.it/eh1lhbe8kuk81.jpg?width=3024&format=pjpg&auto=webp&s=b6c10d625d5cd71b2e1239897535fe29bd607555'}, 'id': 'eh1lhbe8kuk81'}, 'hp1gmbe8kuk81': {'status': 'valid', 'e': 'Image', 'm': 'image/jpg', 'p': [{'y': 144, 'x': 108, 'u': 'https://preview.redd.it/hp1gmbe8kuk81.jpg?width=108&crop=smart&auto=webp&s=11e893cd727f2749f878a7c5bf72b5bb09a07e0e'}, {'y': 288, 'x': 216, 'u': 'https://preview.redd.it/hp1gmbe8kuk81.jpg?width=216&crop=smart&auto=webp&s=defd5967f6d8bb83f9ed5ea10bd38b58eb785266'}, {'y': 426, 'x': 320, 'u': 'https://preview.redd.it/hp1gmbe8kuk81.jpg?width=320&crop=smart&auto=webp&s=16b03bce994db9d435e290dfc5c4dade4a68c12b'}, {'y': 853, 'x': 640, 'u': 'https://preview.redd.it/hp1gmbe8kuk81.jpg?width=640&crop=smart&auto=webp&s=40dc8c5f8289f72eb54173e4fca757b1cb089749'}, {'y': 1280, 'x': 960, 'u': 'https://preview.redd.it/hp1gmbe8kuk81.jpg?width=960&crop=smart&auto=webp&s=2bf87ae3250726f4274a46cd139900c43658704c'}, {'y': 1440, 'x': 1080, 'u': 'https://preview.redd.it/hp1gmbe8kuk81.jpg?width=1080&crop=smart&auto=webp&s=9ffae1eab38d31c4b04ae8cbe5cbdeae129827f6'}], 's': {'y': 4032, 'x': 3024, 'u': 'https://preview.redd.it/hp1gmbe8kuk81.jpg?width=3024&format=pjpg&auto=webp&s=cee7d91729704155afdba4eb641f9d2d785c561b'}, 'id': 'hp1gmbe8kuk81'}}\n",
      "\n",
      "\n",
      "t3i3pd\t2022-02-28 16:26:36\tnot mold\t{'brdgv5rwdlk81': {'status': 'valid', 'e': 'Image', 'm': 'image/jpg', 'p': [{'y': 144, 'x': 108, 'u': 'https://preview.redd.it/brdgv5rwdlk81.jpg?width=108&crop=smart&auto=webp&s=691176292c53910555546d120e916a0b3a7e92f3'}, {'y': 288, 'x': 216, 'u': 'https://preview.redd.it/brdgv5rwdlk81.jpg?width=216&crop=smart&auto=webp&s=4dc2eec16561c4a39d7cb9465a3028ca572a0198'}, {'y': 426, 'x': 320, 'u': 'https://preview.redd.it/brdgv5rwdlk81.jpg?width=320&crop=smart&auto=webp&s=d8f80060c6651f024e7597ef587a568de46a777e'}, {'y': 853, 'x': 640, 'u': 'https://preview.redd.it/brdgv5rwdlk81.jpg?width=640&crop=smart&auto=webp&s=2d983b0dbeb09997a024730b3ff7923a31bdf976'}, {'y': 1280, 'x': 960, 'u': 'https://preview.redd.it/brdgv5rwdlk81.jpg?width=960&crop=smart&auto=webp&s=ede7344ad0e74d5e31bb65c441c5d13ebb5cd546'}, {'y': 1440, 'x': 1080, 'u': 'https://preview.redd.it/brdgv5rwdlk81.jpg?width=1080&crop=smart&auto=webp&s=ba0dec15d38ed3c22db11155984d5e071fad57dc'}], 's': {'y': 4032, 'x': 3024, 'u': 'https://preview.redd.it/brdgv5rwdlk81.jpg?width=3024&format=pjpg&auto=webp&s=7cec490c2602a8f1e0db0bf374da6deb0d026fca'}, 'id': 'brdgv5rwdlk81'}, 'bysx86rwdlk81': {'status': 'valid', 'e': 'Image', 'm': 'image/jpg', 'p': [{'y': 144, 'x': 108, 'u': 'https://preview.redd.it/bysx86rwdlk81.jpg?width=108&crop=smart&auto=webp&s=4337c80adddc65957db11b558ca4c95db8d8915d'}, {'y': 288, 'x': 216, 'u': 'https://preview.redd.it/bysx86rwdlk81.jpg?width=216&crop=smart&auto=webp&s=de1244326d2fee123f07e0ecef8c93a123a07f2c'}, {'y': 426, 'x': 320, 'u': 'https://preview.redd.it/bysx86rwdlk81.jpg?width=320&crop=smart&auto=webp&s=6227476ef9be76e368c58615eae9d74c21d174cd'}, {'y': 853, 'x': 640, 'u': 'https://preview.redd.it/bysx86rwdlk81.jpg?width=640&crop=smart&auto=webp&s=f2628111de62167fba8bcdf2906834ea545b12ee'}, {'y': 1280, 'x': 960, 'u': 'https://preview.redd.it/bysx86rwdlk81.jpg?width=960&crop=smart&auto=webp&s=6f07860be9b7db3b42ef533685b2e299321bf779'}, {'y': 1440, 'x': 1080, 'u': 'https://preview.redd.it/bysx86rwdlk81.jpg?width=1080&crop=smart&auto=webp&s=ed6f80eb0508d5f6307e42b70849744cffb32d91'}], 's': {'y': 4032, 'x': 3024, 'u': 'https://preview.redd.it/bysx86rwdlk81.jpg?width=3024&format=pjpg&auto=webp&s=6f5a7182eb7ce0d7a2fa6e36da5634dd23ad1b6b'}, 'id': 'bysx86rwdlk81'}, 'acw997rwdlk81': {'status': 'valid', 'e': 'Image', 'm': 'image/jpg', 'p': [{'y': 144, 'x': 108, 'u': 'https://preview.redd.it/acw997rwdlk81.jpg?width=108&crop=smart&auto=webp&s=cbaff0abddcbd767cb9255d1728073dad9a5a833'}, {'y': 288, 'x': 216, 'u': 'https://preview.redd.it/acw997rwdlk81.jpg?width=216&crop=smart&auto=webp&s=af4388bbf0e40e8e956af898a7ad7acf60dfee33'}, {'y': 426, 'x': 320, 'u': 'https://preview.redd.it/acw997rwdlk81.jpg?width=320&crop=smart&auto=webp&s=49199c0013007bbe8cd03bdf934b70ad79d22844'}, {'y': 853, 'x': 640, 'u': 'https://preview.redd.it/acw997rwdlk81.jpg?width=640&crop=smart&auto=webp&s=18cfbf12e884249a0fc134995bd06ed3eda39410'}, {'y': 1280, 'x': 960, 'u': 'https://preview.redd.it/acw997rwdlk81.jpg?width=960&crop=smart&auto=webp&s=55b1cf718c1c78a10ae80d9c9d6a33cf30ea548e'}, {'y': 1440, 'x': 1080, 'u': 'https://preview.redd.it/acw997rwdlk81.jpg?width=1080&crop=smart&auto=webp&s=da1cd23836af569a4d6fae6070d66985ca38d62a'}], 's': {'y': 4032, 'x': 3024, 'u': 'https://preview.redd.it/acw997rwdlk81.jpg?width=3024&format=pjpg&auto=webp&s=7caa051ba6fc30d7b233ced8ab9207dbc5f4d6c3'}, 'id': 'acw997rwdlk81'}}\n",
      "\n",
      "\n",
      "t2cb8t\t2022-02-27 02:17:09\tnot mold\thttps://i.redd.it/sry5fwcf1ak81.jpg\n",
      "\n",
      "\n",
      "t11wwj\t2022-02-25 12:34:45\tnot mold\t{'y7yzo8dstyj81': {'status': 'valid', 'e': 'Image', 'm': 'image/jpg', 'p': [{'y': 144, 'x': 108, 'u': 'https://preview.redd.it/y7yzo8dstyj81.jpg?width=108&crop=smart&auto=webp&s=3822a7da5d36e00fe646d6f94387dc9792f1bd50'}, {'y': 288, 'x': 216, 'u': 'https://preview.redd.it/y7yzo8dstyj81.jpg?width=216&crop=smart&auto=webp&s=4a049ddf7dd9b2eeb66dce00bc5b16208a874267'}, {'y': 426, 'x': 320, 'u': 'https://preview.redd.it/y7yzo8dstyj81.jpg?width=320&crop=smart&auto=webp&s=080d5523b0f13b13fbaf1c13a828b49bb08b3bb9'}, {'y': 853, 'x': 640, 'u': 'https://preview.redd.it/y7yzo8dstyj81.jpg?width=640&crop=smart&auto=webp&s=e3e859296c8507d9505809cfd13be0530bc39b01'}, {'y': 1280, 'x': 960, 'u': 'https://preview.redd.it/y7yzo8dstyj81.jpg?width=960&crop=smart&auto=webp&s=463421d4e9407f2920adfc9e3f0aa1530966bd86'}, {'y': 1440, 'x': 1080, 'u': 'https://preview.redd.it/y7yzo8dstyj81.jpg?width=1080&crop=smart&auto=webp&s=ba4c0d4e519e7b9709f7b9fe3c232a1916670a62'}], 's': {'y': 4032, 'x': 3024, 'u': 'https://preview.redd.it/y7yzo8dstyj81.jpg?width=3024&format=pjpg&auto=webp&s=dd58be81bc120e2a2226416e3b412a22ae42fbcf'}, 'id': 'y7yzo8dstyj81'}, 'cyx119dstyj81': {'status': 'valid', 'e': 'Image', 'm': 'image/jpg', 'p': [{'y': 144, 'x': 108, 'u': 'https://preview.redd.it/cyx119dstyj81.jpg?width=108&crop=smart&auto=webp&s=7b36d952d1b0b7a7c3be7b1bf74742457656e95d'}, {'y': 288, 'x': 216, 'u': 'https://preview.redd.it/cyx119dstyj81.jpg?width=216&crop=smart&auto=webp&s=005facc50dfa50a63c29ad99616d756f94d75b80'}, {'y': 426, 'x': 320, 'u': 'https://preview.redd.it/cyx119dstyj81.jpg?width=320&crop=smart&auto=webp&s=ee1c8db40187b5ddad47da4fc3d897cb85a90384'}, {'y': 853, 'x': 640, 'u': 'https://preview.redd.it/cyx119dstyj81.jpg?width=640&crop=smart&auto=webp&s=05cf912587c90c389a335ca5db30f64e586ea64c'}, {'y': 1280, 'x': 960, 'u': 'https://preview.redd.it/cyx119dstyj81.jpg?width=960&crop=smart&auto=webp&s=ab7a66707f4ff51ce42755d20c4522df27d5b79d'}, {'y': 1440, 'x': 1080, 'u': 'https://preview.redd.it/cyx119dstyj81.jpg?width=1080&crop=smart&auto=webp&s=aa32c246214813da0cc3e2bc34cf366983e107ca'}], 's': {'y': 4032, 'x': 3024, 'u': 'https://preview.redd.it/cyx119dstyj81.jpg?width=3024&format=pjpg&auto=webp&s=bc4eafdf07bbc0aa2c57b52bc23aa2615dd402a5'}, 'id': 'cyx119dstyj81'}}\n",
      "\n",
      "\n"
     ]
    }
   ],
   "source": [
    "mold_posts = reddit.subreddit('kombucha').search(\n",
    "    query='flair:\"*mold*\"', \n",
    "    sort='new', \n",
    "    limit = 5, \n",
    "    syntax='lucene')\n",
    "print(\"\\nLast 5 mold or not mold posts from the kombucha reddit:\\n\")\n",
    "print(\"id\\ttimestamp\\tflair\\turl\")\n",
    "for post in mold_posts:\n",
    "    if post.url.endswith(('.jpg', '.png', '.gif', '.jpeg')):\n",
    "        attrs = (post.id, get_date(post), post.link_flair_text, post.url)\n",
    "    else:\n",
    "        attrs = (post.id, get_date(post), post.link_flair_text, post.media_metadata)\n",
    "    print(\"%s\\t%s\\t%s\\t%s\\n\\n\" % attrs)"
   ]
  },
  {
   "cell_type": "markdown",
   "metadata": {},
   "source": [
    "Success! Although it's probably safest to still check whether the `media_metadata` attribute exists once we develop our true scraper."
   ]
  },
  {
   "cell_type": "markdown",
   "metadata": {},
   "source": [
    "## Parse the `media_metadata`\n",
    "Now that we know that the image URLs can be stored in the `media_metadata` attribute, it's time to get the image URLs out. It seems that the the `media_metadata` attribute is a dict, which contains one name:value pair per image, and that for each image, many links to different images sizes are created in the `p` name:value pair. Another link is stored in the `s` key:value pair, which appears not to be scaled, so I assume that this is the original submission. For now, let's select these URLs, although for our classifier purposes, they are much too large, and we may choose to select a resized image (e.g. `x = 1080`)."
   ]
  },
  {
   "cell_type": "code",
   "execution_count": 175,
   "metadata": {},
   "outputs": [
    {
     "name": "stdout",
     "output_type": "stream",
     "text": [
      "\n",
      "Last 5 mold or not mold posts from the kombucha reddit:\n",
      "\n",
      "id\ttimestamp\tflair\turl\n",
      "t6a39m\t2022-03-04 05:03:15\tnot mold\thttps://preview.redd.it/5ik11nnmjal81.jpg?width=2268&format=pjpg&auto=webp&s=bc64f6eeb7a9a510df20a3fcb9c93ae882a8f0fe\n",
      "t6a39m\t2022-03-04 05:03:15\tnot mold\thttps://preview.redd.it/hdkxlonmjal81.jpg?width=2268&format=pjpg&auto=webp&s=1890eced03d9199751ca813fac984138367ce3e5\n",
      "t4k01s\t2022-03-01 23:18:08\tmold!\thttps://preview.redd.it/eh1lhbe8kuk81.jpg?width=3024&format=pjpg&auto=webp&s=b6c10d625d5cd71b2e1239897535fe29bd607555\n",
      "t4k01s\t2022-03-01 23:18:08\tmold!\thttps://preview.redd.it/hp1gmbe8kuk81.jpg?width=3024&format=pjpg&auto=webp&s=cee7d91729704155afdba4eb641f9d2d785c561b\n",
      "t3i3pd\t2022-02-28 16:26:36\tnot mold\thttps://preview.redd.it/brdgv5rwdlk81.jpg?width=3024&format=pjpg&auto=webp&s=7cec490c2602a8f1e0db0bf374da6deb0d026fca\n",
      "t3i3pd\t2022-02-28 16:26:36\tnot mold\thttps://preview.redd.it/bysx86rwdlk81.jpg?width=3024&format=pjpg&auto=webp&s=6f5a7182eb7ce0d7a2fa6e36da5634dd23ad1b6b\n",
      "t3i3pd\t2022-02-28 16:26:36\tnot mold\thttps://preview.redd.it/acw997rwdlk81.jpg?width=3024&format=pjpg&auto=webp&s=7caa051ba6fc30d7b233ced8ab9207dbc5f4d6c3\n",
      "t2cb8t\t2022-02-27 02:17:09\tnot mold\thttps://i.redd.it/sry5fwcf1ak81.jpg\n",
      "t11wwj\t2022-02-25 12:34:45\tnot mold\thttps://preview.redd.it/y7yzo8dstyj81.jpg?width=3024&format=pjpg&auto=webp&s=dd58be81bc120e2a2226416e3b412a22ae42fbcf\n",
      "t11wwj\t2022-02-25 12:34:45\tnot mold\thttps://preview.redd.it/cyx119dstyj81.jpg?width=3024&format=pjpg&auto=webp&s=bc4eafdf07bbc0aa2c57b52bc23aa2615dd402a5\n",
      "t0n4vh\t2022-02-24 23:20:59\tnot mold\thttps://preview.redd.it/jknj4zr6wuj81.jpg?width=3072&format=pjpg&auto=webp&s=dc139867610bcd97a70c5f530e71b5a7c4bd87ec\n",
      "t0n4vh\t2022-02-24 23:20:59\tnot mold\thttps://preview.redd.it/qbmw01x6wuj81.jpg?width=3072&format=pjpg&auto=webp&s=df3aa4f56283608052fc2427cc027f6481499cce\n",
      "t0n4vh\t2022-02-24 23:20:59\tnot mold\thttps://preview.redd.it/1a8l2v07wuj81.jpg?width=3072&format=pjpg&auto=webp&s=e344f981611449c6c0f5b0f5c4ec60885c6b47c3\n",
      "t05i3u\t2022-02-24 08:58:56\tmold!\thttps://i.redd.it/dm980jb9mqj81.jpg\n",
      "sz7n44\t2022-02-23 04:58:16\tnot mold\thttps://preview.redd.it/fmnjv3ljaij81.jpg?width=3024&format=pjpg&auto=webp&s=4e79a49363f7527894c2c999d374fd529effc84e\n",
      "sz7n44\t2022-02-23 04:58:16\tnot mold\thttps://preview.redd.it/sp05n3ljaij81.jpg?width=3024&format=pjpg&auto=webp&s=ee317d603d3f9406faeb08854147529b9862ca1b\n",
      "sz7n44\t2022-02-23 04:58:16\tnot mold\thttps://preview.redd.it/35txp3ljaij81.jpg?width=3024&format=pjpg&auto=webp&s=33f28d2b55ed3645481af78c26979033c8b0de7d\n",
      "syzoqz\t2022-02-22 23:01:48\tnot mold\thttps://preview.redd.it/7ltkxfvxigj81.jpg?width=3024&format=pjpg&auto=webp&s=360ad0847f9c17bbd3956ced2c3e4c0810f43ffa\n",
      "syzoqz\t2022-02-22 23:01:48\tnot mold\thttps://preview.redd.it/4nb65gvxigj81.jpg?width=3024&format=pjpg&auto=webp&s=aa53b8b8e4f73a391c6acfd12d77b0e53efaea1c\n"
     ]
    }
   ],
   "source": [
    "mold_posts = reddit.subreddit('kombucha').search(\n",
    "    query='flair:\"*mold*\"', \n",
    "    sort='new', \n",
    "    limit = 10, \n",
    "    syntax='lucene')\n",
    "print(\"\\nLast 5 mold or not mold posts from the kombucha reddit:\\n\")\n",
    "print(\"id\\ttimestamp\\tflair\\turl\")\n",
    "for post in mold_posts:\n",
    "    if post.url.endswith(('.jpg', '.png', '.gif', '.jpeg')):\n",
    "        attrs = (post.id, get_date(post), post.link_flair_text, post.url)\n",
    "        print(\"%s\\t%s\\t%s\\t%s\" % attrs)\n",
    "    else:\n",
    "        attrs = (post.id, get_date(post), post.link_flair_text)\n",
    "        try:\n",
    "            media_metadata = post.media_metadata\n",
    "            for id in media_metadata.keys():\n",
    "                url = media_metadata[id][\"s\"][\"u\"]\n",
    "                sub_attrs = attrs + (url,)\n",
    "                print(\"%s\\t%s\\t%s\\t%s\" % sub_attrs)\n",
    "        except AttributeError:\n",
    "            # Most likely a video - skip\n",
    "            continue"
   ]
  },
  {
   "cell_type": "markdown",
   "metadata": {},
   "source": [
    "# Download and store images\n",
    "Now we have URLs to a bunch of images (sometimes multiple from the same post) and their classification. Let's see if we can download these images using `urllib` requests."
   ]
  },
  {
   "cell_type": "code",
   "execution_count": 171,
   "metadata": {},
   "outputs": [
    {
     "ename": "AttributeError",
     "evalue": "'Submission' object has no attribute 'media_metadata'",
     "output_type": "error",
     "traceback": [
      "\u001b[0;31m---------------------------------------------------------------------------\u001b[0m",
      "\u001b[0;31mAttributeError\u001b[0m                            Traceback (most recent call last)",
      "\u001b[1;32m/Users/guus/Documents/Code/is-it-mould/test_scraping.ipynb Cell 22'\u001b[0m in \u001b[0;36m<cell line: 27>\u001b[0;34m()\u001b[0m\n\u001b[1;32m     <a href='vscode-notebook-cell:/Users/guus/Documents/Code/is-it-mould/test_scraping.ipynb#ch0000032?line=39'>40</a>\u001b[0m \u001b[39melse\u001b[39;00m:\n\u001b[1;32m     <a href='vscode-notebook-cell:/Users/guus/Documents/Code/is-it-mould/test_scraping.ipynb#ch0000032?line=40'>41</a>\u001b[0m     attrs \u001b[39m=\u001b[39m (post\u001b[39m.\u001b[39mid, get_date(post), post\u001b[39m.\u001b[39mlink_flair_text)\n\u001b[0;32m---> <a href='vscode-notebook-cell:/Users/guus/Documents/Code/is-it-mould/test_scraping.ipynb#ch0000032?line=41'>42</a>\u001b[0m     media_metadata \u001b[39m=\u001b[39m post\u001b[39m.\u001b[39;49mmedia_metadata\n\u001b[1;32m     <a href='vscode-notebook-cell:/Users/guus/Documents/Code/is-it-mould/test_scraping.ipynb#ch0000032?line=42'>43</a>\u001b[0m     \u001b[39mfor\u001b[39;00m \u001b[39mid\u001b[39m \u001b[39min\u001b[39;00m media_metadata\u001b[39m.\u001b[39mkeys():\n\u001b[1;32m     <a href='vscode-notebook-cell:/Users/guus/Documents/Code/is-it-mould/test_scraping.ipynb#ch0000032?line=43'>44</a>\u001b[0m         url \u001b[39m=\u001b[39m media_metadata[\u001b[39mid\u001b[39m][\u001b[39m\"\u001b[39m\u001b[39ms\u001b[39m\u001b[39m\"\u001b[39m][\u001b[39m\"\u001b[39m\u001b[39mu\u001b[39m\u001b[39m\"\u001b[39m]\n",
      "File \u001b[0;32m~/miniconda3/envs/praw/lib/python3.10/site-packages/praw/models/reddit/base.py:35\u001b[0m, in \u001b[0;36mRedditBase.__getattr__\u001b[0;34m(self, attribute)\u001b[0m\n\u001b[1;32m     <a href='file:///Users/guus/miniconda3/envs/praw/lib/python3.10/site-packages/praw/models/reddit/base.py?line=32'>33</a>\u001b[0m \u001b[39mif\u001b[39;00m \u001b[39mnot\u001b[39;00m attribute\u001b[39m.\u001b[39mstartswith(\u001b[39m\"\u001b[39m\u001b[39m_\u001b[39m\u001b[39m\"\u001b[39m) \u001b[39mand\u001b[39;00m \u001b[39mnot\u001b[39;00m \u001b[39mself\u001b[39m\u001b[39m.\u001b[39m_fetched:\n\u001b[1;32m     <a href='file:///Users/guus/miniconda3/envs/praw/lib/python3.10/site-packages/praw/models/reddit/base.py?line=33'>34</a>\u001b[0m     \u001b[39mself\u001b[39m\u001b[39m.\u001b[39m_fetch()\n\u001b[0;32m---> <a href='file:///Users/guus/miniconda3/envs/praw/lib/python3.10/site-packages/praw/models/reddit/base.py?line=34'>35</a>\u001b[0m     \u001b[39mreturn\u001b[39;00m \u001b[39mgetattr\u001b[39;49m(\u001b[39mself\u001b[39;49m, attribute)\n\u001b[1;32m     <a href='file:///Users/guus/miniconda3/envs/praw/lib/python3.10/site-packages/praw/models/reddit/base.py?line=35'>36</a>\u001b[0m \u001b[39mraise\u001b[39;00m \u001b[39mAttributeError\u001b[39;00m(\n\u001b[1;32m     <a href='file:///Users/guus/miniconda3/envs/praw/lib/python3.10/site-packages/praw/models/reddit/base.py?line=36'>37</a>\u001b[0m     \u001b[39mf\u001b[39m\u001b[39m\"\u001b[39m\u001b[39m{\u001b[39;00m\u001b[39mself\u001b[39m\u001b[39m.\u001b[39m\u001b[39m__class__\u001b[39m\u001b[39m.\u001b[39m\u001b[39m__name__\u001b[39m\u001b[39m!r}\u001b[39;00m\u001b[39m object has no attribute \u001b[39m\u001b[39m{\u001b[39;00mattribute\u001b[39m!r}\u001b[39;00m\u001b[39m\"\u001b[39m\n\u001b[1;32m     <a href='file:///Users/guus/miniconda3/envs/praw/lib/python3.10/site-packages/praw/models/reddit/base.py?line=37'>38</a>\u001b[0m )\n",
      "File \u001b[0;32m~/miniconda3/envs/praw/lib/python3.10/site-packages/praw/models/reddit/base.py:36\u001b[0m, in \u001b[0;36mRedditBase.__getattr__\u001b[0;34m(self, attribute)\u001b[0m\n\u001b[1;32m     <a href='file:///Users/guus/miniconda3/envs/praw/lib/python3.10/site-packages/praw/models/reddit/base.py?line=33'>34</a>\u001b[0m     \u001b[39mself\u001b[39m\u001b[39m.\u001b[39m_fetch()\n\u001b[1;32m     <a href='file:///Users/guus/miniconda3/envs/praw/lib/python3.10/site-packages/praw/models/reddit/base.py?line=34'>35</a>\u001b[0m     \u001b[39mreturn\u001b[39;00m \u001b[39mgetattr\u001b[39m(\u001b[39mself\u001b[39m, attribute)\n\u001b[0;32m---> <a href='file:///Users/guus/miniconda3/envs/praw/lib/python3.10/site-packages/praw/models/reddit/base.py?line=35'>36</a>\u001b[0m \u001b[39mraise\u001b[39;00m \u001b[39mAttributeError\u001b[39;00m(\n\u001b[1;32m     <a href='file:///Users/guus/miniconda3/envs/praw/lib/python3.10/site-packages/praw/models/reddit/base.py?line=36'>37</a>\u001b[0m     \u001b[39mf\u001b[39m\u001b[39m\"\u001b[39m\u001b[39m{\u001b[39;00m\u001b[39mself\u001b[39m\u001b[39m.\u001b[39m\u001b[39m__class__\u001b[39m\u001b[39m.\u001b[39m\u001b[39m__name__\u001b[39m\u001b[39m!r}\u001b[39;00m\u001b[39m object has no attribute \u001b[39m\u001b[39m{\u001b[39;00mattribute\u001b[39m!r}\u001b[39;00m\u001b[39m\"\u001b[39m\n\u001b[1;32m     <a href='file:///Users/guus/miniconda3/envs/praw/lib/python3.10/site-packages/praw/models/reddit/base.py?line=37'>38</a>\u001b[0m )\n",
      "\u001b[0;31mAttributeError\u001b[0m: 'Submission' object has no attribute 'media_metadata'"
     ]
    }
   ],
   "source": [
    "import urllib.request\n",
    "import os.path\n",
    "import time\n",
    "\n",
    "# Downloads an image to path\n",
    "def download_img(url, path, name):\n",
    "    img_path = os.path.join(path, name)\n",
    "    with open(img_path, \"wb\") as f:\n",
    "        f.write(urllib.request.urlopen(url).read())\n",
    "\n",
    "# Simplifies the classification\n",
    "def get_class(flair):\n",
    "    cl = \"mold_1\" if flair == \"mold!\" else \"not_mold_0\"\n",
    "    return(cl)\n",
    "\n",
    "# Define path\n",
    "path = \"/Users/guus/Downloads\"\n",
    "\n",
    "# Get the last 5 mold/not mold posts\n",
    "mold_posts = reddit.subreddit('kombucha').search(\n",
    "    query='flair:\"*mold*\"', \n",
    "    sort='new', \n",
    "    limit = 5, \n",
    "    syntax='lucene')\n",
    "\n",
    "# Loop through posts and save the image\n",
    "for post in mold_posts:\n",
    "    if post.url.endswith(('.jpg', '.png', '.gif', '.jpeg')):\n",
    "        url = post.url\n",
    "        id = post.id\n",
    "        cl = get_class(post.link_flair_text)\n",
    "        img_name, img_type = os.path.splitext(url)\n",
    "        img_name = os.path.basename(img_name)\n",
    "        name = id + \"_\" + img_name + \"_\" + cl + img_type\n",
    "        download_img(url, path, name)\n",
    "        \n",
    "        # 1 request per 2 second allowed (apparently)\n",
    "        time.sleep(2)\n",
    "\n",
    "    else:\n",
    "        attrs = (post.id, get_date(post), post.link_flair_text)\n",
    "        try:\n",
    "            media_metadata = post.media_metadata\n",
    "            for id in media_metadata.keys():\n",
    "                url = media_metadata[id][\"s\"][\"u\"]\n",
    "                post_id = post.id\n",
    "                cl = get_class(post.link_flair_text)\n",
    "                img_type = media_metadata[id][\"m\"].replace(\"image/\", \"\")\n",
    "                img_name = id\n",
    "                name = post_id + \"_\" + img_name + \"_\" + cl + img_type\n",
    "                download_img(url, path, name)\n",
    "                \n",
    "                # 1 request per 2second allowed (apparently)\n",
    "                time.sleep(2)\n",
    "        except AttributeError:\n",
    "            continue\n"
   ]
  },
  {
   "cell_type": "markdown",
   "metadata": {},
   "source": [
    "# Number of available datapoints\n",
    "Now that we know that we can download images with a classification, let's inspect how large out dataset will be."
   ]
  },
  {
   "cell_type": "code",
   "execution_count": 167,
   "metadata": {},
   "outputs": [
    {
     "name": "stdout",
     "output_type": "stream",
     "text": [
      "id\ttimestamp\tflair\ttitle\n",
      "t6a39m\t2022-03-04 05:03:15\tnot mold\tMold?\n",
      "t4k01s\t2022-03-01 23:18:08\tmold!\they guys, that looks normal? or it's kind of mold?\n",
      "t3i3pd\t2022-02-28 16:26:36\tnot mold\tAny idea if this is normal pellicle formation, or mold?\n",
      "t2cb8t\t2022-02-27 02:17:09\tnot mold\tMy first time making kombucha. This does look like mold? Should I throw it out?\n",
      "t11wwj\t2022-02-25 12:34:45\tnot mold\tIgnored this for… a year? Definitely has a dried leathery top that extends about an inch down. Should I (try) take it out and cut off the dried part and then add more sweet tea?\n",
      "t0n4vh\t2022-02-24 23:20:59\tnot mold\tFirst time making kombucha. Is this mold?\n",
      "t05i3u\t2022-02-24 08:58:56\tmold!\tis this mold?\n",
      "sz7n44\t2022-02-23 04:58:16\tnot mold\tNot sure what to do next.\n",
      "sz3x3e\t2022-02-23 02:05:50\tmold!\tIt’s definitely mold 😭\n",
      "syzoqz\t2022-02-22 23:01:48\tnot mold\tIs this mold?\n",
      "swjncj\t2022-02-19 21:54:24\tmold!\tLooks like a couple mold spots, is the black mold too?\n",
      "sw522h\t2022-02-19 09:13:23\tmold!\tRIP Scoby\n",
      "svpu8h\t2022-02-18 20:11:28\tnot mold\tAnother “is this mold” post- help!\n",
      "sv2kwe\t2022-02-18 00:26:03\tmold!\tSadness\n",
      "su7erz\t2022-02-16 22:49:27\tmold!\tThis hurts 😖\n",
      "ssrujm\t2022-02-15 03:19:43\tmold!\tRip to my kombucha after 3 years of brewing. I’ve never had mold before and was sad to have to toss it all out. I think it was about time, I definitely had the previous batches brewing for too long and it got super weak. 🥲🥲\n",
      "ssm9ch\t2022-02-14 22:43:46\tmold!\tCan I save a batch of kombucha that potential has a start of mold by adding more starter liquid?\n",
      "ssdmtx\t2022-02-14 16:46:06\tmold!\tIs this mold? Amazing bio art by Russian artist Dasha Plesen!\n",
      "srptva\t2022-02-13 19:50:25\tnot mold\tBlue spot but not fuzzy, is it mold?\n",
      "spnkjy\t2022-02-11 03:17:25\tnot mold\tFirst time brewer. Is this mold? With and without camera flash\n",
      "snztgs\t2022-02-09 01:40:37\tnot mold\tThe scoby hotel in the square plastic Cambro is my concern, is the top just dry and sad? Doesn't look or smell like mold & it's acidic... other three jars for comparison... they look happy. Last batch exploded 2 flip top bottles. So this time im investing in a carboy lol.🤷\n",
      "sntmrb\t2022-02-08 21:13:26\tnot mold\tI really can’t decide if this is mold or not! It’s potentially exposed to air but doesn’t look dry…\n",
      "sksst7\t2022-02-05 01:13:39\tnot mold\tYeast or Poison? Second brew and I’m still learning…\n",
      "sjf3km\t2022-02-03 10:37:41\tmold!\tWhite mold or Kahn yeast? I never had a mold problem, but this one has me worried.. getting back into home brewing after a year hiatus\n",
      "sh1scu\t2022-01-31 14:55:23\tmold!\tMuch sadness. What went wrong here? I sterilised everything before brewing. Too much tea for the SCOBY?\n",
      "sgrfb9\t2022-01-31 04:45:54\tnot mold\tI know it's not mold and almost positive not kahm. Any insight into what the small patch on the right side of the scoby is? Not dry, not fuzzy. Rather scoby looking but I take it is a foreign entity.\n",
      "sghqs6\t2022-01-30 21:13:12\tnot mold\tScoby Mold?\n",
      "sgf0di\t2022-01-30 19:11:10\tmold!\tIs this mold??\n",
      "sei9gk\t2022-01-28 05:37:09\tmold!\tIs this mold or trapped bubbles?\n",
      "sebvw9\t2022-01-28 00:25:07\tmold!\tStatistically significant health risks for moldy kombucha?\n",
      "sdmip3\t2022-01-27 02:45:54\tmold!\tPlease tell me this isn’t mold in my 5 gallons of buch…\n",
      "sdbxag\t2022-01-26 18:54:10\tnot mold\tPossible Mold during second fermentation?\n",
      "salkbn\t2022-01-23 05:53:59\tmold!\tCan I save this the rest is fine please help\n",
      "s7bxim\t2022-01-19 01:01:04\tmold!\tMold or weird looking white stuff ? (Details in comments)\n",
      "s5nox7\t2022-01-16 23:40:42\tnot mold\tfirst time brew, does this look okay?\n",
      "s5hmwj\t2022-01-16 19:09:50\tmold!\tlooks like contamination... should i wait and see if the kombucha prevails? maybe i can just remove the scoby?\n",
      "s5geen\t2022-01-16 18:14:16\tmold!\tQuestion: How to prevent mold (the best we can)\n",
      "s3w1zl\t2022-01-14 17:13:48\tmold!\tIs this mold/mould? :(\n",
      "s38rej\t2022-01-13 21:25:13\tmold!\tScoby has a slightly green growth in the corner. What is it?\n",
      "s2jxzi\t2022-01-13 00:15:37\tmold!\tHave been growing a scoby for about three weeks now, are these white specs mold? They don’t look fuzzy\n",
      "s0heer\t2022-01-10 11:55:23\tnot mold\tIs this mold?\n",
      "rwxxpe\t2022-01-05 23:01:02\tmold!\tThis is what mold looks like. I didn’t add starter kombucha to this jar and I assume the pH got out of wack. This is a few months of me leaving it like that.\n",
      "rw1h0l\t2022-01-04 19:43:12\tnot mold\tA classic \"is it mould\" question! I've checked the wiki but I can't quite tell if this is dry and fuzzy or if it looks like scoby on top of the bubbles? Any help greatly appreciated!\n",
      "rv084s\t2022-01-03 13:04:39\tmold!\tIs this mould?\n",
      "rrop08\t2021-12-30 02:26:42\tnot mold\tFirst time brewer: Scoby or mold?\n",
      "rpwntd\t2021-12-27 21:35:13\tmold!\tI am supremely bummed! Two batches down the drain\n",
      "rpwjmz\t2021-12-27 21:29:48\tmold!\tThis def looks like mold, but can someone confirm? I’ve had this scoby for months and have been procrastinating starting a new batch. Do you think I can just remove the top layer?\n",
      "rpcrd0\t2021-12-27 03:50:06\tmold!\tIs it mold or scoby? The eternal question (I am learning) also it does not smell bad\n",
      "rp5sa6\t2021-12-26 22:09:38\tnot mold\tI apologize in advance if this is obvious, but even after going through the galleries of mold and normal pics in the pinned post three times, I honestly can't tell whether this us mold or not. Please help.\n",
      "rofvvl\t2021-12-25 20:34:50\tnot mold\tMold or no? My first brew ever, it is 6 days in. It doesn’t have the strong tart smell I was expecting but it is not furry, just has a whitish translucent layer. Tips and opinions needed, please help!\n",
      "ro7mw3\t2021-12-25 11:47:51\tnot mold\tScoby or mould?\n",
      "rl214s\t2021-12-21 01:57:10\tmold!\t2/2 batches ruined by mould, am I cursed by the gods of the booch?????\n",
      "rk4lar\t2021-12-19 21:08:48\tnot mold\tDAY 9 - How does it look?\n",
      "rcri2n\t2021-12-09 22:17:16\tnot mold\tIs this mold in the center of my scoby?\n",
      "rcqubl\t2021-12-09 21:45:56\tnot mold\tIs this mold growing within the pellicle? Everything else looks normal\n",
      "rb63zf\t2021-12-07 19:42:04\tnot mold\tIs this mold?\n",
      "radgpf\t2021-12-06 19:03:26\tnot mold\tDoes this look like mold? I neglected a batch I brewed in June and I’m unsure if the scoby is even viable anymore? Wanna know before I waste time feed it. TIA\n",
      "ra4by3\t2021-12-06 11:33:12\tnot mold\tIs it mold? /s\n",
      "r8wrrk\t2021-12-04 20:13:27\tmold!\tI assume there's no saving ol' Jeffrey The Scoby?\n",
      "r3c9fr\t2021-11-27 13:04:39\tnot mold\tSo I waited a week and made two smaller batches instead of one big batch. I feel like it looks healthy this time\n",
      "r0sg6g\t2021-11-24 02:08:39\tnot mold\tHow do I use dried ginger slices? Should I use them in f2? Should I rehydrate them or leave them dried? Should I leave them in the bottle or strain them after f2? Any tips/hints?\n",
      "qy3gsc\t2021-11-20 12:09:25\tnot mold\tIs this mold? New batch using Remedy Ginger & Lemon, not very sweet\n",
      "qvsgfc\t2021-11-17 06:56:09\tmold!\tIs this mould?\n",
      "qu6uaw\t2021-11-15 04:22:34\tnot mold\tIt's alive! Starting my second scoby. Last attempt went moldy. Cleaned the jar with Star-san and swapped the cloth for the lid I used making hard cider. Hoping for more ginger/soft cider booch by Christmas.\n",
      "qqxq0c\t2021-11-10 17:07:43\tnot mold\tThis batch of kombucha is almost done but I noticed this gray mass on top. Is this mold? From all the pictures I've see it doesn't look like it and it smells just like kombucha .\n",
      "qq8wyj\t2021-11-09 18:39:14\tmold!\tDefinitely mold, innit?\n",
      "qoeswj\t2021-11-07 03:05:47\tnot mold\tI let the depression go unchecked for a while. What the heck do I do with this?\n",
      "qod4cv\t2021-11-07 01:29:51\tnot mold\tFirst time brewing kombucha, is this normal?\n",
      "qntjre\t2021-11-06 06:21:05\tmold!\tDefinately looks like mold right? Idk how that appeared even after ph being lower than 3🤢\n",
      "qmicap\t2021-11-04 12:17:20\tmold!\tIs this mold? (/s)\n",
      "qmdr8k\t2021-11-04 06:31:57\tnot mold\tMold? :(\n",
      "qlnhoj\t2021-11-03 06:18:45\tnot mold\tFirst timer here…. Is this mold?\n",
      "qkn0gy\t2021-11-01 21:29:15\tmold!\tMay have forgotten about my SCOBY hotel for a little too long...\n",
      "qk0q17\t2021-10-31 23:51:37\tmold!\tMold?\n",
      "qhcaeh\t2021-10-28 04:00:06\tmold!\tI assume this is RIP SCOBY hotel. 3 years of service, but recently neglected\n",
      "qes8lx\t2021-10-24 15:32:12\tnot mold\tFirst brew in relatively low temp (21.5-22.5 C) 7 day from start is that mold ?\n",
      "qch5af\t2021-10-21 04:17:07\tmold!\tFirst batch with mold ever. What do I do?\n",
      "qc92oe\t2021-10-20 21:39:41\tmold!\tMold (how to avoid)\n",
      "qawhwc\t2021-10-18 23:33:42\tnot mold\tIs my scoby/kombucha ok? The top layer was exposed to air and was very dry, I was worried there was mold but none of the white parts were fuzzy. I peeled this part off of my scoby but is it ok to continue to use the rest and the tea as starter tea for my next batch?\n",
      "q9awo0\t2021-10-16 14:20:27\tmold!\tMmm is this mold?\n",
      "q13l0a\t2021-10-04 13:30:59\tnot mold\tMandatory \"is it mold?\" post. White slimy patches on top of pellicle. Is it mold or just spent yeast?\n",
      "pze16c\t2021-10-01 20:27:41\tmold!\tis this mold 😂 happy friday i have no more scobies\n",
      "pylyd7\t2021-09-30 17:19:19\tmold!\tRIP to my neglected hotel. May you enjoy your next life as compost.\n",
      "puys5h\t2021-09-25 05:31:42\tnot mold\tWas wondering if this is normal?.Can I just scoop this off? It doesn't look like mold.\n",
      "ps31zd\t2021-09-20 22:26:37\tmold!\tScrewed batch\n",
      "pr5uxk\t2021-09-19 12:59:59\tmold!\tBit stuck here, are these little white circles mould?\n",
      "pr27xg\t2021-09-19 07:42:49\tmold!\tIs this mold? Do I have to toss the whole thing out?\n",
      "pna0jh\t2021-09-13 08:31:37\tmold!\tIs this mold?\n",
      "pmzh26\t2021-09-12 21:36:29\tmold!\tMold\n",
      "pmq9gg\t2021-09-12 12:24:47\tmold!\tSo starting from captain kombucha was a fail!\n",
      "pl47ka\t2021-09-09 21:01:04\tmold!\ti forget my kombucha brewing for 1 month ,and now the scooby is moldy ,how can solve this\n",
      "pjodjt\t2021-09-07 16:40:56\tmold!\tIs it mold ? For the first time I’m trying to do Scoby hotel this is after 3 weeks there is some thing like a sugar but creamy idk what is it first time i see it i don’t if its due to mold or because of the heat cause the temperature here goes up to 50 C but in my kitchen probably 27-34C\n",
      "phdlxz\t2021-09-03 22:51:41\tmold!\tIs my booch supposed to be looking like this? 😥\n",
      "phc7c9\t2021-09-03 21:35:45\tmold!\tSay it ain’t so\n",
      "pg6kpc\t2021-09-02 02:17:59\tmold!\t2nd Attempt at F1 - day 4. Is this MOLD? 🧐\n",
      "pfx72a\t2021-09-01 18:16:45\tmold!\tWell folks, finally happened. Went on vacation and came home to mold.\n",
      "pfwf3o\t2021-09-01 17:38:15\tmold!\tMold?\n",
      "pfvyyj\t2021-09-01 17:15:50\tmold!\tHi everyone! Yet another does my kombucha look ok post I’m afraid! This is my first brew and it’s about 3 weeks old, the pH has been gradually coming down, but is still around 3.7, but now I’ve noticed these tiny white patches?\n",
      "pftohv\t2021-09-01 15:15:28\tmold!\tMold in my coffee batch\n",
      "peoq9m\t2021-08-30 21:02:40\tmold!\tIs it what I think it is?? My scoby and I have been through a lot together, don't let this be the end! Is there anything I can do?\n",
      "pe4qlj\t2021-08-29 23:59:36\tnot mold\tback again with another: is this mould?…\n",
      "pe2mnf\t2021-08-29 22:06:13\tmold!\tI was on vacation for a week… came home to this 😭\n",
      "pdy9lk\t2021-08-29 18:18:30\tnot mold\tIs it mold?\n",
      "pd0ykl\t2021-08-28 03:53:44\tnot mold\they friends! first time brewer here! I’m currently in the first fermentation stage and i mixed my liquid so i could test it to see how it’s travelling and there is all this black stuff floating in it? is this mould ahhhh?! i’m not sure! thank you!!! it’s been fermenting for 2 weeks so far!\n",
      "pcxfr3\t2021-08-28 00:17:03\tnot mold\tMold?\n",
      "pcug5a\t2021-08-27 21:38:42\tnot mold\tRIP? Left in hot apartment (85+ degrees F) for 1 week\n",
      "pca9vq\t2021-08-27 00:34:52\tnot mold\tIs this mold? Or just damaged SCOBY/cellulose cap thing?\n",
      "pbw2ey\t2021-08-26 11:34:47\tmold!\tIs it mold?\n",
      "pbpkhg\t2021-08-26 03:46:07\tnot mold\tMy first kombucha attempt: black tea, white sugar, GT's as a starter. Hoping to start a continuous brew. How does it look? Advice?\n",
      "pb2t2t\t2021-08-25 05:14:38\tmold!\tYou can run, you can hide.. But you can't escape from the ever moving fuzzy hands of \" You know who\"\n",
      "p7c0d0\t2021-08-19 12:12:09\tmold!\tMy first batch of mold :(\n",
      "p6birt\t2021-08-17 22:15:28\tmold!\tOne of a few spots of concern. White and fuzzy. I’ve already started a second “first” batch.\n",
      "p4df5c\t2021-08-14 20:31:20\tmold!\tFirst batch with mold in a year and a half of brewing. One thing I’ve learned from this page is have a backup.\n",
      "p4a2tg\t2021-08-14 17:28:33\tmold!\tIt's mold, right?\n",
      "p3qc5c\t2021-08-13 19:50:47\tmold!\tSomewhere down the line, my kombucha went bad. Had to pour 'em out for the homies.\n",
      "p2rmtj\t2021-08-12 05:33:31\tmold!\tYou guys think this is still ok to use?\n",
      "p27hwh\t2021-08-11 08:29:25\tnot mold\tDoes this look infected?\n",
      "ozm9qp\t2021-08-07 06:02:06\tnot mold\tTo mold or to not mold?\n",
      "ozkits\t2021-08-07 04:03:45\tmold!\tJust noticed this can the bottom layers be salvaged?\n",
      "ov7usz\t2021-07-31 16:12:45\tnot mold\tWent to brew a batch and found my first infestation.. gross.\n",
      "otcz75\t2021-07-28 18:06:02\tnot mold\tmy first scoby :)\n",
      "osz5s9\t2021-07-28 02:42:35\tmold!\tI know, I know. But is it? I haven’t brewed in years, and I’m an idiot and put the lid on it.\n",
      "osd6af\t2021-07-27 03:36:38\tmold!\tShould I throw out my scoby\n",
      "oqcr50\t2021-07-24 00:09:19\tnot mold\tIs this okay? 4th day of 2nd ferment. Ph 3.5 before 2nd ferment, kroger's unfiltered apple juice and cinnamon stick added for flavor.\n",
      "opz8ql\t2021-07-23 11:59:49\tnot mold\tYet another ist this mold? Post\n",
      "oo5o05\t2021-07-20 18:36:20\tmold!\tIs This Mold That Is Growing?\n",
      "omvgjr\t2021-07-18 19:46:41\tmold!\tNeed to restart?\n",
      "ol2wk3\t2021-07-15 23:55:12\tmold!\tMold? It’s my first time brewing.\n",
      "okjgf2\t2021-07-15 04:27:58\tmold!\tMold :( left my black tea covered too cool for a few days and was going to add my starter tea today and I see this.\n",
      "ok46k3\t2021-07-14 15:19:09\tnot mold\tIs this mold? Used Chinese LongJing tea as base\n",
      "ojqauk\t2021-07-14 00:11:54\tmold!\tIs this Mold? (Help)\n",
      "ofpxrl\t2021-07-07 21:16:33\tnot mold\tFollow up to my “is this mold” post. The black dots are still there, but somehow, under my hop cloth, maggots(?) got in 😢. This is my only SCOBY too 🤦🏻‍♂️\n",
      "odbrmk\t2021-07-04 04:49:14\tnot mold\tIs it Mold?\n",
      "oc3tqv\t2021-07-02 07:45:02\tmold!\tIs this mould? I'm brewing my first ever batch and am really bummed out :'(\n",
      "obi7z1\t2021-07-01 11:35:14\tmold!\tNot sure guys, mold? Maybe it's just melatonin idk\n",
      "ob6ri7\t2021-06-30 23:15:28\tmold!\tFML Mold\n",
      "oamci7\t2021-06-30 03:22:50\tmold!\tIs it...mold?!\n",
      "oabu0b\t2021-06-29 18:31:13\tmold!\tMold… right? :((((\n",
      "o9luv8\t2021-06-28 16:53:21\tmold!\tIs this mould? Just kidding, this is a neglected experimental batch that I forgot about. Yum!\n",
      "o8urzh\t2021-06-27 12:46:56\tnot mold\tWhat are these little white things? Is it ok?\n",
      "o7lr5r\t2021-06-25 13:24:36\tmold!\tMold! But then, what happened? Can I drink it?\n",
      "o763t3\t2021-06-24 19:49:37\tmold!\tProbly Mold I guess😞\n",
      "o73q37\t2021-06-24 17:54:42\tmold!\tFor anyone asking “is this mold?”, THIS is mold😭 RIP Scoby Bryant 2019-2021. You survived two moves, one across several states. You will be missed.\n",
      "o559ya\t2021-06-21 22:54:06\tmold!\tPlease Help! Is this mold on my scoby hotel glass?\n",
      "o4rlkb\t2021-06-21 11:49:25\tmold!\tOpened the top cover after 7 days. The taste is good, but having some doubts about these pock marks. I haven't seen them in my previous batchs, are these normal? My previous scoby came out pretty smooth, this appears a bit different.\n",
      "o2xwq6\t2021-06-18 21:16:35\tmold!\tI was just getting ready to start a new batch of kombucha and already have my tea ready then I go to get my hotel and there's mold is there any saving it or should I just dump the whole thing and start over?\n",
      "o0m35d\t2021-06-15 21:10:46\tmold!\tJust let me down easy...is this what I think it is?\n",
      "nz7m08\t2021-06-14 00:21:55\tmold!\tiS tHiS MoLD?\n",
      "nxqi8e\t2021-06-11 23:18:01\tnot mold\tIs this mold? Came back home after two weeks away to this\n",
      "nxb5yh\t2021-06-11 10:42:44\tmold!\tI noticed this bald spot since day 3, now it's 7 days now. Is this mold or just irregular scoby growth?\n",
      "nru608\t2021-06-04 04:11:28\tnot mold\tIs this mold? First timer here. Looks like a crispy layer in the center\n",
      "nqbk14\t2021-06-02 04:50:26\tnot mold\tCan’t tell if this is mold?\n",
      "nq7etw\t2021-06-02 01:14:42\tnot mold\tJust checked on the baby scoby and it's sunk to the bottom + been covered by this weird fuzzy cloud. Is this mold?\n",
      "nq57mj\t2021-06-01 23:32:08\tmold!\tCan anyone definitely say if this is mold? Any help is very much appreciated!\n",
      "npnt8e\t2021-06-01 08:53:10\tmold!\tIs it mold in the corner?😭\n",
      "nnqg8y\t2021-05-29 18:01:48\tnot mold\tTried to set up my SCOBY hotel to give a break to brewing. It looks like this after a week. Is it mold? I am keeping it on the counter, room temperature, top covered with paper towel.\n",
      "nnkzkb\t2021-05-29 12:53:06\tmold!\tJust threw out mold from the top new pellicle of my kombucha. Should I discard the whole thing. The mold was just on the top.\n",
      "nn3qa4\t2021-05-28 20:03:23\tnot mold\tIs this mold?\n",
      "nn0wow\t2021-05-28 17:55:54\tmold!\tIs this mold?\n",
      "nkwlyj\t2021-05-25 20:29:55\tnot mold\tGreenish patch on pellicle\n",
      "nku6y1\t2021-05-25 18:44:44\tmold!\tIs this mold :(? Can it be scraped?\n",
      "nkiei9\t2021-05-25 07:49:34\tnot mold\tThe most common question. Is it Mold?\n",
      "nkc3jv\t2021-05-25 02:01:56\tnot mold\tThe age old question: is this mold? Some dry, skin-like raised spots but it doesn’t seem to be obviously discolored or fuzzy anywhere?\n",
      "njzbnw\t2021-05-24 16:32:10\tmold!\tPretty sure it’s yeast, but this is my first time brewing. What’s your guess?\n",
      "njxnz4\t2021-05-24 15:12:57\tmold!\tIs this mold?\n",
      "njplz5\t2021-05-24 06:34:50\tnot mold\tIs this dark spot okay? Ph: 3.5. Smells like vinegar today. Batch is a little over a month old.\n",
      "nhhvpk\t2021-05-21 04:26:03\tmold!\tMold?\n",
      "nft9v9\t2021-05-19 04:17:58\tmold!\tI don’t think it’s mold but first time brewing\n",
      "ndb668\t2021-05-16 01:20:12\tnot mold\tOk... but is this mold?\n",
      "nbfznu\t2021-05-13 14:55:58\tnot mold\tIs this mold?\n",
      "nacuny\t2021-05-12 03:11:42\tmold!\tMold?\n",
      "na9s9q\t2021-05-12 00:37:22\tnot mold\tIs this mold?\n",
      "n9xsxm\t2021-05-11 16:07:05\tnot mold\tI guess it's the most common question - mold or ok??:):) so.... Is my batch ok? I am a yeastie boy but first time Kombuchian...day4...\n",
      "n9ngw6\t2021-05-11 05:09:50\tmold!\tAnother \"Is this mold?\" Post\n",
      "n9a9jy\t2021-05-10 19:06:24\tmold!\tJust starting to brew again, I used an old fridge batch from years ago. I'm pretty sure this is mold, can anyone help me confirm?\n",
      "n8pyw1\t2021-05-10 01:03:45\tnot mold\t2F mold?\n",
      "n50obq\t2021-05-05 00:50:14\tnot mold\tThe age old question, are these white spots mold?\n",
      "n0ig5y\t2021-04-28 18:16:59\tmold!\tDoes this look healthy(F1)? First time brewing.\n",
      "n00x2n\t2021-04-28 00:54:55\tnot mold\tIs this mold? It looks a little colourful, like blueish to me\n",
      "mzv2np\t2021-04-27 20:25:30\tmold!\tDoes it look normal/healthy?\n",
      "mzl3sj\t2021-04-27 12:06:41\tnot mold\tHELP! Brewing my first batch. It’s been sitting for 5 days now, a pellicle started forming and there’s some tiny white spots here and there, doesn’t look like mold though. What is it and what should I do?\n",
      "mzd6fw\t2021-04-27 03:18:41\tmold!\tMy first 20 Gallon Kombucha! Idk if my Scoby was enough!\n",
      "mz29f6\t2021-04-26 18:55:58\tmold!\tThis is mold, yeah?\n",
      "myz0j6\t2021-04-26 16:32:34\tnot mold\tBeauty! <3\n",
      "mynsrg\t2021-04-26 04:41:19\tmold!\tIs this mold? Saw this on the top of the liquid on the 2nd day of 2nd fermentation.\n",
      "myfeff\t2021-04-25 21:20:36\tmold!\tSmells fine, regular blob grows under it but that thing on top troubles me\n",
      "my7rxa\t2021-04-25 14:55:50\tnot mold\tHelp! Is this mould?\n",
      "mx9s9l\t2021-04-24 03:22:27\tmold!\tShould I trash the first jar?\n",
      "mx82f6\t2021-04-24 01:41:14\tnot mold\tForgotten kombucha from 3/31/21.. mold I’m assuming? If not, salvageable? Thanks!\n",
      "mvni78\t2021-04-21 21:34:44\tnot mold\tHelp! Is this mold?\n",
      "mul5fw\t2021-04-20 09:30:20\tmold!\tIs this mould\n",
      "mt9jux\t2021-04-18 11:22:30\tmold!\tCan mold go away?\n",
      "mt9dft\t2021-04-18 11:07:14\tnot mold\tIs this mould? I think I failed my first time making kombucha😞\n",
      "msw21l\t2021-04-17 20:23:34\tnot mold\tCould this be mold? My 9th batch and i don’t think it is but wanted to confer with the kombucha masters here :)\n",
      "mre32e\t2021-04-15 14:56:35\tnot mold\tPlease, is this mold? The dots in the middle? Kombucha is unheard of in my region, I have no one else to ask. Thank you. 🙏\n",
      "mr6smb\t2021-04-15 05:37:26\tmold!\tIs this mold?\n",
      "mr3wgo\t2021-04-15 02:36:24\tnot mold\t[Vermont, USA] A close-up of the cursed mites (flour?) that took up residence in my kombucha\n",
      "mpiexd\t2021-04-12 19:11:52\tmold!\tYes, it's definitely mold. But why?\n",
      "moyqa6\t2021-04-11 22:31:48\tnot mold\tMold on my second batch? There are these white spots but not sure if they are mold. HELP\n",
      "mo29n3\t2021-04-10 12:31:19\tnot mold\tFirst time trying to make a kombucha scoby and I’m on day 4 I was just wondering if this is normal start to scoby formation with the small opaque whitish circles.\n",
      "mnkbwr\t2021-04-09 17:58:25\tnot mold\tAnother \"Is it Mold?\" post\n",
      "mm5p22\t2021-04-07 18:16:49\tmold!\tPls help!! Is this mold? What did I do wrong? Is it lost forever? :’(\n",
      "mktvo9\t2021-04-05 22:19:28\tmold!\tLeft the last batch alone for a year. Is it mold?\n",
      "mk4ivs\t2021-04-04 22:47:33\tnot mold\tIs this mold? 2nd fermentation. Added strawberries and ginger.\n",
      "mj3htr\t2021-04-03 09:07:37\tnot mold\tGuys is this mold?\n",
      "miynvc\t2021-04-03 03:38:09\tmold!\tIs this mold? It does not appear to be fuzzy to me, but I am not sure. This is my 2nd fermentation after starter.\n",
      "mieoj8\t2021-04-02 08:38:43\tnot mold\tIs this mold? 8th brew and this is the first time I had a pellicle with a \"brain\" like texture. No fuzz/unusual smells.\n",
      "mhg4m9\t2021-03-31 23:24:10\tmold!\tMold??\n",
      "mhe04m\t2021-03-31 21:43:14\tnot mold\tBeen brewing for awhile now but this is the first time I’ve transferred part of my scoby and I’m nervous it may have grown mold in the new jar\n",
      "mf5t9d\t2021-03-28 19:45:27\tnot mold\tIs it mold??\n",
      "melabo\t2021-03-27 20:55:15\tnot mold\tFirst Time Brewing - is that mold? Is this healthy/on the right track?\n",
      "mdp6p2\t2021-03-26 14:55:44\tmold!\tIs this mold? (:\n",
      "mcsykv\t2021-03-25 08:54:42\tmold!\thello nice kombucha people, could you please tell me if it is mold? first batch, very confused. thank you.\n",
      "mcrckg\t2021-03-25 07:00:16\tnot mold\tMould or not mould?\n",
      "mckt59\t2021-03-25 01:09:15\tnot mold\tSo besides the fact that my pellicle looks like a vajayjay, would you keep using it?\n",
      "mbl17j\t2021-03-23 19:17:47\tmold!\t2nd time this has happened, should I dump the entire batch? Bought the new container from Walmart but ig I didn't clean it well enough\n",
      "maw6ab\t2021-03-22 20:45:15\tmold!\t2F mold. Seems to be from the rosemary.\n",
      "m9nb5y\t2021-03-21 04:26:38\tnot mold\tIs this normal?\n",
      "m9971p\t2021-03-20 16:24:47\tnot mold\tfirst booch batch ever. is this mold or just discoloration from (what I believe is a) yeast chain? Thanks!\n",
      "m8ziu3\t2021-03-20 05:30:53\tnot mold\tMould or nah? It’s powdery though same colour as the scoby\n",
      "m78h0f\t2021-03-17 20:29:08\tmold!\tIs this mold???\n",
      "m66ovk\t2021-03-16 12:14:30\tmold!\tMold in scooby hotel, what should I do? Throw away all scoobies or just this one on the top?\n",
      "m5qkkz\t2021-03-15 18:55:33\tnot mold\tHi there! First time brewer here, I was checking my kimbucha after fermentation 1 and I need some validation 🥺 Is it moldy? What’s the grey stuff? Tysm!\n",
      "m4zr9p\t2021-03-14 18:38:32\tmold!\t2F Mold?\n",
      "m49kz9\t2021-03-13 17:24:03\tnot mold\tNot sure if mold or not mold. This is my 3rd batch a few days in.\n",
      "m3aqxk\t2021-03-12 06:29:48\tmold!\tDo mold grow this fast?\n",
      "m2qohj\t2021-03-11 15:01:21\tmold!\tFound this black mold on my mother juice today :( Question in comments\n",
      "m0jp2r\t2021-03-08 17:38:46\tmold!\tI manage to convince myself that these blobs aren't mold. I then noticed the white specs on top of said blobs. Are they mold?\n",
      "lzoilb\t2021-03-07 12:03:34\tnot mold\tSo... I kinda forgot about my kombucha for the winter.\n",
      "ly84hs\t2021-03-05 10:16:27\tnot mold\tLa máma! so proud of this big kombucha's mother\n",
      "lwkwwn\t2021-03-03 05:15:10\tmold!\tNot enough kombucha starter\n",
      "lwachp\t2021-03-02 20:27:21\tmold!\tTwo batches in a row\n",
      "ltfc5e\t2021-02-27 04:37:07\tmold!\t1F - 3 jars, 2 are perfect but 1 has a spotty dimple textured pellicle. Is this mould?\n",
      "lqt4ai\t2021-02-23 22:08:40\tnot mold\tFirst brew: is this mold?\n",
      "lqeczc\t2021-02-23 10:28:40\tnot mold\tHey Guys! Do you think it is mold? First time for me :)\n",
      "lplf2f\t2021-02-22 12:05:06\tnot mold\tIs this mold?\n",
      "lp642h\t2021-02-21 21:41:16\tnot mold\tAm I right this is mold? First time brewing kombucha and not sure! Will post more photos in comments.\n",
      "lovm2w\t2021-02-21 12:55:07\tmold!\tIt happened again... Second try at making a SCOBY, got mold... Again! More details in comment.\n",
      "lon63j\t2021-02-21 03:44:06\tmold!\tIs this mold or kahm?.. i am assuming its kahm as it was only 3 days and is there anyway we can save this brew?\n",
      "locqg5\t2021-02-20 19:03:21\tnot mold\tNewbie / 2nd Brew / Is this mold?\n",
      "lo7rt6\t2021-02-20 15:04:43\tnot mold\tFirst timer here, is that mold? It looks like scoby in the making.\n",
      "lnkouu\t2021-02-19 17:58:40\tnot mold\tIs this mold? :(\n",
      "lmxle4\t2021-02-18 22:20:36\tnot mold\tDry pellicle surface with veins of (yeast? mold?) -- OK or problem?\n",
      "lmmkzy\t2021-02-18 14:18:04\tnot mold\tJust to confirm if its mold or not 😞\n",
      "lmidw4\t2021-02-18 10:00:18\tmold!\thello peeps does anyone know if this is mold ?\n",
      "lma7f1\t2021-02-18 02:23:51\tnot mold\tAny mold here?\n",
      "lm35cv\t2021-02-17 20:58:26\tmold!\tAnyone want to tell me it's NOT mold before I dump? 😬😢\n",
      "llxskf\t2021-02-17 17:04:57\tnot mold\tIs this mold? Or is this okay:)? This is a 30 day brew, i used black tea and sugar. Tasted it, tasted fine as much as i can tell (I'm pretty new in this), only a little sweet. What do you think? Thanks!\n",
      "Number of posts:\t248\n"
     ]
    }
   ],
   "source": [
    "# Get the last 5 mold/not mold posts\n",
    "mold_posts = reddit.subreddit('kombucha').search(\n",
    "    query='flair:\"*mold*\"', \n",
    "    sort='new', \n",
    "    limit = None, \n",
    "    time_filter = \"all\",\n",
    "    syntax='lucene')\n",
    "\n",
    "n = 0\n",
    "print(\"id\\ttimestamp\\tflair\\ttitle\")\n",
    "for post in mold_posts:\n",
    "    attrs = (post.id, get_date(post), post.link_flair_text, post.title)\n",
    "    print(\"%s\\t%s\\t%s\\t%s\" % attrs)\n",
    "    n += 1\n",
    "print(\"Number of posts:\\t\" + str(n))"
   ]
  },
  {
   "cell_type": "markdown",
   "metadata": {},
   "source": [
    "There appears to be a limit on the number of posts returned: only 248 posts were returned, but the oldest date is not very far in the past."
   ]
  },
  {
   "cell_type": "markdown",
   "metadata": {},
   "source": [
    "# Moving from PRAW to Pushshift\n",
    "Pushshift is a copy of all reddit posts and comments + an API intended for big queries. This means that it can be used to query further back than PRAW allows. Below is an API call that queries the kombucha subreddit for the 5 latest posts. The output is a JSON object with all the familiar attributes.\n",
    "\n",
    "```\n",
    "https://api.pushshift.io/reddit/search/submission/?subreddit=kombucha&sort=desc&sort_type=created_utc&size=5\n",
    "```\n",
    "\n",
    "However, there are a few issues that need to be overcome when using Pushshift:\n",
    "\n",
    "* Pushshift doesn't have any method for filtering by flair, though flairs are available in the output. This means we'll need to device a different way of findings mould related posts;\n",
    "* Pushshift stores posts as they were submitted. This means that any later updated to the post might not be included in the database. Thus, any flair update to `mold!` or `not mold` will not have been included, and they are likely to still be labeled as `what's wrong!?` or `question`.\n",
    "\n",
    "Since we're looking for mold, we can use the query `mold` to find any posts that mention mould. However, these is change of missing many posts. Alternatively, we could scrape all posts, and then look for `.jpg` in the post link or metadata like we did above. We then use PRAW to obtain the flair for those submission IDs.\n",
    "\n",
    "In a way, only having the original flair from Pushshift is an advantage, because some users initially label their question about mould as `mold!`, despite not knowing whether it is mould. Those labels could be wrong if not updated by the user. By filtering those submissions out, we improve our final data set."
   ]
  },
  {
   "cell_type": "code",
   "execution_count": 222,
   "metadata": {},
   "outputs": [
    {
     "name": "stdout",
     "output_type": "stream",
     "text": [
      "ta2o6p\t2022-03-09 08:41:49\tRotten Smelly Kombucha\n",
      "t9wuxe\t2022-03-09 02:59:31\tThis is my first SCOBY 2 weeks in. Is this healthy looking? I don’t know if this is mold or not.\n",
      "t9tgjo\t2022-03-09 00:06:19\tIs this mold ?. Never seen such bubbles and patches in my 2F. I used elderberry syrup which has clean ingredients as well\n",
      "t9j0h5\t2022-03-08 16:16:51\tIs it mold? This is the 2nd time it happens, 2 days into F2. Only happen to grapefruit ginger so far though.\n",
      "t96umb\t2022-03-08 03:58:53\tFirst ever batch! Yay! Tastes great, but a little mold on the top?\n",
      "t9073r\t2022-03-07 22:37:09\tFirst brew after a couple of months and I get mold\n",
      "t8qoir\t2022-03-07 15:41:51\tCould there be mold in my scoby hotel?\n",
      "t86y7v\t2022-03-06 20:58:40\tAnother one: is this mold?\n",
      "t7jwd6\t2022-03-05 22:58:59\tHow does this look? Mold? Been fermentating since 2/26/22\n",
      "t7bypl\t2022-03-05 16:37:18\tFirst time brewer, had this 1F going for 2.5 weeks (chilly house at 64 F) - mandatory “is it mold or yeast or ???” post\n",
      "t79yiu\t2022-03-05 14:56:33\tNoob here. Second brew of 2 batches. Mold?\n",
      "t6sgsa\t2022-03-04 21:44:09\tFirst time brewer; gifted set-up from partner and not wanting to disappoint. Is this mold?\n",
      "t6a39m\t2022-03-04 05:03:15\tMold?\n",
      "t66emp\t2022-03-04 01:48:45\tMold experiences: Has anyone here ever salvaged their lower SCOBY?\n",
      "t5ytc8\t2022-03-03 19:56:19\tThis is mold, right?\n",
      "t5j9nr\t2022-03-03 05:36:16\tBrewing with pellicles\n",
      "t4r4g1\t2022-03-02 05:00:36\tI'm feeling unsure about the way these couple of bottles look. Is this kind of formation normal for second ferments, or could this be mold in the bottles? (I haven't usually done them in past brews)\n",
      "t4pez9\t2022-03-02 03:34:16\tStarting a scoby. I think I have mold growth. Or the tea leaves getting caught. But I’m throwing it out just in case\n",
      "t4k01s\t2022-03-01 23:18:08\they guys, that looks normal? or it's kind of mold?\n",
      "t4aqhc\t2022-03-01 16:40:50\tMold? First time brewer, one week in! Doesn’t seem to be fuzzy but wanted to be sure before I begin tasting lol\n",
      "t3i3pd\t2022-02-28 16:26:36\tAny idea if this is normal pellicle formation, or mold?\n",
      "t3ci5q\t2022-02-28 11:23:33\tMold?\n",
      "t38g14\t2022-02-28 06:57:55\tUnsafe PH levels and is it saveable?\n",
      "t30pd5\t2022-02-28 00:19:41\tPellicle looks different than previous brews, I used 2 cups of starter from previous brew, 6 black tea bags and 1 cup of sugar in this 1 gallon vessel. Is it mold?\n",
      "t3070f\t2022-02-27 23:55:59\tReviewed the pinned Is It Mold post, and feel somewhat sure this is yeast, however… not sure. And even if it is just yeast, should I just toss the thin layer (I think baby SCOBY) it’s growing on?\n",
      "t2z95v\t2022-02-27 23:11:20\tDo you sanitize everything before starting a new batch?\n",
      "t2ynhg\t2022-02-27 22:43:37\tIs this mold or yeast? I’m about to start this again\n",
      "t2qjeh\t2022-02-27 16:27:11\tHelp! Mold?\n",
      "t2jb46\t2022-02-27 09:03:02\tAdvice please 🥺\n",
      "t2gcht\t2022-02-27 05:57:23\tis this mold? :(\n",
      "t2cb8t\t2022-02-27 02:17:09\tMy first time making kombucha. This does look like mold? Should I throw it out?\n",
      "t2am4f\t2022-02-27 00:53:02\tHomebrewed expiration?\n",
      "t206xi\t2022-02-26 16:55:44\tI looked at all the mold pics and this looks like it might be the beginning of mold on the top. Can anyone confirm this? Thanks.\n",
      "t1rzn0\t2022-02-26 09:17:34\tI guess it is my turn... Mold?\n",
      "t1hfta\t2022-02-26 00:15:07\tIs this mold or a forming SCOBY?\n",
      "t13qd5\t2022-02-25 14:11:50\tIs this mold?\n",
      "t0n4vh\t2022-02-24 23:20:59\tFirst time making kombucha. Is this mold?\n",
      "t0h00t\t2022-02-24 18:53:08\tIs this mold or scoby formation? Just started brew with gt for starter tea 36 hours ago. I have 3 gallons that look the exact same.\n",
      "t05i3u\t2022-02-24 08:58:56\tis this mold?\n",
      "t05gy4\t2022-02-24 08:56:56\tis this mold?\n",
      "t05gmc\t2022-02-24 08:56:21\tis this mold?\n",
      "szlksn\t2022-02-23 17:32:35\tMight be a dumb question, but I need opinions\n",
      "sz52t1\t2022-02-23 02:59:31\tThis isn't mold right? It looked sus from the top view but when j got a angle view it looks wet and just textured . Hope it is just yeast from fermenting in smaller opening jar thanks 😊\n",
      "sz3x3e\t2022-02-23 02:05:50\tIt’s definitely mold 😭\n",
      "sz3b98\t2022-02-23 01:37:30\tIs this mold? - Question\n",
      "syzoqz\t2022-02-22 23:01:48\tIs this mold?\n",
      "syx8tu\t2022-02-22 21:19:24\tLooks like mold but I'm not completely sure. If it's mold is there anything i can do?\n",
      "sycq4h\t2022-02-22 04:09:23\tHas anyone ever seen something like this on a scoby? It's not dry and fuzzy like mold and it's growing on the surface and submerged.\n",
      "swwlq0\t2022-02-20 09:29:06\tIs this mold or scoby forming?\n",
      "swt1ig\t2022-02-20 05:46:48\tDevastated! My first mold attack 😭😭\n",
      "swnovm\t2022-02-20 01:05:46\tFunky looking pellicle, what's going on?\n",
      "swm8zt\t2022-02-19 23:55:38\tHow to sterilize jar that is taller then my biggest pot?\n",
      "swjncj\t2022-02-19 21:54:24\tLooks like a couple mold spots, is the black mold too?\n",
      "swjh6y\t2022-02-19 21:46:11\tHow much do you have to throw away if there’s mold?\n",
      "sw7w4i\t2022-02-19 12:20:41\tIs this mold? Scoby has been left for too long not covered in kombucha.\n",
      "svpu8h\t2022-02-18 20:11:28\tAnother “is this mold” post- help!\n",
      "svjma1\t2022-02-18 15:44:50\tCan I used flavoured kombucha for my starter?\n",
      "svi3oo\t2022-02-18 14:34:55\tCan mold survive if my booch has a ph under 4?\n",
      "svgbhd\t2022-02-18 13:02:54\tUpdate about possible mold\n",
      "sv5wsw\t2022-02-18 03:00:52\tIs this mold or a Scoby forming?\n",
      "sv5lel\t2022-02-18 02:46:13\tDo either of these have mold?\n",
      "sv3xai\t2022-02-18 01:26:56\tIs this normal? This is my first time brewing and I’m only on day 4. The dark bit doesn’t look fuzzy, but is it still mold?\n",
      "sv3v63\t2022-02-18 01:23:59\tIs this normal? It doesn’t matter exactly look fuzzy, but it that dark part mold?\n",
      "surf67\t2022-02-17 16:28:00\tFirst time brewer! Obvious question: mold or not?\n",
      "sumprc\t2022-02-17 12:33:00\tIm New to kombucha, do you think these spots are mold?\n",
      "suc0s3\t2022-02-17 02:17:55\tSystemic mold infection\n",
      "su5xz6\t2022-02-16 21:46:00\tIs this mold?\n",
      "stygv1\t2022-02-16 16:23:03\tLeft my kombucha for a few month and this appeared on top. Is it mold, is it safe?\n",
      "stuoa1\t2022-02-16 13:25:36\tWhite film during f2, is this mold?\n",
      "st9a2q\t2022-02-15 19:12:16\tNewbie here - my very first batches with 2 store bought scoby &amp; starter liquid - I can’t tell if it’s doing it’s thing or it’s beginning to grow mold\n",
      "ssrujm\t2022-02-15 03:19:43\tRip to my kombucha after 3 years of brewing. I’ve never had mold before and was sad to have to toss it all out. I think it was about time, I definitely had the previous batches brewing for too long and it got super weak. 🥲🥲\n",
      "ssodvq\t2022-02-15 00:36:21\tIs this mold? (rip)\n",
      "ssnkx3\t2022-02-15 00:01:37\tIs it Mold? I looked at the faq but it’s still so hard to tell..\n",
      "ssm9ch\t2022-02-14 22:43:46\tCan I save a batch of kombucha that potential has a start of mold by adding more starter liquid?\n",
      "ssm75e\t2022-02-14 22:41:04\tIs this mold?\n",
      "sskz1w\t2022-02-14 21:49:38\tHate to be this girl - but mold? I started from an unflavored GT and leftover booch\n",
      "ssgxx9\t2022-02-14 19:02:03\tDiagnostic / mold or normal?\n",
      "ssdmtx\t2022-02-14 16:46:06\tIs this mold? Amazing bio art by Russian artist Dasha Plesen!\n",
      "srptva\t2022-02-13 19:50:25\tBlue spot but not fuzzy, is it mold?\n",
      "srjt5h\t2022-02-13 15:28:49\tLeft this brew for a couple of months, would.it be ok to brew with? I see no mold\n",
      "sr94v1\t2022-02-13 04:37:24\tSmall mold in large mass of SCOBY &amp; liquid. Salvageable?\n",
      "sr3j3w\t2022-02-12 23:53:29\tMold on secondary fermentation… Has this ever happened to anyone? Internet says it’s rare\n",
      "sqhzz9\t2022-02-12 04:42:55\tFirst time brewing, is that mold?\n",
      "sqf8ek\t2022-02-12 02:22:26\tAnother newb who thinks he has mold...\n",
      "spnkjy\t2022-02-11 03:17:25\tFirst time brewer. Is this mold? With and without camera flash\n",
      "spn8zv\t2022-02-11 03:02:15\tIs this mold? I am on day 4 of growing a cute little scoby from scratch. looks a little funky though. I’m a first timer so I don’t know if this is a bummer or the beginning of something beautiful.\n",
      "spkhnz\t2022-02-11 00:57:49\tConfirming this is Kahm yeast and not mold?\n",
      "spfdrk\t2022-02-10 20:53:53\tThis is mold isn’t it? :(\n",
      "soxrey\t2022-02-10 05:39:39\tUsing old starter and scoby, ratios?\n",
      "sosrph\t2022-02-10 01:41:42\tMy first ever scoby! (no mold, right? 😅)\n",
      "sor6e9\t2022-02-10 00:27:44\tWhy did I get mold on 10 day old jun at a low ph? Because I only bottled half the liquid? Please help me I want to keep this jun for sentimental reasons :(\n",
      "som5vk\t2022-02-09 20:48:52\tAny ideas what's going on here?\n",
      "sof1z5\t2022-02-09 15:35:18\tSome questions about 2F flavoring...\n",
      "soekp2\t2022-02-09 15:13:29\tIs this Kahm yeast or mold?\n",
      "so50o0\t2022-02-09 05:53:56\t[Jun] Is this pellicle or Kahm or mold?\n",
      "snztgs\t2022-02-09 01:40:37\tThe scoby hotel in the square plastic Cambro is my concern, is the top just dry and sad? Doesn't look or smell like mold &amp; it's acidic... other three jars for comparison... they look happy. Last batch exploded 2 flip top bottles. So this time im investing in a carboy lol.🤷\n",
      "sntmrb\t2022-02-08 21:13:26\tI really can’t decide if this is mold or not! It’s potentially exposed to air but doesn’t look dry…\n",
      "sngkzb\t2022-02-08 10:56:03\tIs it mold?\n",
      "sn14kt\t2022-02-07 22:13:48\tSorry to ask… but mold?\n",
      "sm3zpu\t2022-02-06 19:40:10\tIs this Mold?\n",
      "100\n"
     ]
    }
   ],
   "source": [
    "import json\n",
    "\n",
    "# Query last 500 mold results\n",
    "q = 'https://api.pushshift.io/reddit/search/submission/?subreddit=kombucha&sort=desc&sort_type=created_utc&size=500&q=mold'\n",
    "response = urllib.request.urlopen(q)\n",
    "data = response.read()\n",
    "result = json.loads(data)\n",
    "ids = list()\n",
    "for x in result[\"data\"]:\n",
    "    ids.append(x[\"id\"])\n",
    "    date = datetime.datetime.fromtimestamp(x[\"created_utc\"])\n",
    "    print(\"%s\\t%s\\t%s\" % (x[\"id\"], date, x[\"title\"]))\n",
    "\n",
    "print(len(ids))\n"
   ]
  },
  {
   "cell_type": "code",
   "execution_count": 223,
   "metadata": {},
   "outputs": [
    {
     "name": "stdout",
     "output_type": "stream",
     "text": [
      "what's wrong!?\n",
      "what's wrong!?\n",
      "mold!\n",
      "what's wrong!?\n",
      "question\n",
      "mold!\n",
      "what's wrong!?\n",
      "not mold\n",
      "question\n",
      "question\n",
      "what's wrong!?\n",
      "what's wrong!?\n",
      "not mold\n",
      "what's wrong!?\n",
      "what's wrong!?\n",
      "question\n",
      "what's wrong!?\n",
      "what's wrong!?\n",
      "mold!\n",
      "what's wrong!?\n",
      "not mold\n",
      "what's wrong!?\n",
      "question\n",
      "question\n",
      "question\n",
      "question\n",
      "what's wrong!?\n",
      "what's wrong!?\n",
      "what's wrong!?\n",
      "what's wrong!?\n",
      "not mold\n",
      "question\n",
      "what's wrong!?\n",
      "what's wrong!?\n",
      "what's wrong!?\n",
      "question\n",
      "not mold\n",
      "what's wrong!?\n",
      "mold!\n",
      "what's wrong!?\n",
      "what's wrong!?\n",
      "question\n",
      "question\n",
      "mold!\n",
      "what's wrong!?\n",
      "not mold\n",
      "what's wrong!?\n",
      "what's wrong!?\n",
      "what's wrong!?\n",
      "what's wrong!?\n",
      "what's wrong!?\n",
      "question\n",
      "mold!\n",
      "what's wrong!?\n",
      "what's wrong!?\n",
      "not mold\n",
      "question\n",
      "question\n",
      "what's wrong!?\n",
      "what's wrong!?\n",
      "what's wrong!?\n",
      "what's wrong!?\n",
      "what's wrong!?\n",
      "what's wrong!?\n",
      "question\n",
      "what's wrong!?\n",
      "what's wrong!?\n",
      "what's wrong!?\n",
      "what's wrong!?\n",
      "what's wrong!?\n",
      "mold!\n",
      "what's wrong!?\n",
      "what's wrong!?\n",
      "mold!\n",
      "what's wrong!?\n",
      "what's wrong!?\n",
      "question\n",
      "mold!\n",
      "not mold\n",
      "question\n",
      "what's wrong!?\n",
      "what's wrong!?\n",
      "what's wrong!?\n",
      "what's wrong!?\n",
      "not mold\n",
      "what's wrong!?\n",
      "kahm!\n",
      "what's wrong!?\n",
      "question\n",
      "what's wrong!?\n",
      "question\n",
      "None\n",
      "question\n",
      "kahm!\n",
      "what's wrong!?\n",
      "not mold\n",
      "not mold\n",
      "what's wrong!?\n",
      "what's wrong!?\n",
      "what's wrong!?\n"
     ]
    }
   ],
   "source": [
    "# Get the flair text via PRAW\n",
    "full_ids = [i if i.startswith('t3_') else f't3_{i}' for i in ids]\n",
    "posts = reddit.info(full_ids)\n",
    "for post in posts:\n",
    "    print(post.link_flair_text)"
   ]
  },
  {
   "cell_type": "markdown",
   "metadata": {},
   "source": [
    "That seems to work. We first fetched the posts using Pushshift, and then batch queried PRAW using the post ids to get the current flairs. The number of returned items seems to be limited to 100, so we could fetch all the data in batches of 100 using the `before` / `after` filter. Next question: can we fetch posts from further back? to test this, let's sort the posts ascending, rather than descending - this should get us the first ever image posts in the subreddit. Because flairs may not have been in use back then, let's just print the titles."
   ]
  },
  {
   "cell_type": "code",
   "execution_count": 215,
   "metadata": {},
   "outputs": [
    {
     "name": "stdout",
     "output_type": "stream",
     "text": [
      "ubql2\tMade my first kombucha, just bottled, pics!  \n",
      "x9jar\tHey Reddit,   I'm brewing my kombucha in 5 gallon food grade plastic buckets.  What do you think?\n",
      "227d3r\tAny Boston area Kombuchittors?\n",
      "24ms6k\tVinegar smell, is this normal?\n",
      "2dconc\tKeeping hothouse brew going in winter\n"
     ]
    }
   ],
   "source": [
    "q = 'https://api.pushshift.io/reddit/search/submission/?subreddit=kombucha&sort=asc&sort_type=created_utc&size=5&q=\".jpg\"'\n",
    "response = urllib.request.urlopen(q)\n",
    "data = response.read()\n",
    "result = json.loads(data)\n",
    "ids = list()\n",
    "for x in result[\"data\"]:\n",
    "    ids.append(x[\"id\"])\n",
    "    print(\"%s\\t%s\" % (x[\"id\"], x[\"title\"]))\n"
   ]
  },
  {
   "cell_type": "code",
   "execution_count": 213,
   "metadata": {},
   "outputs": [
    {
     "name": "stdout",
     "output_type": "stream",
     "text": [
      "Made my first kombucha, just bottled, pics!  \n",
      "Hey Reddit,   I'm brewing my kombucha in 5 gallon food grade plastic buckets.  What do you think?\n",
      "Any Boston area Kombuchittors?\n",
      "Vinegar smell, is this normal?\n",
      "Keeping hothouse brew going in winter\n"
     ]
    }
   ],
   "source": [
    "# Get the post title through PRAW\n",
    "full_ids = [i if i.startswith('t3_') else f't3_{i}' for i in ids]\n",
    "posts = reddit.info(full_ids)\n",
    "for post in posts:\n",
    "    print(post.title)"
   ]
  },
  {
   "cell_type": "markdown",
   "metadata": {},
   "source": [
    "That also seems to work. Now we can limit the fields to the essential ones to reduce query time and data transfer."
   ]
  },
  {
   "cell_type": "code",
   "execution_count": 230,
   "metadata": {},
   "outputs": [
    {
     "name": "stdout",
     "output_type": "stream",
     "text": [
      "ta4k3h\t1646820086\tFirst brew PH stuck at 3.5\n",
      "ta49vo\t1646818775\tTips for making Jackfruit Kombucha?\n",
      "ta2o6p\t1646811709\tRotten Smelly Kombucha\n",
      "ta0dw0\t1646802944\tMoving Kombucha\n",
      "ta047p\t1646802010\tr/Kombucha Weekly Weird Brews and Experiments (March 09, 2022)\n"
     ]
    }
   ],
   "source": [
    "q = \"https://api.pushshift.io/reddit/search/submission/?subreddit=kombucha&sort=desc&sort_type=created_utc&size=5&fields=id,media_metadata,created_utc,url,link_flair_text,is_gallery,retrieved_on,title\"\n",
    "response = urllib.request.urlopen(q)\n",
    "data = response.read()\n",
    "result = json.loads(data)\n",
    "ids = list()\n",
    "dates = list()\n",
    "for x in result[\"data\"]:\n",
    "    ids.append(x[\"id\"])\n",
    "    dates.append(x[\"created_utc\"])\n",
    "    print(\"%s\\t%s\\t%s\" % (x[\"id\"], x[\"created_utc\"], x[\"title\"]))"
   ]
  },
  {
   "cell_type": "markdown",
   "metadata": {},
   "source": [
    "Now let's see if we can fetch the last 5 posts before a specific post. We select the timestamp from the third post above, and fetch the 5 posts before it."
   ]
  },
  {
   "cell_type": "code",
   "execution_count": 231,
   "metadata": {},
   "outputs": [
    {
     "name": "stdout",
     "output_type": "stream",
     "text": [
      "ta0dw0\tMoving Kombucha\n",
      "ta047p\tr/Kombucha Weekly Weird Brews and Experiments (March 09, 2022)\n",
      "t9zadx\tDid I kill my starter by overdilution?\n",
      "t9y6u6\tScoby Ambush\n",
      "t9y561\tSCOBY AMBUSH\n"
     ]
    }
   ],
   "source": [
    "q = \"https://api.pushshift.io/reddit/search/submission/?subreddit=kombucha&sort=desc&sort_type=created_utc&size=5&fields=id,media_metadata,created_utc,url,link_flair_text,retrieved_on,title&before=%s\" % dates[2]\n",
    "response = urllib.request.urlopen(q)\n",
    "data = response.read()\n",
    "result = json.loads(data)\n",
    "ids = list()\n",
    "for x in result[\"data\"]:\n",
    "    ids.append(x[\"id\"])\n",
    "    print(\"%s\\t%s\" % (x[\"id\"], x[\"title\"]))"
   ]
  },
  {
   "cell_type": "markdown",
   "metadata": {},
   "source": [
    "This means that we can iteratively fetch 100 posts, get the timestamp of the last post, and then fetch the 100 posts before that, which allow us to scrape all posts in a subreddit. PSAW is a wrapper around pushshift that does exactly that: it paginates by timestamp in blocks of 100, but makes sure that not too many requests are sent and that any timeout is caught. This means that we can fetch the entire history of a subreddit in a single command. Let's try it"
   ]
  },
  {
   "cell_type": "code",
   "execution_count": 237,
   "metadata": {},
   "outputs": [
    {
     "ename": "KeyboardInterrupt",
     "evalue": "",
     "output_type": "error",
     "traceback": [
      "\u001b[0;31m---------------------------------------------------------------------------\u001b[0m",
      "\u001b[0;31mKeyboardInterrupt\u001b[0m                         Traceback (most recent call last)",
      "\u001b[1;32m/Users/guus/Documents/Code/is-it-mould/test_scraping.ipynb Cell 37'\u001b[0m in \u001b[0;36m<cell line: 11>\u001b[0;34m()\u001b[0m\n\u001b[1;32m      <a href='vscode-notebook-cell:/Users/guus/Documents/Code/is-it-mould/test_scraping.ipynb#ch0000054?line=4'>5</a>\u001b[0m start \u001b[39m=\u001b[39m \u001b[39mint\u001b[39m(datetime\u001b[39m.\u001b[39mdatetime(\u001b[39m2022\u001b[39m, \u001b[39m3\u001b[39m, \u001b[39m8\u001b[39m)\u001b[39m.\u001b[39mtimestamp())\n\u001b[1;32m      <a href='vscode-notebook-cell:/Users/guus/Documents/Code/is-it-mould/test_scraping.ipynb#ch0000054?line=5'>6</a>\u001b[0m res \u001b[39m=\u001b[39m api\u001b[39m.\u001b[39msearch_submissions(\n\u001b[1;32m      <a href='vscode-notebook-cell:/Users/guus/Documents/Code/is-it-mould/test_scraping.ipynb#ch0000054?line=6'>7</a>\u001b[0m     after \u001b[39m=\u001b[39m start,\n\u001b[1;32m      <a href='vscode-notebook-cell:/Users/guus/Documents/Code/is-it-mould/test_scraping.ipynb#ch0000054?line=7'>8</a>\u001b[0m     subreddit \u001b[39m=\u001b[39m \u001b[39m'\u001b[39m\u001b[39mkombucha\u001b[39m\u001b[39m'\u001b[39m,\n\u001b[1;32m      <a href='vscode-notebook-cell:/Users/guus/Documents/Code/is-it-mould/test_scraping.ipynb#ch0000054?line=8'>9</a>\u001b[0m     sort_type \u001b[39m=\u001b[39m \u001b[39m'\u001b[39m\u001b[39mdesc\u001b[39m\u001b[39m'\u001b[39m,\n\u001b[1;32m     <a href='vscode-notebook-cell:/Users/guus/Documents/Code/is-it-mould/test_scraping.ipynb#ch0000054?line=9'>10</a>\u001b[0m     \u001b[39mfilter\u001b[39m \u001b[39m=\u001b[39m [\u001b[39m'\u001b[39m\u001b[39mid\u001b[39m\u001b[39m'\u001b[39m, \u001b[39m'\u001b[39m\u001b[39mmedia_metadata\u001b[39m\u001b[39m'\u001b[39m, \u001b[39m'\u001b[39m\u001b[39mcreated_utc\u001b[39m\u001b[39m'\u001b[39m, \u001b[39m'\u001b[39m\u001b[39murl\u001b[39m\u001b[39m'\u001b[39m, \u001b[39m'\u001b[39m\u001b[39mlink_flair_text\u001b[39m\u001b[39m'\u001b[39m, \u001b[39m'\u001b[39m\u001b[39mretrieved_on\u001b[39m\u001b[39m'\u001b[39m , \u001b[39m'\u001b[39m\u001b[39mtitle\u001b[39m\u001b[39m'\u001b[39m])\n\u001b[0;32m---> <a href='vscode-notebook-cell:/Users/guus/Documents/Code/is-it-mould/test_scraping.ipynb#ch0000054?line=10'>11</a>\u001b[0m posts \u001b[39m=\u001b[39m \u001b[39mlist\u001b[39;49m(res)\n\u001b[1;32m     <a href='vscode-notebook-cell:/Users/guus/Documents/Code/is-it-mould/test_scraping.ipynb#ch0000054?line=11'>12</a>\u001b[0m \u001b[39mprint\u001b[39m(\u001b[39mlen\u001b[39m(posts))\n",
      "File \u001b[0;32m~/miniconda3/envs/praw/lib/python3.10/site-packages/psaw/PushshiftAPI.py:238\u001b[0m, in \u001b[0;36mPushshiftAPIMinimal._search\u001b[0;34m(self, kind, stop_condition, return_batch, dataset, **kwargs)\u001b[0m\n\u001b[1;32m    <a href='file:///Users/guus/miniconda3/envs/praw/lib/python3.10/site-packages/psaw/PushshiftAPI.py?line=235'>236</a>\u001b[0m endpoint \u001b[39m=\u001b[39m \u001b[39m'\u001b[39m\u001b[39m{dataset}\u001b[39;00m\u001b[39m/\u001b[39m\u001b[39m{kind}\u001b[39;00m\u001b[39m/search\u001b[39m\u001b[39m'\u001b[39m\u001b[39m.\u001b[39mformat(dataset\u001b[39m=\u001b[39mdataset, kind\u001b[39m=\u001b[39mkind)\n\u001b[1;32m    <a href='file:///Users/guus/miniconda3/envs/praw/lib/python3.10/site-packages/psaw/PushshiftAPI.py?line=236'>237</a>\u001b[0m url \u001b[39m=\u001b[39m \u001b[39mself\u001b[39m\u001b[39m.\u001b[39mbase_url\u001b[39m.\u001b[39mformat(endpoint\u001b[39m=\u001b[39mendpoint)\n\u001b[0;32m--> <a href='file:///Users/guus/miniconda3/envs/praw/lib/python3.10/site-packages/psaw/PushshiftAPI.py?line=237'>238</a>\u001b[0m \u001b[39mfor\u001b[39;00m response \u001b[39min\u001b[39;00m \u001b[39mself\u001b[39m\u001b[39m.\u001b[39m_handle_paging(url):\n\u001b[1;32m    <a href='file:///Users/guus/miniconda3/envs/praw/lib/python3.10/site-packages/psaw/PushshiftAPI.py?line=238'>239</a>\u001b[0m     \u001b[39mif\u001b[39;00m \u001b[39m'\u001b[39m\u001b[39maggs\u001b[39m\u001b[39m'\u001b[39m \u001b[39min\u001b[39;00m response:\n\u001b[1;32m    <a href='file:///Users/guus/miniconda3/envs/praw/lib/python3.10/site-packages/psaw/PushshiftAPI.py?line=239'>240</a>\u001b[0m         \u001b[39myield\u001b[39;00m response[\u001b[39m'\u001b[39m\u001b[39maggs\u001b[39m\u001b[39m'\u001b[39m]\n",
      "File \u001b[0;32m~/miniconda3/envs/praw/lib/python3.10/site-packages/psaw/PushshiftAPI.py:215\u001b[0m, in \u001b[0;36mPushshiftAPIMinimal._handle_paging\u001b[0;34m(self, url)\u001b[0m\n\u001b[1;32m    <a href='file:///Users/guus/miniconda3/envs/praw/lib/python3.10/site-packages/psaw/PushshiftAPI.py?line=211'>212</a>\u001b[0m         \u001b[39mraise\u001b[39;00m \u001b[39mNotImplementedError\u001b[39;00m(err_msg\u001b[39m.\u001b[39mformat(\u001b[39mself\u001b[39m\u001b[39m.\u001b[39mmax_results_per_request))\n\u001b[1;32m    <a href='file:///Users/guus/miniconda3/envs/praw/lib/python3.10/site-packages/psaw/PushshiftAPI.py?line=212'>213</a>\u001b[0m \u001b[39mself\u001b[39m\u001b[39m.\u001b[39m_add_nec_args(\u001b[39mself\u001b[39m\u001b[39m.\u001b[39mpayload)\n\u001b[0;32m--> <a href='file:///Users/guus/miniconda3/envs/praw/lib/python3.10/site-packages/psaw/PushshiftAPI.py?line=214'>215</a>\u001b[0m data \u001b[39m=\u001b[39m \u001b[39mself\u001b[39;49m\u001b[39m.\u001b[39;49m_get(url, \u001b[39mself\u001b[39;49m\u001b[39m.\u001b[39;49mpayload)\n\u001b[1;32m    <a href='file:///Users/guus/miniconda3/envs/praw/lib/python3.10/site-packages/psaw/PushshiftAPI.py?line=215'>216</a>\u001b[0m \u001b[39myield\u001b[39;00m data\n\u001b[1;32m    <a href='file:///Users/guus/miniconda3/envs/praw/lib/python3.10/site-packages/psaw/PushshiftAPI.py?line=216'>217</a>\u001b[0m \u001b[39mif\u001b[39;00m limit \u001b[39mis\u001b[39;00m \u001b[39mnot\u001b[39;00m \u001b[39mNone\u001b[39;00m:\n",
      "File \u001b[0;32m~/miniconda3/envs/praw/lib/python3.10/site-packages/psaw/PushshiftAPI.py:181\u001b[0m, in \u001b[0;36mPushshiftAPIMinimal._get\u001b[0;34m(self, url, payload)\u001b[0m\n\u001b[1;32m    <a href='file:///Users/guus/miniconda3/envs/praw/lib/python3.10/site-packages/psaw/PushshiftAPI.py?line=178'>179</a>\u001b[0m \u001b[39mif\u001b[39;00m i \u001b[39m>\u001b[39m \u001b[39m0\u001b[39m:\n\u001b[1;32m    <a href='file:///Users/guus/miniconda3/envs/praw/lib/python3.10/site-packages/psaw/PushshiftAPI.py?line=179'>180</a>\u001b[0m     warnings\u001b[39m.\u001b[39mwarn(\u001b[39m\"\u001b[39m\u001b[39mUnable to connect to pushshift.io. Retrying after backoff.\u001b[39m\u001b[39m\"\u001b[39m)\n\u001b[0;32m--> <a href='file:///Users/guus/miniconda3/envs/praw/lib/python3.10/site-packages/psaw/PushshiftAPI.py?line=180'>181</a>\u001b[0m \u001b[39mself\u001b[39;49m\u001b[39m.\u001b[39;49m_impose_rate_limit(i)\n\u001b[1;32m    <a href='file:///Users/guus/miniconda3/envs/praw/lib/python3.10/site-packages/psaw/PushshiftAPI.py?line=181'>182</a>\u001b[0m i\u001b[39m+\u001b[39m\u001b[39m=\u001b[39m\u001b[39m1\u001b[39m\n\u001b[1;32m    <a href='file:///Users/guus/miniconda3/envs/praw/lib/python3.10/site-packages/psaw/PushshiftAPI.py?line=182'>183</a>\u001b[0m \u001b[39mtry\u001b[39;00m:\n",
      "File \u001b[0;32m~/miniconda3/envs/praw/lib/python3.10/site-packages/psaw/PushshiftAPI.py:151\u001b[0m, in \u001b[0;36mPushshiftAPIMinimal._impose_rate_limit\u001b[0;34m(self, nth_request)\u001b[0m\n\u001b[1;32m    <a href='file:///Users/guus/miniconda3/envs/praw/lib/python3.10/site-packages/psaw/PushshiftAPI.py?line=148'>149</a>\u001b[0m \u001b[39mif\u001b[39;00m interval \u001b[39m>\u001b[39m \u001b[39m0\u001b[39m:\n\u001b[1;32m    <a href='file:///Users/guus/miniconda3/envs/praw/lib/python3.10/site-packages/psaw/PushshiftAPI.py?line=149'>150</a>\u001b[0m     log\u001b[39m.\u001b[39mdebug(\u001b[39m\"\u001b[39m\u001b[39mImposing rate limit, sleeping for \u001b[39m\u001b[39m%s\u001b[39;00m\u001b[39m\"\u001b[39m \u001b[39m%\u001b[39m interval)\n\u001b[0;32m--> <a href='file:///Users/guus/miniconda3/envs/praw/lib/python3.10/site-packages/psaw/PushshiftAPI.py?line=150'>151</a>\u001b[0m     time\u001b[39m.\u001b[39;49msleep(interval)\n",
      "\u001b[0;31mKeyboardInterrupt\u001b[0m: "
     ]
    }
   ],
   "source": [
    "from psaw import PushshiftAPI\n",
    "api = PushshiftAPI()\n",
    "\n",
    "# Get all posts made between march 8 2022 and now\n",
    "start = int(datetime.datetime(2022, 3, 8).timestamp())\n",
    "res = api.search_submissions(\n",
    "    after = start,\n",
    "    subreddit = 'kombucha',\n",
    "    sort_type = 'desc',\n",
    "    filter = ['id', 'media_metadata', 'created_utc', 'url', 'link_flair_text', 'retrieved_on' , 'title'])\n",
    "posts = list(res)\n",
    "print(len(posts))\n"
   ]
  },
  {
   "cell_type": "markdown",
   "metadata": {},
   "source": [
    "That seems to run forever, even for a short timespan. It may be better to implement this function manually."
   ]
  },
  {
   "cell_type": "code",
   "execution_count": 271,
   "metadata": {},
   "outputs": [
    {
     "name": "stdout",
     "output_type": "stream",
     "text": [
      "Number of posts fetched: 100\n",
      "Number of posts fetched: 200\n",
      "Number of posts fetched: 300\n",
      "Number of posts fetched: 400\n",
      "Number of posts fetched: 500\n",
      "Number of posts fetched: 600\n",
      "Number of posts fetched: 607\n"
     ]
    }
   ],
   "source": [
    "# We expect 100 hits per query\n",
    "limit = 100\n",
    "n_hits = limit\n",
    "\n",
    "# Get the current timestamp\n",
    "now = datetime.datetime.today()\n",
    "now_ts = datetime.datetime.timestamp(now)\n",
    "ts = int(now_ts)\n",
    "\n",
    "# Get a date at which to stop fetching posts\n",
    "end_str = \"03/07/2022\"\n",
    "end = datetime.datetime.strptime(end_str, \"%m/%d/%Y\")\n",
    "end_ts = int(datetime.datetime.timestamp(date))\n",
    "\n",
    "# Structure to store posts\n",
    "posts = []\n",
    "\n",
    "# Rudimentary function to call the API\n",
    "def call_ps(limit, ts, end_ts):\n",
    "    q = \"https://api.pushshift.io/reddit/search/submission/?subreddit=kombucha&sort=desc&sort_type=created_utc&size=%s&fields=id,media_metadata,created_utc,url,link_flair_text,retrieved_on,title&before=%s&after=%s\" % (limit, ts, end_ts)\n",
    "    response = urllib.request.urlopen(q)\n",
    "    data = response.read()\n",
    "    result = json.loads(data)[\"data\"]\n",
    "    return(result)\n",
    "\n",
    "# Fetch results until the end date is hit\n",
    "while (ts >= end_ts and n_hits == limit):\n",
    "    result = call_ps(limit, ts, end_ts)\n",
    "    posts = posts + result\n",
    "    print(\"Number of posts fetched: \" + str(len(posts)))\n",
    "    n_hits = len(result)\n",
    "    ts = int(result[n_hits - 1][\"created_utc\"])\n",
    "    time.sleep(1)\n",
    "    \n",
    "    "
   ]
  }
 ],
 "metadata": {
  "interpreter": {
   "hash": "74597b8a6c2e78b1702df7d723b5e614cf34ec9e123fac975035cbc72d20fe8a"
  },
  "kernelspec": {
   "display_name": "Python 3.7.3 64-bit ('3.7.3')",
   "language": "python",
   "name": "python3"
  },
  "language_info": {
   "codemirror_mode": {
    "name": "ipython",
    "version": 3
   },
   "file_extension": ".py",
   "mimetype": "text/x-python",
   "name": "python",
   "nbconvert_exporter": "python",
   "pygments_lexer": "ipython3",
   "version": "3.10.2"
  },
  "orig_nbformat": 4
 },
 "nbformat": 4,
 "nbformat_minor": 2
}
