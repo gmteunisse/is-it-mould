{
 "cells": [
  {
   "cell_type": "markdown",
   "metadata": {},
   "source": [
    "# Introduction\n",
    "This is a Jupyter notebook, designed to test out the PRAW library and get an idea of how to use it for reddit scraping. It requires the `praw` library, which can be installed directly (e.g. `pip install praw`) or in a conda environment.\n",
    "\n",
    "# Set up a reddit instance\n",
    "First, we need to set up a reddit instance. This requires setting up a Reddit application. Head over to [the authorized applications page](https://www.reddit.com/prefs/apps) and create a new script at the bottom. It is required to add a title, description and redirect uri (use `http://localhost:8080` here). Once your apps has been created, you will have the required credentials to start using the Reddit API. The `user_agent` is the name of the application; the `client_id` is the line of gibberish next to the icon of the application; and the `client_secret` is the `secret` gibberish. "
   ]
  },
  {
   "cell_type": "code",
   "execution_count": 1,
   "metadata": {},
   "outputs": [],
   "source": [
    "import praw\n",
    "reddit = praw.Reddit(\n",
    "    user_agent=\"IsItMould?\",\n",
    "    client_id=\"EXRL43UtmsdPymRwqZErkg\",\n",
    "    client_secret=\"JrkEkIWSzI_srcUvJeh24Q__qvS3VQ\",\n",
    ")"
   ]
  },
  {
   "cell_type": "markdown",
   "metadata": {},
   "source": [
    "# Get and filter data from subreddit\n",
    "Next, let's try to obtain some data from our subreddit of interest: `r/kombucha`. First, lets print the attributes and methods for the latest post. Then we will get the last 5 posts by date and output some basic information like the post id, timestamp and title.\n",
    "\n",
    "## Available attributes\n",
    "Let's have a look at the available attributes and methods for the objects that are returned by `praw`."
   ]
  },
  {
   "cell_type": "code",
   "execution_count": 105,
   "metadata": {},
   "outputs": [
    {
     "name": "stdout",
     "output_type": "stream",
     "text": [
      "['MESSAGE_PREFIX', 'STR_FIELD', 'VALID_TIME_FILTERS', '__class__', '__delattr__', '__dict__', '__dir__', '__doc__', '__eq__', '__format__', '__ge__', '__getattr__', '__getattribute__', '__gt__', '__hash__', '__init__', '__init_subclass__', '__le__', '__lt__', '__module__', '__ne__', '__new__', '__reduce__', '__reduce_ex__', '__repr__', '__setattr__', '__sizeof__', '__str__', '__subclasshook__', '__weakref__', '_convert_to_fancypants', '_create_or_update', '_fetch', '_fetch_data', '_fetch_info', '_fetched', '_kind', '_parse_xml_response', '_path', '_reddit', '_reset_attributes', '_safely_add_arguments', '_submission_class', '_submit_media', '_subreddit_collections_class', '_subreddit_list', '_upload_inline_media', '_upload_media', '_url_parts', '_validate_gallery', '_validate_inline_media', '_validate_time_filter', 'banned', 'collections', 'comments', 'contributor', 'controversial', 'display_name', 'emoji', 'filters', 'flair', 'fullname', 'gilded', 'hot', 'message', 'mod', 'moderator', 'modmail', 'muted', 'new', 'parse', 'post_requirements', 'quaran', 'random', 'random_rising', 'rising', 'rules', 'search', 'sticky', 'stream', 'stylesheet', 'submit', 'submit_gallery', 'submit_image', 'submit_poll', 'submit_video', 'subscribe', 'top', 'traffic', 'unsubscribe', 'widgets', 'wiki']\n",
      "{'comment_limit': 2048, 'comment_sort': 'confidence', '_reddit': <praw.reddit.Reddit object at 0x1064cd3c0>, 'approved_at_utc': None, 'subreddit': Subreddit(display_name='Kombucha'), 'selftext': 'When brewing a new batch should I use the oldest scoby and how long should I keep an old scoby or does it not matter and will work fine regardless of age?', 'author_fullname': 't2_3tmbd0dz', 'saved': False, 'mod_reason_title': None, 'gilded': 0, 'clicked': False, 'title': 'Scoby hotel question', 'link_flair_richtext': [], 'subreddit_name_prefixed': 'r/Kombucha', 'hidden': False, 'pwls': 6, 'link_flair_css_class': 'one', 'downs': 0, 'thumbnail_height': None, 'top_awarded_type': None, 'hide_score': False, 'name': 't3_t7rlvt', 'quarantine': False, 'link_flair_text_color': 'dark', 'upvote_ratio': 0.5, 'author_flair_background_color': None, 'subreddit_type': 'public', 'ups': 0, 'total_awards_received': 0, 'media_embed': {}, 'thumbnail_width': None, 'author_flair_template_id': None, 'is_original_content': False, 'user_reports': [], 'secure_media': None, 'is_reddit_media_domain': False, 'is_meta': False, 'category': None, 'secure_media_embed': {}, 'link_flair_text': 'question', 'can_mod_post': False, 'score': 0, 'approved_by': None, 'is_created_from_ads_ui': False, 'author_premium': False, 'thumbnail': 'self', 'edited': False, 'author_flair_css_class': None, 'author_flair_richtext': [], 'gildings': {}, 'content_categories': None, 'is_self': True, 'mod_note': None, 'created': 1646543272.0, 'link_flair_type': 'text', 'wls': 6, 'removed_by_category': None, 'banned_by': None, 'author_flair_type': 'text', 'domain': 'self.Kombucha', 'allow_live_comments': False, 'selftext_html': '<!-- SC_OFF --><div class=\"md\"><p>When brewing a new batch should I use the oldest scoby and how long should I keep an old scoby or does it not matter and will work fine regardless of age?</p>\\n</div><!-- SC_ON -->', 'likes': None, 'suggested_sort': None, 'banned_at_utc': None, 'view_count': None, 'archived': False, 'no_follow': True, 'is_crosspostable': False, 'pinned': False, 'over_18': False, 'all_awardings': [], 'awarders': [], 'media_only': False, 'link_flair_template_id': '9441f570-e9d1-11e8-9e6a-0e0891963e48', 'can_gild': False, 'spoiler': False, 'locked': False, 'author_flair_text': None, 'treatment_tags': [], 'visited': False, 'removed_by': None, 'num_reports': None, 'distinguished': None, 'subreddit_id': 't5_2qx36', 'author_is_blocked': False, 'mod_reason_by': None, 'removal_reason': None, 'link_flair_background_color': '#ffb000', 'id': 't7rlvt', 'is_robot_indexable': True, 'report_reasons': None, 'author': Redditor(name='Jilly87'), 'discussion_type': None, 'num_comments': 1, 'send_replies': True, 'whitelist_status': 'all_ads', 'contest_mode': False, 'mod_reports': [], 'author_patreon_flair': False, 'author_flair_text_color': None, 'permalink': '/r/Kombucha/comments/t7rlvt/scoby_hotel_question/', 'parent_whitelist_status': 'all_ads', 'stickied': False, 'url': 'https://www.reddit.com/r/Kombucha/comments/t7rlvt/scoby_hotel_question/', 'subreddit_subscribers': 323082, 'created_utc': 1646543272.0, 'num_crossposts': 0, 'media': None, 'is_video': False, '_fetched': False, '_comments_by_id': {}}\n"
     ]
    }
   ],
   "source": [
    "# Get the attributes for a subreddit\n",
    "print(dir(reddit.subreddit('kombucha')))\n",
    "\n",
    "# Get the attributes for a post\n",
    "last_posts = reddit.subreddit('kombucha').new(limit=1)\n",
    "for post in last_posts:\n",
    "    print(vars(post))"
   ]
  },
  {
   "cell_type": "markdown",
   "metadata": {},
   "source": [
    "## Return the last posts\n",
    "Seems that the last posts can be returned using `.new()`. We can then extract useful information like the post id, the timestamp and the post title."
   ]
  },
  {
   "cell_type": "code",
   "execution_count": 48,
   "metadata": {},
   "outputs": [
    {
     "name": "stdout",
     "output_type": "stream",
     "text": [
      "Last 5 posts from the kombucha reddit:\n",
      "\n",
      "id\ttimestamp\ttitle\n",
      "t7rlvt\t2022-03-06 06:07:52\tScoby hotel question\n",
      "t7qbhc\t2022-03-06 04:48:15\tKratom as a singular base in 1f\n",
      "t7o1p7\t2022-03-06 02:38:07\tIs this normal??\n",
      "t7kec5\t2022-03-05 23:23:52\tThird batch, four days in, but what is that dark area within the scoby — and what are these dark thread-like things in the liquid? Newbie here, still learning.\n",
      "t7k2i9\t2022-03-05 23:07:08\t5 Days into F1 (second batch), do these white bumps look anything like mold to you?\n"
     ]
    }
   ],
   "source": [
    "# Import datetime\n",
    "import datetime\n",
    "\n",
    "# Grab the last 5 posts\n",
    "last_posts = reddit.subreddit('kombucha').new(limit=5)\n",
    "\n",
    "# Function to determine date and time posted\n",
    "# courtesty of https://www.reddit.com/r/learnprogramming/comments/37kr5n/praw_is_it_possible_to_get_post_time_and_date/\n",
    "def get_date(submission):\n",
    "\ttime = submission.created\n",
    "\treturn datetime.datetime.fromtimestamp(time)\n",
    "\n",
    "# Print post id, date and title\n",
    "print(\"Last 5 posts from the kombucha reddit:\\n\")\n",
    "print(\"id\\ttimestamp\\ttitle\")\n",
    "for post in last_posts:\n",
    "    attrs = (post.id, get_date(post), post.title)\n",
    "    print(\"%s\\t%s\\t%s\" % attrs)"
   ]
  },
  {
   "cell_type": "markdown",
   "metadata": {},
   "source": [
    "## Filter by flair\n",
    "To create our scraper, we are looking for posts that contain images of pellicles. Specifically, we want images of pellicles that have been classified as either \"mold!\" or not \"not mold\" by their flair. It seems to be possible to filter posts by flair."
   ]
  },
  {
   "cell_type": "code",
   "execution_count": 61,
   "metadata": {},
   "outputs": [
    {
     "name": "stdout",
     "output_type": "stream",
     "text": [
      "Last 5 mold posts from the kombucha reddit:\n",
      "\n",
      "id\ttimestamp\ttitle\n",
      "t6a39m\t2022-03-04 05:03:15\tMold?\n",
      "t4k01s\t2022-03-01 23:18:08\they guys, that looks normal? or it's kind of mold?\n",
      "t3i3pd\t2022-02-28 16:26:36\tAny idea if this is normal pellicle formation, or mold?\n",
      "t2cb8t\t2022-02-27 02:17:09\tMy first time making kombucha. This does look like mold? Should I throw it out?\n",
      "t11wwj\t2022-02-25 12:34:45\tIgnored this for… a year? Definitely has a dried leathery top that extends about an inch down. Should I (try) take it out and cut off the dried part and then add more sweet tea?\n"
     ]
    }
   ],
   "source": [
    "# Obtain the last 5 mold posts\n",
    "mold_posts = reddit.subreddit('kombucha').search(query='flair:\"mold!\"', sort='new', limit = 5, syntax='lucene')\n",
    "print(\"Last 5 mold posts from the kombucha reddit:\\n\")\n",
    "print(\"id\\ttimestamp\\ttitle\")\n",
    "for post in mold_posts:\n",
    "    attrs = (post.id, get_date(post), post.title)\n",
    "    print(\"%s\\t%s\\t%s\" % attrs)"
   ]
  },
  {
   "cell_type": "code",
   "execution_count": 68,
   "metadata": {},
   "outputs": [
    {
     "name": "stdout",
     "output_type": "stream",
     "text": [
      "\n",
      "Last 5 not mold posts from the kombucha reddit:\n",
      "\n",
      "id\ttimestamp\ttitle\n",
      "t6a39m\t2022-03-04 05:03:15\tMold?\n",
      "t3i3pd\t2022-02-28 16:26:36\tAny idea if this is normal pellicle formation, or mold?\n",
      "t2cb8t\t2022-02-27 02:17:09\tMy first time making kombucha. This does look like mold? Should I throw it out?\n",
      "t11wwj\t2022-02-25 12:34:45\tIgnored this for… a year? Definitely has a dried leathery top that extends about an inch down. Should I (try) take it out and cut off the dried part and then add more sweet tea?\n",
      "t0n4vh\t2022-02-24 23:20:59\tFirst time making kombucha. Is this mold?\n"
     ]
    }
   ],
   "source": [
    "# Obtain the last 5 not mold posts\n",
    "not_mold_posts = reddit.subreddit('kombucha').search(query='flair:\"not mold\"', sort='new', limit = 5, syntax='lucene')\n",
    "print(\"\\nLast 5 not mold posts from the kombucha reddit:\\n\")\n",
    "print(\"id\\ttimestamp\\ttitle\")\n",
    "for post in not_mold_posts:\n",
    "    attrs = (post.id, get_date(post), post.title)\n",
    "    print(\"%s\\t%s\\t%s\" % attrs)"
   ]
  },
  {
   "cell_type": "markdown",
   "metadata": {},
   "source": [
    "That didn't seem to work - the flairs are different, yet the posts overlap. Altering the syntax between `lucene`, `cloudsearch` and `plain` syntaxes also didn't do the trick. On the reddit website - `flair:\"not mold\"` returns just the `not mold` posts. As an alternative, can we get all `mold` posts and then obtain by their flair?"
   ]
  },
  {
   "cell_type": "code",
   "execution_count": 86,
   "metadata": {},
   "outputs": [
    {
     "name": "stdout",
     "output_type": "stream",
     "text": [
      "\n",
      "Last 5 mold or not mold posts from the kombucha reddit:\n",
      "\n",
      "id\ttimestamp\tflair\ttitle\n",
      "t6a39m\t2022-03-04 05:03:15\tnot mold\tMold?\n",
      "t4k01s\t2022-03-01 23:18:08\tmold!\they guys, that looks normal? or it's kind of mold?\n",
      "t3i3pd\t2022-02-28 16:26:36\tnot mold\tAny idea if this is normal pellicle formation, or mold?\n",
      "t2cb8t\t2022-02-27 02:17:09\tnot mold\tMy first time making kombucha. This does look like mold? Should I throw it out?\n",
      "t11wwj\t2022-02-25 12:34:45\tnot mold\tIgnored this for… a year? Definitely has a dried leathery top that extends about an inch down. Should I (try) take it out and cut off the dried part and then add more sweet tea?\n"
     ]
    }
   ],
   "source": [
    "mold_posts = reddit.subreddit('kombucha').search(\n",
    "    query='flair:\"*mold*\"', \n",
    "    sort='new', \n",
    "    limit = 5, \n",
    "    syntax='lucene')\n",
    "print(\"\\nLast 5 mold or not mold posts from the kombucha reddit:\\n\")\n",
    "print(\"id\\ttimestamp\\tflair\\ttitle\")\n",
    "for post in mold_posts:\n",
    "    attrs = (post.id, get_date(post), post.link_flair_text, post.title)\n",
    "    print(\"%s\\t%s\\t%s\\t%s\" % attrs)"
   ]
  },
  {
   "cell_type": "markdown",
   "metadata": {},
   "source": [
    "That worked! These posts match the results on the reddit website, and this seems sufficient to scrape the posts (and hopefully images) we need for our classifier.\n",
    "\n",
    "## Image from post\n",
    "Next, we need to obtain the URLs to images that have been attached to these posts. First, let's try to get these from the post URL."
   ]
  },
  {
   "cell_type": "code",
   "execution_count": 89,
   "metadata": {},
   "outputs": [
    {
     "name": "stdout",
     "output_type": "stream",
     "text": [
      "\n",
      "Last 5 mold or not mold posts from the kombucha reddit:\n",
      "\n",
      "id\ttimestamp\tflair\turl\n",
      "t6a39m\t2022-03-04 05:03:15\tnot mold\thttps://www.reddit.com/gallery/t6a39m\n",
      "t4k01s\t2022-03-01 23:18:08\tmold!\thttps://www.reddit.com/gallery/t4k01s\n",
      "t3i3pd\t2022-02-28 16:26:36\tnot mold\thttps://www.reddit.com/gallery/t3i3pd\n",
      "t2cb8t\t2022-02-27 02:17:09\tnot mold\thttps://i.redd.it/sry5fwcf1ak81.jpg\n",
      "t11wwj\t2022-02-25 12:34:45\tnot mold\thttps://www.reddit.com/gallery/t11wwj\n"
     ]
    }
   ],
   "source": [
    "mold_posts = reddit.subreddit('kombucha').search(\n",
    "    query='flair:\"*mold*\"', \n",
    "    sort='new', \n",
    "    limit = 5, \n",
    "    syntax='lucene')\n",
    "print(\"\\nLast 5 mold or not mold posts from the kombucha reddit:\\n\")\n",
    "print(\"id\\ttimestamp\\tflair\\turl\")\n",
    "for post in mold_posts:\n",
    "    attrs = (post.id, get_date(post), post.link_flair_text, post.url)\n",
    "    print(\"%s\\t%s\\t%s\\t%s\" % attrs)"
   ]
  },
  {
   "cell_type": "markdown",
   "metadata": {},
   "source": [
    "It seems that in some posts, the URL points directly to an image, whereas in others, it points to a gallery. Perhaps the `media_metadata` allows us to access all images within the gallery?"
   ]
  },
  {
   "cell_type": "code",
   "execution_count": 107,
   "metadata": {},
   "outputs": [
    {
     "name": "stdout",
     "output_type": "stream",
     "text": [
      "\n",
      "Last 5 mold or not mold posts from the kombucha reddit:\n",
      "\n",
      "id\ttimestamp\tflair\turl\n",
      "t6a39m\t2022-03-04 05:03:15\tnot mold\t{'5ik11nnmjal81': {'status': 'valid', 'e': 'Image', 'm': 'image/jpg', 'p': [{'y': 192, 'x': 108, 'u': 'https://preview.redd.it/5ik11nnmjal81.jpg?width=108&crop=smart&auto=webp&s=a9a3d6ad8eebfc9cd31e14e400b1f691d7d5372f'}, {'y': 384, 'x': 216, 'u': 'https://preview.redd.it/5ik11nnmjal81.jpg?width=216&crop=smart&auto=webp&s=4de944ecc985afad908ca87a1d0cd4ed4840d78b'}, {'y': 568, 'x': 320, 'u': 'https://preview.redd.it/5ik11nnmjal81.jpg?width=320&crop=smart&auto=webp&s=de608d065ee8d9249989fff3f0d5bef50803501b'}, {'y': 1137, 'x': 640, 'u': 'https://preview.redd.it/5ik11nnmjal81.jpg?width=640&crop=smart&auto=webp&s=66884928f830099b8ba674e953a4ff63d6d82b77'}, {'y': 1706, 'x': 960, 'u': 'https://preview.redd.it/5ik11nnmjal81.jpg?width=960&crop=smart&auto=webp&s=27453143cb7b5dc12b48543c99c914eea151d657'}, {'y': 1920, 'x': 1080, 'u': 'https://preview.redd.it/5ik11nnmjal81.jpg?width=1080&crop=smart&auto=webp&s=22ef4d6930272517198aa52cc62cc728ebbff210'}], 's': {'y': 4032, 'x': 2268, 'u': 'https://preview.redd.it/5ik11nnmjal81.jpg?width=2268&format=pjpg&auto=webp&s=bc64f6eeb7a9a510df20a3fcb9c93ae882a8f0fe'}, 'id': '5ik11nnmjal81'}, 'hdkxlonmjal81': {'status': 'valid', 'e': 'Image', 'm': 'image/jpg', 'p': [{'y': 192, 'x': 108, 'u': 'https://preview.redd.it/hdkxlonmjal81.jpg?width=108&crop=smart&auto=webp&s=e595058e9917bdf9da6d5ac05479ef63a1133107'}, {'y': 384, 'x': 216, 'u': 'https://preview.redd.it/hdkxlonmjal81.jpg?width=216&crop=smart&auto=webp&s=f0ff80c63b32f22a4cd730f74b820cc5a189b9c3'}, {'y': 568, 'x': 320, 'u': 'https://preview.redd.it/hdkxlonmjal81.jpg?width=320&crop=smart&auto=webp&s=d828708bc99f96230080cd45d6ac88a6399a3fd1'}, {'y': 1137, 'x': 640, 'u': 'https://preview.redd.it/hdkxlonmjal81.jpg?width=640&crop=smart&auto=webp&s=4424daa9cae3eab188a7887bf1ac371738ff6954'}, {'y': 1706, 'x': 960, 'u': 'https://preview.redd.it/hdkxlonmjal81.jpg?width=960&crop=smart&auto=webp&s=9be4271fe54ea749c8ac99c0c20e64678e4a98ae'}, {'y': 1920, 'x': 1080, 'u': 'https://preview.redd.it/hdkxlonmjal81.jpg?width=1080&crop=smart&auto=webp&s=5991b8d7b5f2d9797557d7947b0a6f86b414c0c1'}], 's': {'y': 4032, 'x': 2268, 'u': 'https://preview.redd.it/hdkxlonmjal81.jpg?width=2268&format=pjpg&auto=webp&s=1890eced03d9199751ca813fac984138367ce3e5'}, 'id': 'hdkxlonmjal81'}}\n",
      "\n",
      "\n",
      "t4k01s\t2022-03-01 23:18:08\tmold!\t{'eh1lhbe8kuk81': {'status': 'valid', 'e': 'Image', 'm': 'image/jpg', 'p': [{'y': 144, 'x': 108, 'u': 'https://preview.redd.it/eh1lhbe8kuk81.jpg?width=108&crop=smart&auto=webp&s=b4a12c1ce5caf70d921d785e922fe30055bfd198'}, {'y': 288, 'x': 216, 'u': 'https://preview.redd.it/eh1lhbe8kuk81.jpg?width=216&crop=smart&auto=webp&s=22bb6484da1610ec63291f01673708c487aa04ae'}, {'y': 426, 'x': 320, 'u': 'https://preview.redd.it/eh1lhbe8kuk81.jpg?width=320&crop=smart&auto=webp&s=31d601014de89b2b72c8ee3969e7b052ef4a433b'}, {'y': 853, 'x': 640, 'u': 'https://preview.redd.it/eh1lhbe8kuk81.jpg?width=640&crop=smart&auto=webp&s=7d1f77766b8690323ef09b96d5f7faba9caf1b1a'}, {'y': 1280, 'x': 960, 'u': 'https://preview.redd.it/eh1lhbe8kuk81.jpg?width=960&crop=smart&auto=webp&s=20d3ecfba41a314163eac2936e78123616728e80'}, {'y': 1440, 'x': 1080, 'u': 'https://preview.redd.it/eh1lhbe8kuk81.jpg?width=1080&crop=smart&auto=webp&s=cce112516fe5997887a5b59db2ff8e470bae5c0b'}], 's': {'y': 4032, 'x': 3024, 'u': 'https://preview.redd.it/eh1lhbe8kuk81.jpg?width=3024&format=pjpg&auto=webp&s=b6c10d625d5cd71b2e1239897535fe29bd607555'}, 'id': 'eh1lhbe8kuk81'}, 'hp1gmbe8kuk81': {'status': 'valid', 'e': 'Image', 'm': 'image/jpg', 'p': [{'y': 144, 'x': 108, 'u': 'https://preview.redd.it/hp1gmbe8kuk81.jpg?width=108&crop=smart&auto=webp&s=11e893cd727f2749f878a7c5bf72b5bb09a07e0e'}, {'y': 288, 'x': 216, 'u': 'https://preview.redd.it/hp1gmbe8kuk81.jpg?width=216&crop=smart&auto=webp&s=defd5967f6d8bb83f9ed5ea10bd38b58eb785266'}, {'y': 426, 'x': 320, 'u': 'https://preview.redd.it/hp1gmbe8kuk81.jpg?width=320&crop=smart&auto=webp&s=16b03bce994db9d435e290dfc5c4dade4a68c12b'}, {'y': 853, 'x': 640, 'u': 'https://preview.redd.it/hp1gmbe8kuk81.jpg?width=640&crop=smart&auto=webp&s=40dc8c5f8289f72eb54173e4fca757b1cb089749'}, {'y': 1280, 'x': 960, 'u': 'https://preview.redd.it/hp1gmbe8kuk81.jpg?width=960&crop=smart&auto=webp&s=2bf87ae3250726f4274a46cd139900c43658704c'}, {'y': 1440, 'x': 1080, 'u': 'https://preview.redd.it/hp1gmbe8kuk81.jpg?width=1080&crop=smart&auto=webp&s=9ffae1eab38d31c4b04ae8cbe5cbdeae129827f6'}], 's': {'y': 4032, 'x': 3024, 'u': 'https://preview.redd.it/hp1gmbe8kuk81.jpg?width=3024&format=pjpg&auto=webp&s=cee7d91729704155afdba4eb641f9d2d785c561b'}, 'id': 'hp1gmbe8kuk81'}}\n",
      "\n",
      "\n",
      "t3i3pd\t2022-02-28 16:26:36\tnot mold\t{'brdgv5rwdlk81': {'status': 'valid', 'e': 'Image', 'm': 'image/jpg', 'p': [{'y': 144, 'x': 108, 'u': 'https://preview.redd.it/brdgv5rwdlk81.jpg?width=108&crop=smart&auto=webp&s=691176292c53910555546d120e916a0b3a7e92f3'}, {'y': 288, 'x': 216, 'u': 'https://preview.redd.it/brdgv5rwdlk81.jpg?width=216&crop=smart&auto=webp&s=4dc2eec16561c4a39d7cb9465a3028ca572a0198'}, {'y': 426, 'x': 320, 'u': 'https://preview.redd.it/brdgv5rwdlk81.jpg?width=320&crop=smart&auto=webp&s=d8f80060c6651f024e7597ef587a568de46a777e'}, {'y': 853, 'x': 640, 'u': 'https://preview.redd.it/brdgv5rwdlk81.jpg?width=640&crop=smart&auto=webp&s=2d983b0dbeb09997a024730b3ff7923a31bdf976'}, {'y': 1280, 'x': 960, 'u': 'https://preview.redd.it/brdgv5rwdlk81.jpg?width=960&crop=smart&auto=webp&s=ede7344ad0e74d5e31bb65c441c5d13ebb5cd546'}, {'y': 1440, 'x': 1080, 'u': 'https://preview.redd.it/brdgv5rwdlk81.jpg?width=1080&crop=smart&auto=webp&s=ba0dec15d38ed3c22db11155984d5e071fad57dc'}], 's': {'y': 4032, 'x': 3024, 'u': 'https://preview.redd.it/brdgv5rwdlk81.jpg?width=3024&format=pjpg&auto=webp&s=7cec490c2602a8f1e0db0bf374da6deb0d026fca'}, 'id': 'brdgv5rwdlk81'}, 'bysx86rwdlk81': {'status': 'valid', 'e': 'Image', 'm': 'image/jpg', 'p': [{'y': 144, 'x': 108, 'u': 'https://preview.redd.it/bysx86rwdlk81.jpg?width=108&crop=smart&auto=webp&s=4337c80adddc65957db11b558ca4c95db8d8915d'}, {'y': 288, 'x': 216, 'u': 'https://preview.redd.it/bysx86rwdlk81.jpg?width=216&crop=smart&auto=webp&s=de1244326d2fee123f07e0ecef8c93a123a07f2c'}, {'y': 426, 'x': 320, 'u': 'https://preview.redd.it/bysx86rwdlk81.jpg?width=320&crop=smart&auto=webp&s=6227476ef9be76e368c58615eae9d74c21d174cd'}, {'y': 853, 'x': 640, 'u': 'https://preview.redd.it/bysx86rwdlk81.jpg?width=640&crop=smart&auto=webp&s=f2628111de62167fba8bcdf2906834ea545b12ee'}, {'y': 1280, 'x': 960, 'u': 'https://preview.redd.it/bysx86rwdlk81.jpg?width=960&crop=smart&auto=webp&s=6f07860be9b7db3b42ef533685b2e299321bf779'}, {'y': 1440, 'x': 1080, 'u': 'https://preview.redd.it/bysx86rwdlk81.jpg?width=1080&crop=smart&auto=webp&s=ed6f80eb0508d5f6307e42b70849744cffb32d91'}], 's': {'y': 4032, 'x': 3024, 'u': 'https://preview.redd.it/bysx86rwdlk81.jpg?width=3024&format=pjpg&auto=webp&s=6f5a7182eb7ce0d7a2fa6e36da5634dd23ad1b6b'}, 'id': 'bysx86rwdlk81'}, 'acw997rwdlk81': {'status': 'valid', 'e': 'Image', 'm': 'image/jpg', 'p': [{'y': 144, 'x': 108, 'u': 'https://preview.redd.it/acw997rwdlk81.jpg?width=108&crop=smart&auto=webp&s=cbaff0abddcbd767cb9255d1728073dad9a5a833'}, {'y': 288, 'x': 216, 'u': 'https://preview.redd.it/acw997rwdlk81.jpg?width=216&crop=smart&auto=webp&s=af4388bbf0e40e8e956af898a7ad7acf60dfee33'}, {'y': 426, 'x': 320, 'u': 'https://preview.redd.it/acw997rwdlk81.jpg?width=320&crop=smart&auto=webp&s=49199c0013007bbe8cd03bdf934b70ad79d22844'}, {'y': 853, 'x': 640, 'u': 'https://preview.redd.it/acw997rwdlk81.jpg?width=640&crop=smart&auto=webp&s=18cfbf12e884249a0fc134995bd06ed3eda39410'}, {'y': 1280, 'x': 960, 'u': 'https://preview.redd.it/acw997rwdlk81.jpg?width=960&crop=smart&auto=webp&s=55b1cf718c1c78a10ae80d9c9d6a33cf30ea548e'}, {'y': 1440, 'x': 1080, 'u': 'https://preview.redd.it/acw997rwdlk81.jpg?width=1080&crop=smart&auto=webp&s=da1cd23836af569a4d6fae6070d66985ca38d62a'}], 's': {'y': 4032, 'x': 3024, 'u': 'https://preview.redd.it/acw997rwdlk81.jpg?width=3024&format=pjpg&auto=webp&s=7caa051ba6fc30d7b233ced8ab9207dbc5f4d6c3'}, 'id': 'acw997rwdlk81'}}\n",
      "\n",
      "\n"
     ]
    },
    {
     "ename": "AttributeError",
     "evalue": "'Submission' object has no attribute 'media_metadata'",
     "output_type": "error",
     "traceback": [
      "\u001b[0;31m---------------------------------------------------------------------------\u001b[0m",
      "\u001b[0;31mAttributeError\u001b[0m                            Traceback (most recent call last)",
      "\u001b[1;32m/Users/guus/Documents/Code/is-it-mould/test_scraping.ipynb Cell 14'\u001b[0m in \u001b[0;36m<cell line: 8>\u001b[0;34m()\u001b[0m\n\u001b[1;32m      <a href='vscode-notebook-cell:/Users/guus/Documents/Code/is-it-mould/test_scraping.ipynb#ch0000014?line=6'>7</a>\u001b[0m \u001b[39mprint\u001b[39m(\u001b[39m\"\u001b[39m\u001b[39mid\u001b[39m\u001b[39m\\t\u001b[39;00m\u001b[39mtimestamp\u001b[39m\u001b[39m\\t\u001b[39;00m\u001b[39mflair\u001b[39m\u001b[39m\\t\u001b[39;00m\u001b[39murl\u001b[39m\u001b[39m\"\u001b[39m)\n\u001b[1;32m      <a href='vscode-notebook-cell:/Users/guus/Documents/Code/is-it-mould/test_scraping.ipynb#ch0000014?line=7'>8</a>\u001b[0m \u001b[39mfor\u001b[39;00m post \u001b[39min\u001b[39;00m mold_posts:\n\u001b[1;32m      <a href='vscode-notebook-cell:/Users/guus/Documents/Code/is-it-mould/test_scraping.ipynb#ch0000014?line=8'>9</a>\u001b[0m     \u001b[39m#print(dir(post))\u001b[39;00m\n\u001b[1;32m     <a href='vscode-notebook-cell:/Users/guus/Documents/Code/is-it-mould/test_scraping.ipynb#ch0000014?line=9'>10</a>\u001b[0m     \u001b[39m#break\u001b[39;00m\n\u001b[0;32m---> <a href='vscode-notebook-cell:/Users/guus/Documents/Code/is-it-mould/test_scraping.ipynb#ch0000014?line=10'>11</a>\u001b[0m     attrs \u001b[39m=\u001b[39m (post\u001b[39m.\u001b[39mid, get_date(post), post\u001b[39m.\u001b[39mlink_flair_text, post\u001b[39m.\u001b[39;49mmedia_metadata)\n\u001b[1;32m     <a href='vscode-notebook-cell:/Users/guus/Documents/Code/is-it-mould/test_scraping.ipynb#ch0000014?line=11'>12</a>\u001b[0m     \u001b[39mprint\u001b[39m(\u001b[39m\"\u001b[39m\u001b[39m%s\u001b[39;00m\u001b[39m\\t\u001b[39;00m\u001b[39m%s\u001b[39;00m\u001b[39m\\t\u001b[39;00m\u001b[39m%s\u001b[39;00m\u001b[39m\\t\u001b[39;00m\u001b[39m%s\u001b[39;00m\u001b[39m\\n\u001b[39;00m\u001b[39m\\n\u001b[39;00m\u001b[39m\"\u001b[39m \u001b[39m%\u001b[39m attrs)\n",
      "File \u001b[0;32m~/miniconda3/envs/praw/lib/python3.10/site-packages/praw/models/reddit/base.py:35\u001b[0m, in \u001b[0;36mRedditBase.__getattr__\u001b[0;34m(self, attribute)\u001b[0m\n\u001b[1;32m     <a href='file:///Users/guus/miniconda3/envs/praw/lib/python3.10/site-packages/praw/models/reddit/base.py?line=32'>33</a>\u001b[0m \u001b[39mif\u001b[39;00m \u001b[39mnot\u001b[39;00m attribute\u001b[39m.\u001b[39mstartswith(\u001b[39m\"\u001b[39m\u001b[39m_\u001b[39m\u001b[39m\"\u001b[39m) \u001b[39mand\u001b[39;00m \u001b[39mnot\u001b[39;00m \u001b[39mself\u001b[39m\u001b[39m.\u001b[39m_fetched:\n\u001b[1;32m     <a href='file:///Users/guus/miniconda3/envs/praw/lib/python3.10/site-packages/praw/models/reddit/base.py?line=33'>34</a>\u001b[0m     \u001b[39mself\u001b[39m\u001b[39m.\u001b[39m_fetch()\n\u001b[0;32m---> <a href='file:///Users/guus/miniconda3/envs/praw/lib/python3.10/site-packages/praw/models/reddit/base.py?line=34'>35</a>\u001b[0m     \u001b[39mreturn\u001b[39;00m \u001b[39mgetattr\u001b[39;49m(\u001b[39mself\u001b[39;49m, attribute)\n\u001b[1;32m     <a href='file:///Users/guus/miniconda3/envs/praw/lib/python3.10/site-packages/praw/models/reddit/base.py?line=35'>36</a>\u001b[0m \u001b[39mraise\u001b[39;00m \u001b[39mAttributeError\u001b[39;00m(\n\u001b[1;32m     <a href='file:///Users/guus/miniconda3/envs/praw/lib/python3.10/site-packages/praw/models/reddit/base.py?line=36'>37</a>\u001b[0m     \u001b[39mf\u001b[39m\u001b[39m\"\u001b[39m\u001b[39m{\u001b[39;00m\u001b[39mself\u001b[39m\u001b[39m.\u001b[39m\u001b[39m__class__\u001b[39m\u001b[39m.\u001b[39m\u001b[39m__name__\u001b[39m\u001b[39m!r}\u001b[39;00m\u001b[39m object has no attribute \u001b[39m\u001b[39m{\u001b[39;00mattribute\u001b[39m!r}\u001b[39;00m\u001b[39m\"\u001b[39m\n\u001b[1;32m     <a href='file:///Users/guus/miniconda3/envs/praw/lib/python3.10/site-packages/praw/models/reddit/base.py?line=37'>38</a>\u001b[0m )\n",
      "File \u001b[0;32m~/miniconda3/envs/praw/lib/python3.10/site-packages/praw/models/reddit/base.py:36\u001b[0m, in \u001b[0;36mRedditBase.__getattr__\u001b[0;34m(self, attribute)\u001b[0m\n\u001b[1;32m     <a href='file:///Users/guus/miniconda3/envs/praw/lib/python3.10/site-packages/praw/models/reddit/base.py?line=33'>34</a>\u001b[0m     \u001b[39mself\u001b[39m\u001b[39m.\u001b[39m_fetch()\n\u001b[1;32m     <a href='file:///Users/guus/miniconda3/envs/praw/lib/python3.10/site-packages/praw/models/reddit/base.py?line=34'>35</a>\u001b[0m     \u001b[39mreturn\u001b[39;00m \u001b[39mgetattr\u001b[39m(\u001b[39mself\u001b[39m, attribute)\n\u001b[0;32m---> <a href='file:///Users/guus/miniconda3/envs/praw/lib/python3.10/site-packages/praw/models/reddit/base.py?line=35'>36</a>\u001b[0m \u001b[39mraise\u001b[39;00m \u001b[39mAttributeError\u001b[39;00m(\n\u001b[1;32m     <a href='file:///Users/guus/miniconda3/envs/praw/lib/python3.10/site-packages/praw/models/reddit/base.py?line=36'>37</a>\u001b[0m     \u001b[39mf\u001b[39m\u001b[39m\"\u001b[39m\u001b[39m{\u001b[39;00m\u001b[39mself\u001b[39m\u001b[39m.\u001b[39m\u001b[39m__class__\u001b[39m\u001b[39m.\u001b[39m\u001b[39m__name__\u001b[39m\u001b[39m!r}\u001b[39;00m\u001b[39m object has no attribute \u001b[39m\u001b[39m{\u001b[39;00mattribute\u001b[39m!r}\u001b[39;00m\u001b[39m\"\u001b[39m\n\u001b[1;32m     <a href='file:///Users/guus/miniconda3/envs/praw/lib/python3.10/site-packages/praw/models/reddit/base.py?line=37'>38</a>\u001b[0m )\n",
      "\u001b[0;31mAttributeError\u001b[0m: 'Submission' object has no attribute 'media_metadata'"
     ]
    }
   ],
   "source": [
    "mold_posts = reddit.subreddit('kombucha').search(\n",
    "    query='flair:\"*mold*\"', \n",
    "    sort='new', \n",
    "    limit = 5, \n",
    "    syntax='lucene')\n",
    "print(\"\\nLast 5 mold or not mold posts from the kombucha reddit:\\n\")\n",
    "print(\"id\\ttimestamp\\tflair\\turl\")\n",
    "for post in mold_posts:\n",
    "    #print(dir(post))\n",
    "    #break\n",
    "    attrs = (post.id, get_date(post), post.link_flair_text, post.media_metadata)\n",
    "    print(\"%s\\t%s\\t%s\\t%s\\n\\n\" % attrs)"
   ]
  },
  {
   "cell_type": "markdown",
   "metadata": {},
   "source": [
    "This returns an error, because one of the submissions doesn't have `media_metadata`. It seems that this is the post that pointed directly to an URL. Can we avoid this problem by checking if the URL point to an image?"
   ]
  },
  {
   "cell_type": "code",
   "execution_count": 109,
   "metadata": {},
   "outputs": [
    {
     "name": "stdout",
     "output_type": "stream",
     "text": [
      "\n",
      "Last 5 mold or not mold posts from the kombucha reddit:\n",
      "\n",
      "id\ttimestamp\tflair\turl\n",
      "t6a39m\t2022-03-04 05:03:15\tnot mold\t{'5ik11nnmjal81': {'status': 'valid', 'e': 'Image', 'm': 'image/jpg', 'p': [{'y': 192, 'x': 108, 'u': 'https://preview.redd.it/5ik11nnmjal81.jpg?width=108&crop=smart&auto=webp&s=a9a3d6ad8eebfc9cd31e14e400b1f691d7d5372f'}, {'y': 384, 'x': 216, 'u': 'https://preview.redd.it/5ik11nnmjal81.jpg?width=216&crop=smart&auto=webp&s=4de944ecc985afad908ca87a1d0cd4ed4840d78b'}, {'y': 568, 'x': 320, 'u': 'https://preview.redd.it/5ik11nnmjal81.jpg?width=320&crop=smart&auto=webp&s=de608d065ee8d9249989fff3f0d5bef50803501b'}, {'y': 1137, 'x': 640, 'u': 'https://preview.redd.it/5ik11nnmjal81.jpg?width=640&crop=smart&auto=webp&s=66884928f830099b8ba674e953a4ff63d6d82b77'}, {'y': 1706, 'x': 960, 'u': 'https://preview.redd.it/5ik11nnmjal81.jpg?width=960&crop=smart&auto=webp&s=27453143cb7b5dc12b48543c99c914eea151d657'}, {'y': 1920, 'x': 1080, 'u': 'https://preview.redd.it/5ik11nnmjal81.jpg?width=1080&crop=smart&auto=webp&s=22ef4d6930272517198aa52cc62cc728ebbff210'}], 's': {'y': 4032, 'x': 2268, 'u': 'https://preview.redd.it/5ik11nnmjal81.jpg?width=2268&format=pjpg&auto=webp&s=bc64f6eeb7a9a510df20a3fcb9c93ae882a8f0fe'}, 'id': '5ik11nnmjal81'}, 'hdkxlonmjal81': {'status': 'valid', 'e': 'Image', 'm': 'image/jpg', 'p': [{'y': 192, 'x': 108, 'u': 'https://preview.redd.it/hdkxlonmjal81.jpg?width=108&crop=smart&auto=webp&s=e595058e9917bdf9da6d5ac05479ef63a1133107'}, {'y': 384, 'x': 216, 'u': 'https://preview.redd.it/hdkxlonmjal81.jpg?width=216&crop=smart&auto=webp&s=f0ff80c63b32f22a4cd730f74b820cc5a189b9c3'}, {'y': 568, 'x': 320, 'u': 'https://preview.redd.it/hdkxlonmjal81.jpg?width=320&crop=smart&auto=webp&s=d828708bc99f96230080cd45d6ac88a6399a3fd1'}, {'y': 1137, 'x': 640, 'u': 'https://preview.redd.it/hdkxlonmjal81.jpg?width=640&crop=smart&auto=webp&s=4424daa9cae3eab188a7887bf1ac371738ff6954'}, {'y': 1706, 'x': 960, 'u': 'https://preview.redd.it/hdkxlonmjal81.jpg?width=960&crop=smart&auto=webp&s=9be4271fe54ea749c8ac99c0c20e64678e4a98ae'}, {'y': 1920, 'x': 1080, 'u': 'https://preview.redd.it/hdkxlonmjal81.jpg?width=1080&crop=smart&auto=webp&s=5991b8d7b5f2d9797557d7947b0a6f86b414c0c1'}], 's': {'y': 4032, 'x': 2268, 'u': 'https://preview.redd.it/hdkxlonmjal81.jpg?width=2268&format=pjpg&auto=webp&s=1890eced03d9199751ca813fac984138367ce3e5'}, 'id': 'hdkxlonmjal81'}}\n",
      "\n",
      "\n",
      "t4k01s\t2022-03-01 23:18:08\tmold!\t{'eh1lhbe8kuk81': {'status': 'valid', 'e': 'Image', 'm': 'image/jpg', 'p': [{'y': 144, 'x': 108, 'u': 'https://preview.redd.it/eh1lhbe8kuk81.jpg?width=108&crop=smart&auto=webp&s=b4a12c1ce5caf70d921d785e922fe30055bfd198'}, {'y': 288, 'x': 216, 'u': 'https://preview.redd.it/eh1lhbe8kuk81.jpg?width=216&crop=smart&auto=webp&s=22bb6484da1610ec63291f01673708c487aa04ae'}, {'y': 426, 'x': 320, 'u': 'https://preview.redd.it/eh1lhbe8kuk81.jpg?width=320&crop=smart&auto=webp&s=31d601014de89b2b72c8ee3969e7b052ef4a433b'}, {'y': 853, 'x': 640, 'u': 'https://preview.redd.it/eh1lhbe8kuk81.jpg?width=640&crop=smart&auto=webp&s=7d1f77766b8690323ef09b96d5f7faba9caf1b1a'}, {'y': 1280, 'x': 960, 'u': 'https://preview.redd.it/eh1lhbe8kuk81.jpg?width=960&crop=smart&auto=webp&s=20d3ecfba41a314163eac2936e78123616728e80'}, {'y': 1440, 'x': 1080, 'u': 'https://preview.redd.it/eh1lhbe8kuk81.jpg?width=1080&crop=smart&auto=webp&s=cce112516fe5997887a5b59db2ff8e470bae5c0b'}], 's': {'y': 4032, 'x': 3024, 'u': 'https://preview.redd.it/eh1lhbe8kuk81.jpg?width=3024&format=pjpg&auto=webp&s=b6c10d625d5cd71b2e1239897535fe29bd607555'}, 'id': 'eh1lhbe8kuk81'}, 'hp1gmbe8kuk81': {'status': 'valid', 'e': 'Image', 'm': 'image/jpg', 'p': [{'y': 144, 'x': 108, 'u': 'https://preview.redd.it/hp1gmbe8kuk81.jpg?width=108&crop=smart&auto=webp&s=11e893cd727f2749f878a7c5bf72b5bb09a07e0e'}, {'y': 288, 'x': 216, 'u': 'https://preview.redd.it/hp1gmbe8kuk81.jpg?width=216&crop=smart&auto=webp&s=defd5967f6d8bb83f9ed5ea10bd38b58eb785266'}, {'y': 426, 'x': 320, 'u': 'https://preview.redd.it/hp1gmbe8kuk81.jpg?width=320&crop=smart&auto=webp&s=16b03bce994db9d435e290dfc5c4dade4a68c12b'}, {'y': 853, 'x': 640, 'u': 'https://preview.redd.it/hp1gmbe8kuk81.jpg?width=640&crop=smart&auto=webp&s=40dc8c5f8289f72eb54173e4fca757b1cb089749'}, {'y': 1280, 'x': 960, 'u': 'https://preview.redd.it/hp1gmbe8kuk81.jpg?width=960&crop=smart&auto=webp&s=2bf87ae3250726f4274a46cd139900c43658704c'}, {'y': 1440, 'x': 1080, 'u': 'https://preview.redd.it/hp1gmbe8kuk81.jpg?width=1080&crop=smart&auto=webp&s=9ffae1eab38d31c4b04ae8cbe5cbdeae129827f6'}], 's': {'y': 4032, 'x': 3024, 'u': 'https://preview.redd.it/hp1gmbe8kuk81.jpg?width=3024&format=pjpg&auto=webp&s=cee7d91729704155afdba4eb641f9d2d785c561b'}, 'id': 'hp1gmbe8kuk81'}}\n",
      "\n",
      "\n",
      "t3i3pd\t2022-02-28 16:26:36\tnot mold\t{'brdgv5rwdlk81': {'status': 'valid', 'e': 'Image', 'm': 'image/jpg', 'p': [{'y': 144, 'x': 108, 'u': 'https://preview.redd.it/brdgv5rwdlk81.jpg?width=108&crop=smart&auto=webp&s=691176292c53910555546d120e916a0b3a7e92f3'}, {'y': 288, 'x': 216, 'u': 'https://preview.redd.it/brdgv5rwdlk81.jpg?width=216&crop=smart&auto=webp&s=4dc2eec16561c4a39d7cb9465a3028ca572a0198'}, {'y': 426, 'x': 320, 'u': 'https://preview.redd.it/brdgv5rwdlk81.jpg?width=320&crop=smart&auto=webp&s=d8f80060c6651f024e7597ef587a568de46a777e'}, {'y': 853, 'x': 640, 'u': 'https://preview.redd.it/brdgv5rwdlk81.jpg?width=640&crop=smart&auto=webp&s=2d983b0dbeb09997a024730b3ff7923a31bdf976'}, {'y': 1280, 'x': 960, 'u': 'https://preview.redd.it/brdgv5rwdlk81.jpg?width=960&crop=smart&auto=webp&s=ede7344ad0e74d5e31bb65c441c5d13ebb5cd546'}, {'y': 1440, 'x': 1080, 'u': 'https://preview.redd.it/brdgv5rwdlk81.jpg?width=1080&crop=smart&auto=webp&s=ba0dec15d38ed3c22db11155984d5e071fad57dc'}], 's': {'y': 4032, 'x': 3024, 'u': 'https://preview.redd.it/brdgv5rwdlk81.jpg?width=3024&format=pjpg&auto=webp&s=7cec490c2602a8f1e0db0bf374da6deb0d026fca'}, 'id': 'brdgv5rwdlk81'}, 'bysx86rwdlk81': {'status': 'valid', 'e': 'Image', 'm': 'image/jpg', 'p': [{'y': 144, 'x': 108, 'u': 'https://preview.redd.it/bysx86rwdlk81.jpg?width=108&crop=smart&auto=webp&s=4337c80adddc65957db11b558ca4c95db8d8915d'}, {'y': 288, 'x': 216, 'u': 'https://preview.redd.it/bysx86rwdlk81.jpg?width=216&crop=smart&auto=webp&s=de1244326d2fee123f07e0ecef8c93a123a07f2c'}, {'y': 426, 'x': 320, 'u': 'https://preview.redd.it/bysx86rwdlk81.jpg?width=320&crop=smart&auto=webp&s=6227476ef9be76e368c58615eae9d74c21d174cd'}, {'y': 853, 'x': 640, 'u': 'https://preview.redd.it/bysx86rwdlk81.jpg?width=640&crop=smart&auto=webp&s=f2628111de62167fba8bcdf2906834ea545b12ee'}, {'y': 1280, 'x': 960, 'u': 'https://preview.redd.it/bysx86rwdlk81.jpg?width=960&crop=smart&auto=webp&s=6f07860be9b7db3b42ef533685b2e299321bf779'}, {'y': 1440, 'x': 1080, 'u': 'https://preview.redd.it/bysx86rwdlk81.jpg?width=1080&crop=smart&auto=webp&s=ed6f80eb0508d5f6307e42b70849744cffb32d91'}], 's': {'y': 4032, 'x': 3024, 'u': 'https://preview.redd.it/bysx86rwdlk81.jpg?width=3024&format=pjpg&auto=webp&s=6f5a7182eb7ce0d7a2fa6e36da5634dd23ad1b6b'}, 'id': 'bysx86rwdlk81'}, 'acw997rwdlk81': {'status': 'valid', 'e': 'Image', 'm': 'image/jpg', 'p': [{'y': 144, 'x': 108, 'u': 'https://preview.redd.it/acw997rwdlk81.jpg?width=108&crop=smart&auto=webp&s=cbaff0abddcbd767cb9255d1728073dad9a5a833'}, {'y': 288, 'x': 216, 'u': 'https://preview.redd.it/acw997rwdlk81.jpg?width=216&crop=smart&auto=webp&s=af4388bbf0e40e8e956af898a7ad7acf60dfee33'}, {'y': 426, 'x': 320, 'u': 'https://preview.redd.it/acw997rwdlk81.jpg?width=320&crop=smart&auto=webp&s=49199c0013007bbe8cd03bdf934b70ad79d22844'}, {'y': 853, 'x': 640, 'u': 'https://preview.redd.it/acw997rwdlk81.jpg?width=640&crop=smart&auto=webp&s=18cfbf12e884249a0fc134995bd06ed3eda39410'}, {'y': 1280, 'x': 960, 'u': 'https://preview.redd.it/acw997rwdlk81.jpg?width=960&crop=smart&auto=webp&s=55b1cf718c1c78a10ae80d9c9d6a33cf30ea548e'}, {'y': 1440, 'x': 1080, 'u': 'https://preview.redd.it/acw997rwdlk81.jpg?width=1080&crop=smart&auto=webp&s=da1cd23836af569a4d6fae6070d66985ca38d62a'}], 's': {'y': 4032, 'x': 3024, 'u': 'https://preview.redd.it/acw997rwdlk81.jpg?width=3024&format=pjpg&auto=webp&s=7caa051ba6fc30d7b233ced8ab9207dbc5f4d6c3'}, 'id': 'acw997rwdlk81'}}\n",
      "\n",
      "\n",
      "t2cb8t\t2022-02-27 02:17:09\tnot mold\thttps://i.redd.it/sry5fwcf1ak81.jpg\n",
      "\n",
      "\n",
      "t11wwj\t2022-02-25 12:34:45\tnot mold\t{'y7yzo8dstyj81': {'status': 'valid', 'e': 'Image', 'm': 'image/jpg', 'p': [{'y': 144, 'x': 108, 'u': 'https://preview.redd.it/y7yzo8dstyj81.jpg?width=108&crop=smart&auto=webp&s=3822a7da5d36e00fe646d6f94387dc9792f1bd50'}, {'y': 288, 'x': 216, 'u': 'https://preview.redd.it/y7yzo8dstyj81.jpg?width=216&crop=smart&auto=webp&s=4a049ddf7dd9b2eeb66dce00bc5b16208a874267'}, {'y': 426, 'x': 320, 'u': 'https://preview.redd.it/y7yzo8dstyj81.jpg?width=320&crop=smart&auto=webp&s=080d5523b0f13b13fbaf1c13a828b49bb08b3bb9'}, {'y': 853, 'x': 640, 'u': 'https://preview.redd.it/y7yzo8dstyj81.jpg?width=640&crop=smart&auto=webp&s=e3e859296c8507d9505809cfd13be0530bc39b01'}, {'y': 1280, 'x': 960, 'u': 'https://preview.redd.it/y7yzo8dstyj81.jpg?width=960&crop=smart&auto=webp&s=463421d4e9407f2920adfc9e3f0aa1530966bd86'}, {'y': 1440, 'x': 1080, 'u': 'https://preview.redd.it/y7yzo8dstyj81.jpg?width=1080&crop=smart&auto=webp&s=ba4c0d4e519e7b9709f7b9fe3c232a1916670a62'}], 's': {'y': 4032, 'x': 3024, 'u': 'https://preview.redd.it/y7yzo8dstyj81.jpg?width=3024&format=pjpg&auto=webp&s=dd58be81bc120e2a2226416e3b412a22ae42fbcf'}, 'id': 'y7yzo8dstyj81'}, 'cyx119dstyj81': {'status': 'valid', 'e': 'Image', 'm': 'image/jpg', 'p': [{'y': 144, 'x': 108, 'u': 'https://preview.redd.it/cyx119dstyj81.jpg?width=108&crop=smart&auto=webp&s=7b36d952d1b0b7a7c3be7b1bf74742457656e95d'}, {'y': 288, 'x': 216, 'u': 'https://preview.redd.it/cyx119dstyj81.jpg?width=216&crop=smart&auto=webp&s=005facc50dfa50a63c29ad99616d756f94d75b80'}, {'y': 426, 'x': 320, 'u': 'https://preview.redd.it/cyx119dstyj81.jpg?width=320&crop=smart&auto=webp&s=ee1c8db40187b5ddad47da4fc3d897cb85a90384'}, {'y': 853, 'x': 640, 'u': 'https://preview.redd.it/cyx119dstyj81.jpg?width=640&crop=smart&auto=webp&s=05cf912587c90c389a335ca5db30f64e586ea64c'}, {'y': 1280, 'x': 960, 'u': 'https://preview.redd.it/cyx119dstyj81.jpg?width=960&crop=smart&auto=webp&s=ab7a66707f4ff51ce42755d20c4522df27d5b79d'}, {'y': 1440, 'x': 1080, 'u': 'https://preview.redd.it/cyx119dstyj81.jpg?width=1080&crop=smart&auto=webp&s=aa32c246214813da0cc3e2bc34cf366983e107ca'}], 's': {'y': 4032, 'x': 3024, 'u': 'https://preview.redd.it/cyx119dstyj81.jpg?width=3024&format=pjpg&auto=webp&s=bc4eafdf07bbc0aa2c57b52bc23aa2615dd402a5'}, 'id': 'cyx119dstyj81'}}\n",
      "\n",
      "\n"
     ]
    }
   ],
   "source": [
    "mold_posts = reddit.subreddit('kombucha').search(\n",
    "    query='flair:\"*mold*\"', \n",
    "    sort='new', \n",
    "    limit = 5, \n",
    "    syntax='lucene')\n",
    "print(\"\\nLast 5 mold or not mold posts from the kombucha reddit:\\n\")\n",
    "print(\"id\\ttimestamp\\tflair\\turl\")\n",
    "for post in mold_posts:\n",
    "    if post.url.endswith(('.jpg', '.png', '.gif', '.jpeg')):\n",
    "        attrs = (post.id, get_date(post), post.link_flair_text, post.url)\n",
    "    else:\n",
    "        attrs = (post.id, get_date(post), post.link_flair_text, post.media_metadata)\n",
    "    print(\"%s\\t%s\\t%s\\t%s\\n\\n\" % attrs)"
   ]
  },
  {
   "cell_type": "markdown",
   "metadata": {},
   "source": [
    "Success! Although it's probably safest to still check whether the `media_metadata` attribute exists once we develop our true scraper."
   ]
  },
  {
   "cell_type": "markdown",
   "metadata": {},
   "source": [
    "## Parse the `media_metadata`\n",
    "Now that we know that the image URLs can be stored in the `media_metadata` attribute, it's time to get the image URLs out. It seems that the the `media_metadata` attribute is a dict, which contains one name:value pair per image, and that for each image, many links to different images sizes are created in the `p` name:value pair. Another link is stored in the `s` key:value pair, which appears not to be scaled, so I assume that this is the original submission. For now, let's select these URLs, although for our classifier purposes, they are much too large, and we may choose to select a resized image (e.g. `x = 1080`)."
   ]
  },
  {
   "cell_type": "code",
   "execution_count": 175,
   "metadata": {},
   "outputs": [
    {
     "name": "stdout",
     "output_type": "stream",
     "text": [
      "\n",
      "Last 5 mold or not mold posts from the kombucha reddit:\n",
      "\n",
      "id\ttimestamp\tflair\turl\n",
      "t6a39m\t2022-03-04 05:03:15\tnot mold\thttps://preview.redd.it/5ik11nnmjal81.jpg?width=2268&format=pjpg&auto=webp&s=bc64f6eeb7a9a510df20a3fcb9c93ae882a8f0fe\n",
      "t6a39m\t2022-03-04 05:03:15\tnot mold\thttps://preview.redd.it/hdkxlonmjal81.jpg?width=2268&format=pjpg&auto=webp&s=1890eced03d9199751ca813fac984138367ce3e5\n",
      "t4k01s\t2022-03-01 23:18:08\tmold!\thttps://preview.redd.it/eh1lhbe8kuk81.jpg?width=3024&format=pjpg&auto=webp&s=b6c10d625d5cd71b2e1239897535fe29bd607555\n",
      "t4k01s\t2022-03-01 23:18:08\tmold!\thttps://preview.redd.it/hp1gmbe8kuk81.jpg?width=3024&format=pjpg&auto=webp&s=cee7d91729704155afdba4eb641f9d2d785c561b\n",
      "t3i3pd\t2022-02-28 16:26:36\tnot mold\thttps://preview.redd.it/brdgv5rwdlk81.jpg?width=3024&format=pjpg&auto=webp&s=7cec490c2602a8f1e0db0bf374da6deb0d026fca\n",
      "t3i3pd\t2022-02-28 16:26:36\tnot mold\thttps://preview.redd.it/bysx86rwdlk81.jpg?width=3024&format=pjpg&auto=webp&s=6f5a7182eb7ce0d7a2fa6e36da5634dd23ad1b6b\n",
      "t3i3pd\t2022-02-28 16:26:36\tnot mold\thttps://preview.redd.it/acw997rwdlk81.jpg?width=3024&format=pjpg&auto=webp&s=7caa051ba6fc30d7b233ced8ab9207dbc5f4d6c3\n",
      "t2cb8t\t2022-02-27 02:17:09\tnot mold\thttps://i.redd.it/sry5fwcf1ak81.jpg\n",
      "t11wwj\t2022-02-25 12:34:45\tnot mold\thttps://preview.redd.it/y7yzo8dstyj81.jpg?width=3024&format=pjpg&auto=webp&s=dd58be81bc120e2a2226416e3b412a22ae42fbcf\n",
      "t11wwj\t2022-02-25 12:34:45\tnot mold\thttps://preview.redd.it/cyx119dstyj81.jpg?width=3024&format=pjpg&auto=webp&s=bc4eafdf07bbc0aa2c57b52bc23aa2615dd402a5\n",
      "t0n4vh\t2022-02-24 23:20:59\tnot mold\thttps://preview.redd.it/jknj4zr6wuj81.jpg?width=3072&format=pjpg&auto=webp&s=dc139867610bcd97a70c5f530e71b5a7c4bd87ec\n",
      "t0n4vh\t2022-02-24 23:20:59\tnot mold\thttps://preview.redd.it/qbmw01x6wuj81.jpg?width=3072&format=pjpg&auto=webp&s=df3aa4f56283608052fc2427cc027f6481499cce\n",
      "t0n4vh\t2022-02-24 23:20:59\tnot mold\thttps://preview.redd.it/1a8l2v07wuj81.jpg?width=3072&format=pjpg&auto=webp&s=e344f981611449c6c0f5b0f5c4ec60885c6b47c3\n",
      "t05i3u\t2022-02-24 08:58:56\tmold!\thttps://i.redd.it/dm980jb9mqj81.jpg\n",
      "sz7n44\t2022-02-23 04:58:16\tnot mold\thttps://preview.redd.it/fmnjv3ljaij81.jpg?width=3024&format=pjpg&auto=webp&s=4e79a49363f7527894c2c999d374fd529effc84e\n",
      "sz7n44\t2022-02-23 04:58:16\tnot mold\thttps://preview.redd.it/sp05n3ljaij81.jpg?width=3024&format=pjpg&auto=webp&s=ee317d603d3f9406faeb08854147529b9862ca1b\n",
      "sz7n44\t2022-02-23 04:58:16\tnot mold\thttps://preview.redd.it/35txp3ljaij81.jpg?width=3024&format=pjpg&auto=webp&s=33f28d2b55ed3645481af78c26979033c8b0de7d\n",
      "syzoqz\t2022-02-22 23:01:48\tnot mold\thttps://preview.redd.it/7ltkxfvxigj81.jpg?width=3024&format=pjpg&auto=webp&s=360ad0847f9c17bbd3956ced2c3e4c0810f43ffa\n",
      "syzoqz\t2022-02-22 23:01:48\tnot mold\thttps://preview.redd.it/4nb65gvxigj81.jpg?width=3024&format=pjpg&auto=webp&s=aa53b8b8e4f73a391c6acfd12d77b0e53efaea1c\n"
     ]
    }
   ],
   "source": [
    "mold_posts = reddit.subreddit('kombucha').search(\n",
    "    query='flair:\"*mold*\"', \n",
    "    sort='new', \n",
    "    limit = 10, \n",
    "    syntax='lucene')\n",
    "print(\"\\nLast 5 mold or not mold posts from the kombucha reddit:\\n\")\n",
    "print(\"id\\ttimestamp\\tflair\\turl\")\n",
    "for post in mold_posts:\n",
    "    if post.url.endswith(('.jpg', '.png', '.gif', '.jpeg')):\n",
    "        attrs = (post.id, get_date(post), post.link_flair_text, post.url)\n",
    "        print(\"%s\\t%s\\t%s\\t%s\" % attrs)\n",
    "    else:\n",
    "        attrs = (post.id, get_date(post), post.link_flair_text)\n",
    "        try:\n",
    "            media_metadata = post.media_metadata\n",
    "            for id in media_metadata.keys():\n",
    "                url = media_metadata[id][\"s\"][\"u\"]\n",
    "                sub_attrs = attrs + (url,)\n",
    "                print(\"%s\\t%s\\t%s\\t%s\" % sub_attrs)\n",
    "        except AttributeError:\n",
    "            # Most likely a video - skip\n",
    "            continue"
   ]
  },
  {
   "cell_type": "markdown",
   "metadata": {},
   "source": [
    "# Download and store images\n",
    "Now we have URLs to a bunch of images (sometimes multiple from the same post) and their classification. Let's see if we can download these images using `urllib` requests."
   ]
  },
  {
   "cell_type": "code",
   "execution_count": 171,
   "metadata": {},
   "outputs": [
    {
     "ename": "AttributeError",
     "evalue": "'Submission' object has no attribute 'media_metadata'",
     "output_type": "error",
     "traceback": [
      "\u001b[0;31m---------------------------------------------------------------------------\u001b[0m",
      "\u001b[0;31mAttributeError\u001b[0m                            Traceback (most recent call last)",
      "\u001b[1;32m/Users/guus/Documents/Code/is-it-mould/test_scraping.ipynb Cell 22'\u001b[0m in \u001b[0;36m<cell line: 27>\u001b[0;34m()\u001b[0m\n\u001b[1;32m     <a href='vscode-notebook-cell:/Users/guus/Documents/Code/is-it-mould/test_scraping.ipynb#ch0000032?line=39'>40</a>\u001b[0m \u001b[39melse\u001b[39;00m:\n\u001b[1;32m     <a href='vscode-notebook-cell:/Users/guus/Documents/Code/is-it-mould/test_scraping.ipynb#ch0000032?line=40'>41</a>\u001b[0m     attrs \u001b[39m=\u001b[39m (post\u001b[39m.\u001b[39mid, get_date(post), post\u001b[39m.\u001b[39mlink_flair_text)\n\u001b[0;32m---> <a href='vscode-notebook-cell:/Users/guus/Documents/Code/is-it-mould/test_scraping.ipynb#ch0000032?line=41'>42</a>\u001b[0m     media_metadata \u001b[39m=\u001b[39m post\u001b[39m.\u001b[39;49mmedia_metadata\n\u001b[1;32m     <a href='vscode-notebook-cell:/Users/guus/Documents/Code/is-it-mould/test_scraping.ipynb#ch0000032?line=42'>43</a>\u001b[0m     \u001b[39mfor\u001b[39;00m \u001b[39mid\u001b[39m \u001b[39min\u001b[39;00m media_metadata\u001b[39m.\u001b[39mkeys():\n\u001b[1;32m     <a href='vscode-notebook-cell:/Users/guus/Documents/Code/is-it-mould/test_scraping.ipynb#ch0000032?line=43'>44</a>\u001b[0m         url \u001b[39m=\u001b[39m media_metadata[\u001b[39mid\u001b[39m][\u001b[39m\"\u001b[39m\u001b[39ms\u001b[39m\u001b[39m\"\u001b[39m][\u001b[39m\"\u001b[39m\u001b[39mu\u001b[39m\u001b[39m\"\u001b[39m]\n",
      "File \u001b[0;32m~/miniconda3/envs/praw/lib/python3.10/site-packages/praw/models/reddit/base.py:35\u001b[0m, in \u001b[0;36mRedditBase.__getattr__\u001b[0;34m(self, attribute)\u001b[0m\n\u001b[1;32m     <a href='file:///Users/guus/miniconda3/envs/praw/lib/python3.10/site-packages/praw/models/reddit/base.py?line=32'>33</a>\u001b[0m \u001b[39mif\u001b[39;00m \u001b[39mnot\u001b[39;00m attribute\u001b[39m.\u001b[39mstartswith(\u001b[39m\"\u001b[39m\u001b[39m_\u001b[39m\u001b[39m\"\u001b[39m) \u001b[39mand\u001b[39;00m \u001b[39mnot\u001b[39;00m \u001b[39mself\u001b[39m\u001b[39m.\u001b[39m_fetched:\n\u001b[1;32m     <a href='file:///Users/guus/miniconda3/envs/praw/lib/python3.10/site-packages/praw/models/reddit/base.py?line=33'>34</a>\u001b[0m     \u001b[39mself\u001b[39m\u001b[39m.\u001b[39m_fetch()\n\u001b[0;32m---> <a href='file:///Users/guus/miniconda3/envs/praw/lib/python3.10/site-packages/praw/models/reddit/base.py?line=34'>35</a>\u001b[0m     \u001b[39mreturn\u001b[39;00m \u001b[39mgetattr\u001b[39;49m(\u001b[39mself\u001b[39;49m, attribute)\n\u001b[1;32m     <a href='file:///Users/guus/miniconda3/envs/praw/lib/python3.10/site-packages/praw/models/reddit/base.py?line=35'>36</a>\u001b[0m \u001b[39mraise\u001b[39;00m \u001b[39mAttributeError\u001b[39;00m(\n\u001b[1;32m     <a href='file:///Users/guus/miniconda3/envs/praw/lib/python3.10/site-packages/praw/models/reddit/base.py?line=36'>37</a>\u001b[0m     \u001b[39mf\u001b[39m\u001b[39m\"\u001b[39m\u001b[39m{\u001b[39;00m\u001b[39mself\u001b[39m\u001b[39m.\u001b[39m\u001b[39m__class__\u001b[39m\u001b[39m.\u001b[39m\u001b[39m__name__\u001b[39m\u001b[39m!r}\u001b[39;00m\u001b[39m object has no attribute \u001b[39m\u001b[39m{\u001b[39;00mattribute\u001b[39m!r}\u001b[39;00m\u001b[39m\"\u001b[39m\n\u001b[1;32m     <a href='file:///Users/guus/miniconda3/envs/praw/lib/python3.10/site-packages/praw/models/reddit/base.py?line=37'>38</a>\u001b[0m )\n",
      "File \u001b[0;32m~/miniconda3/envs/praw/lib/python3.10/site-packages/praw/models/reddit/base.py:36\u001b[0m, in \u001b[0;36mRedditBase.__getattr__\u001b[0;34m(self, attribute)\u001b[0m\n\u001b[1;32m     <a href='file:///Users/guus/miniconda3/envs/praw/lib/python3.10/site-packages/praw/models/reddit/base.py?line=33'>34</a>\u001b[0m     \u001b[39mself\u001b[39m\u001b[39m.\u001b[39m_fetch()\n\u001b[1;32m     <a href='file:///Users/guus/miniconda3/envs/praw/lib/python3.10/site-packages/praw/models/reddit/base.py?line=34'>35</a>\u001b[0m     \u001b[39mreturn\u001b[39;00m \u001b[39mgetattr\u001b[39m(\u001b[39mself\u001b[39m, attribute)\n\u001b[0;32m---> <a href='file:///Users/guus/miniconda3/envs/praw/lib/python3.10/site-packages/praw/models/reddit/base.py?line=35'>36</a>\u001b[0m \u001b[39mraise\u001b[39;00m \u001b[39mAttributeError\u001b[39;00m(\n\u001b[1;32m     <a href='file:///Users/guus/miniconda3/envs/praw/lib/python3.10/site-packages/praw/models/reddit/base.py?line=36'>37</a>\u001b[0m     \u001b[39mf\u001b[39m\u001b[39m\"\u001b[39m\u001b[39m{\u001b[39;00m\u001b[39mself\u001b[39m\u001b[39m.\u001b[39m\u001b[39m__class__\u001b[39m\u001b[39m.\u001b[39m\u001b[39m__name__\u001b[39m\u001b[39m!r}\u001b[39;00m\u001b[39m object has no attribute \u001b[39m\u001b[39m{\u001b[39;00mattribute\u001b[39m!r}\u001b[39;00m\u001b[39m\"\u001b[39m\n\u001b[1;32m     <a href='file:///Users/guus/miniconda3/envs/praw/lib/python3.10/site-packages/praw/models/reddit/base.py?line=37'>38</a>\u001b[0m )\n",
      "\u001b[0;31mAttributeError\u001b[0m: 'Submission' object has no attribute 'media_metadata'"
     ]
    }
   ],
   "source": [
    "import urllib.request\n",
    "import os.path\n",
    "import time\n",
    "\n",
    "# Downloads an image to path\n",
    "def download_img(url, path, name):\n",
    "    img_path = os.path.join(path, name)\n",
    "    with open(img_path, \"wb\") as f:\n",
    "        f.write(urllib.request.urlopen(url).read())\n",
    "\n",
    "# Simplifies the classification\n",
    "def get_class(flair):\n",
    "    cl = \"mold_1\" if flair == \"mold!\" else \"not_mold_0\"\n",
    "    return(cl)\n",
    "\n",
    "# Define path\n",
    "path = \"/Users/guus/Downloads\"\n",
    "\n",
    "# Get the last 5 mold/not mold posts\n",
    "mold_posts = reddit.subreddit('kombucha').search(\n",
    "    query='flair:\"*mold*\"', \n",
    "    sort='new', \n",
    "    limit = 5, \n",
    "    syntax='lucene')\n",
    "\n",
    "# Loop through posts and save the image\n",
    "for post in mold_posts:\n",
    "    if post.url.endswith(('.jpg', '.png', '.gif', '.jpeg')):\n",
    "        url = post.url\n",
    "        id = post.id\n",
    "        cl = get_class(post.link_flair_text)\n",
    "        img_name, img_type = os.path.splitext(url)\n",
    "        img_name = os.path.basename(img_name)\n",
    "        name = id + \"_\" + img_name + \"_\" + cl + img_type\n",
    "        download_img(url, path, name)\n",
    "        \n",
    "        # 1 request per 2 second allowed (apparently)\n",
    "        time.sleep(2)\n",
    "\n",
    "    else:\n",
    "        attrs = (post.id, get_date(post), post.link_flair_text)\n",
    "        try:\n",
    "            media_metadata = post.media_metadata\n",
    "            for id in media_metadata.keys():\n",
    "                url = media_metadata[id][\"s\"][\"u\"]\n",
    "                post_id = post.id\n",
    "                cl = get_class(post.link_flair_text)\n",
    "                img_type = media_metadata[id][\"m\"].replace(\"image/\", \"\")\n",
    "                img_name = id\n",
    "                name = post_id + \"_\" + img_name + \"_\" + cl + img_type\n",
    "                download_img(url, path, name)\n",
    "                \n",
    "                # 1 request per 2second allowed (apparently)\n",
    "                time.sleep(2)\n",
    "        except AttributeError:\n",
    "            continue\n"
   ]
  },
  {
   "cell_type": "markdown",
   "metadata": {},
   "source": [
    "# Number of available datapoints\n",
    "Now that we know that we can download images with a classification, let's inspect how large out dataset will be."
   ]
  },
  {
   "cell_type": "code",
   "execution_count": 167,
   "metadata": {},
   "outputs": [
    {
     "name": "stdout",
     "output_type": "stream",
     "text": [
      "id\ttimestamp\tflair\ttitle\n",
      "t6a39m\t2022-03-04 05:03:15\tnot mold\tMold?\n",
      "t4k01s\t2022-03-01 23:18:08\tmold!\they guys, that looks normal? or it's kind of mold?\n",
      "t3i3pd\t2022-02-28 16:26:36\tnot mold\tAny idea if this is normal pellicle formation, or mold?\n",
      "t2cb8t\t2022-02-27 02:17:09\tnot mold\tMy first time making kombucha. This does look like mold? Should I throw it out?\n",
      "t11wwj\t2022-02-25 12:34:45\tnot mold\tIgnored this for… a year? Definitely has a dried leathery top that extends about an inch down. Should I (try) take it out and cut off the dried part and then add more sweet tea?\n",
      "t0n4vh\t2022-02-24 23:20:59\tnot mold\tFirst time making kombucha. Is this mold?\n",
      "t05i3u\t2022-02-24 08:58:56\tmold!\tis this mold?\n",
      "sz7n44\t2022-02-23 04:58:16\tnot mold\tNot sure what to do next.\n",
      "sz3x3e\t2022-02-23 02:05:50\tmold!\tIt’s definitely mold 😭\n",
      "syzoqz\t2022-02-22 23:01:48\tnot mold\tIs this mold?\n",
      "swjncj\t2022-02-19 21:54:24\tmold!\tLooks like a couple mold spots, is the black mold too?\n",
      "sw522h\t2022-02-19 09:13:23\tmold!\tRIP Scoby\n",
      "svpu8h\t2022-02-18 20:11:28\tnot mold\tAnother “is this mold” post- help!\n",
      "sv2kwe\t2022-02-18 00:26:03\tmold!\tSadness\n",
      "su7erz\t2022-02-16 22:49:27\tmold!\tThis hurts 😖\n",
      "ssrujm\t2022-02-15 03:19:43\tmold!\tRip to my kombucha after 3 years of brewing. I’ve never had mold before and was sad to have to toss it all out. I think it was about time, I definitely had the previous batches brewing for too long and it got super weak. 🥲🥲\n",
      "ssm9ch\t2022-02-14 22:43:46\tmold!\tCan I save a batch of kombucha that potential has a start of mold by adding more starter liquid?\n",
      "ssdmtx\t2022-02-14 16:46:06\tmold!\tIs this mold? Amazing bio art by Russian artist Dasha Plesen!\n",
      "srptva\t2022-02-13 19:50:25\tnot mold\tBlue spot but not fuzzy, is it mold?\n",
      "spnkjy\t2022-02-11 03:17:25\tnot mold\tFirst time brewer. Is this mold? With and without camera flash\n",
      "snztgs\t2022-02-09 01:40:37\tnot mold\tThe scoby hotel in the square plastic Cambro is my concern, is the top just dry and sad? Doesn't look or smell like mold & it's acidic... other three jars for comparison... they look happy. Last batch exploded 2 flip top bottles. So this time im investing in a carboy lol.🤷\n",
      "sntmrb\t2022-02-08 21:13:26\tnot mold\tI really can’t decide if this is mold or not! It’s potentially exposed to air but doesn’t look dry…\n",
      "sksst7\t2022-02-05 01:13:39\tnot mold\tYeast or Poison? Second brew and I’m still learning…\n",
      "sjf3km\t2022-02-03 10:37:41\tmold!\tWhite mold or Kahn yeast? I never had a mold problem, but this one has me worried.. getting back into home brewing after a year hiatus\n",
      "sh1scu\t2022-01-31 14:55:23\tmold!\tMuch sadness. What went wrong here? I sterilised everything before brewing. Too much tea for the SCOBY?\n",
      "sgrfb9\t2022-01-31 04:45:54\tnot mold\tI know it's not mold and almost positive not kahm. Any insight into what the small patch on the right side of the scoby is? Not dry, not fuzzy. Rather scoby looking but I take it is a foreign entity.\n",
      "sghqs6\t2022-01-30 21:13:12\tnot mold\tScoby Mold?\n",
      "sgf0di\t2022-01-30 19:11:10\tmold!\tIs this mold??\n",
      "sei9gk\t2022-01-28 05:37:09\tmold!\tIs this mold or trapped bubbles?\n",
      "sebvw9\t2022-01-28 00:25:07\tmold!\tStatistically significant health risks for moldy kombucha?\n",
      "sdmip3\t2022-01-27 02:45:54\tmold!\tPlease tell me this isn’t mold in my 5 gallons of buch…\n",
      "sdbxag\t2022-01-26 18:54:10\tnot mold\tPossible Mold during second fermentation?\n",
      "salkbn\t2022-01-23 05:53:59\tmold!\tCan I save this the rest is fine please help\n",
      "s7bxim\t2022-01-19 01:01:04\tmold!\tMold or weird looking white stuff ? (Details in comments)\n",
      "s5nox7\t2022-01-16 23:40:42\tnot mold\tfirst time brew, does this look okay?\n",
      "s5hmwj\t2022-01-16 19:09:50\tmold!\tlooks like contamination... should i wait and see if the kombucha prevails? maybe i can just remove the scoby?\n",
      "s5geen\t2022-01-16 18:14:16\tmold!\tQuestion: How to prevent mold (the best we can)\n",
      "s3w1zl\t2022-01-14 17:13:48\tmold!\tIs this mold/mould? :(\n",
      "s38rej\t2022-01-13 21:25:13\tmold!\tScoby has a slightly green growth in the corner. What is it?\n",
      "s2jxzi\t2022-01-13 00:15:37\tmold!\tHave been growing a scoby for about three weeks now, are these white specs mold? They don’t look fuzzy\n",
      "s0heer\t2022-01-10 11:55:23\tnot mold\tIs this mold?\n",
      "rwxxpe\t2022-01-05 23:01:02\tmold!\tThis is what mold looks like. I didn’t add starter kombucha to this jar and I assume the pH got out of wack. This is a few months of me leaving it like that.\n",
      "rw1h0l\t2022-01-04 19:43:12\tnot mold\tA classic \"is it mould\" question! I've checked the wiki but I can't quite tell if this is dry and fuzzy or if it looks like scoby on top of the bubbles? Any help greatly appreciated!\n",
      "rv084s\t2022-01-03 13:04:39\tmold!\tIs this mould?\n",
      "rrop08\t2021-12-30 02:26:42\tnot mold\tFirst time brewer: Scoby or mold?\n",
      "rpwntd\t2021-12-27 21:35:13\tmold!\tI am supremely bummed! Two batches down the drain\n",
      "rpwjmz\t2021-12-27 21:29:48\tmold!\tThis def looks like mold, but can someone confirm? I’ve had this scoby for months and have been procrastinating starting a new batch. Do you think I can just remove the top layer?\n",
      "rpcrd0\t2021-12-27 03:50:06\tmold!\tIs it mold or scoby? The eternal question (I am learning) also it does not smell bad\n",
      "rp5sa6\t2021-12-26 22:09:38\tnot mold\tI apologize in advance if this is obvious, but even after going through the galleries of mold and normal pics in the pinned post three times, I honestly can't tell whether this us mold or not. Please help.\n",
      "rofvvl\t2021-12-25 20:34:50\tnot mold\tMold or no? My first brew ever, it is 6 days in. It doesn’t have the strong tart smell I was expecting but it is not furry, just has a whitish translucent layer. Tips and opinions needed, please help!\n",
      "ro7mw3\t2021-12-25 11:47:51\tnot mold\tScoby or mould?\n",
      "rl214s\t2021-12-21 01:57:10\tmold!\t2/2 batches ruined by mould, am I cursed by the gods of the booch?????\n",
      "rk4lar\t2021-12-19 21:08:48\tnot mold\tDAY 9 - How does it look?\n",
      "rcri2n\t2021-12-09 22:17:16\tnot mold\tIs this mold in the center of my scoby?\n",
      "rcqubl\t2021-12-09 21:45:56\tnot mold\tIs this mold growing within the pellicle? Everything else looks normal\n",
      "rb63zf\t2021-12-07 19:42:04\tnot mold\tIs this mold?\n",
      "radgpf\t2021-12-06 19:03:26\tnot mold\tDoes this look like mold? I neglected a batch I brewed in June and I’m unsure if the scoby is even viable anymore? Wanna know before I waste time feed it. TIA\n",
      "ra4by3\t2021-12-06 11:33:12\tnot mold\tIs it mold? /s\n",
      "r8wrrk\t2021-12-04 20:13:27\tmold!\tI assume there's no saving ol' Jeffrey The Scoby?\n",
      "r3c9fr\t2021-11-27 13:04:39\tnot mold\tSo I waited a week and made two smaller batches instead of one big batch. I feel like it looks healthy this time\n",
      "r0sg6g\t2021-11-24 02:08:39\tnot mold\tHow do I use dried ginger slices? Should I use them in f2? Should I rehydrate them or leave them dried? Should I leave them in the bottle or strain them after f2? Any tips/hints?\n",
      "qy3gsc\t2021-11-20 12:09:25\tnot mold\tIs this mold? New batch using Remedy Ginger & Lemon, not very sweet\n",
      "qvsgfc\t2021-11-17 06:56:09\tmold!\tIs this mould?\n",
      "qu6uaw\t2021-11-15 04:22:34\tnot mold\tIt's alive! Starting my second scoby. Last attempt went moldy. Cleaned the jar with Star-san and swapped the cloth for the lid I used making hard cider. Hoping for more ginger/soft cider booch by Christmas.\n",
      "qqxq0c\t2021-11-10 17:07:43\tnot mold\tThis batch of kombucha is almost done but I noticed this gray mass on top. Is this mold? From all the pictures I've see it doesn't look like it and it smells just like kombucha .\n",
      "qq8wyj\t2021-11-09 18:39:14\tmold!\tDefinitely mold, innit?\n",
      "qoeswj\t2021-11-07 03:05:47\tnot mold\tI let the depression go unchecked for a while. What the heck do I do with this?\n",
      "qod4cv\t2021-11-07 01:29:51\tnot mold\tFirst time brewing kombucha, is this normal?\n",
      "qntjre\t2021-11-06 06:21:05\tmold!\tDefinately looks like mold right? Idk how that appeared even after ph being lower than 3🤢\n",
      "qmicap\t2021-11-04 12:17:20\tmold!\tIs this mold? (/s)\n",
      "qmdr8k\t2021-11-04 06:31:57\tnot mold\tMold? :(\n",
      "qlnhoj\t2021-11-03 06:18:45\tnot mold\tFirst timer here…. Is this mold?\n",
      "qkn0gy\t2021-11-01 21:29:15\tmold!\tMay have forgotten about my SCOBY hotel for a little too long...\n",
      "qk0q17\t2021-10-31 23:51:37\tmold!\tMold?\n",
      "qhcaeh\t2021-10-28 04:00:06\tmold!\tI assume this is RIP SCOBY hotel. 3 years of service, but recently neglected\n",
      "qes8lx\t2021-10-24 15:32:12\tnot mold\tFirst brew in relatively low temp (21.5-22.5 C) 7 day from start is that mold ?\n",
      "qch5af\t2021-10-21 04:17:07\tmold!\tFirst batch with mold ever. What do I do?\n",
      "qc92oe\t2021-10-20 21:39:41\tmold!\tMold (how to avoid)\n",
      "qawhwc\t2021-10-18 23:33:42\tnot mold\tIs my scoby/kombucha ok? The top layer was exposed to air and was very dry, I was worried there was mold but none of the white parts were fuzzy. I peeled this part off of my scoby but is it ok to continue to use the rest and the tea as starter tea for my next batch?\n",
      "q9awo0\t2021-10-16 14:20:27\tmold!\tMmm is this mold?\n",
      "q13l0a\t2021-10-04 13:30:59\tnot mold\tMandatory \"is it mold?\" post. White slimy patches on top of pellicle. Is it mold or just spent yeast?\n",
      "pze16c\t2021-10-01 20:27:41\tmold!\tis this mold 😂 happy friday i have no more scobies\n",
      "pylyd7\t2021-09-30 17:19:19\tmold!\tRIP to my neglected hotel. May you enjoy your next life as compost.\n",
      "puys5h\t2021-09-25 05:31:42\tnot mold\tWas wondering if this is normal?.Can I just scoop this off? It doesn't look like mold.\n",
      "ps31zd\t2021-09-20 22:26:37\tmold!\tScrewed batch\n",
      "pr5uxk\t2021-09-19 12:59:59\tmold!\tBit stuck here, are these little white circles mould?\n",
      "pr27xg\t2021-09-19 07:42:49\tmold!\tIs this mold? Do I have to toss the whole thing out?\n",
      "pna0jh\t2021-09-13 08:31:37\tmold!\tIs this mold?\n",
      "pmzh26\t2021-09-12 21:36:29\tmold!\tMold\n",
      "pmq9gg\t2021-09-12 12:24:47\tmold!\tSo starting from captain kombucha was a fail!\n",
      "pl47ka\t2021-09-09 21:01:04\tmold!\ti forget my kombucha brewing for 1 month ,and now the scooby is moldy ,how can solve this\n",
      "pjodjt\t2021-09-07 16:40:56\tmold!\tIs it mold ? For the first time I’m trying to do Scoby hotel this is after 3 weeks there is some thing like a sugar but creamy idk what is it first time i see it i don’t if its due to mold or because of the heat cause the temperature here goes up to 50 C but in my kitchen probably 27-34C\n",
      "phdlxz\t2021-09-03 22:51:41\tmold!\tIs my booch supposed to be looking like this? 😥\n",
      "phc7c9\t2021-09-03 21:35:45\tmold!\tSay it ain’t so\n",
      "pg6kpc\t2021-09-02 02:17:59\tmold!\t2nd Attempt at F1 - day 4. Is this MOLD? 🧐\n",
      "pfx72a\t2021-09-01 18:16:45\tmold!\tWell folks, finally happened. Went on vacation and came home to mold.\n",
      "pfwf3o\t2021-09-01 17:38:15\tmold!\tMold?\n",
      "pfvyyj\t2021-09-01 17:15:50\tmold!\tHi everyone! Yet another does my kombucha look ok post I’m afraid! This is my first brew and it’s about 3 weeks old, the pH has been gradually coming down, but is still around 3.7, but now I’ve noticed these tiny white patches?\n",
      "pftohv\t2021-09-01 15:15:28\tmold!\tMold in my coffee batch\n",
      "peoq9m\t2021-08-30 21:02:40\tmold!\tIs it what I think it is?? My scoby and I have been through a lot together, don't let this be the end! Is there anything I can do?\n",
      "pe4qlj\t2021-08-29 23:59:36\tnot mold\tback again with another: is this mould?…\n",
      "pe2mnf\t2021-08-29 22:06:13\tmold!\tI was on vacation for a week… came home to this 😭\n",
      "pdy9lk\t2021-08-29 18:18:30\tnot mold\tIs it mold?\n",
      "pd0ykl\t2021-08-28 03:53:44\tnot mold\they friends! first time brewer here! I’m currently in the first fermentation stage and i mixed my liquid so i could test it to see how it’s travelling and there is all this black stuff floating in it? is this mould ahhhh?! i’m not sure! thank you!!! it’s been fermenting for 2 weeks so far!\n",
      "pcxfr3\t2021-08-28 00:17:03\tnot mold\tMold?\n",
      "pcug5a\t2021-08-27 21:38:42\tnot mold\tRIP? Left in hot apartment (85+ degrees F) for 1 week\n",
      "pca9vq\t2021-08-27 00:34:52\tnot mold\tIs this mold? Or just damaged SCOBY/cellulose cap thing?\n",
      "pbw2ey\t2021-08-26 11:34:47\tmold!\tIs it mold?\n",
      "pbpkhg\t2021-08-26 03:46:07\tnot mold\tMy first kombucha attempt: black tea, white sugar, GT's as a starter. Hoping to start a continuous brew. How does it look? Advice?\n",
      "pb2t2t\t2021-08-25 05:14:38\tmold!\tYou can run, you can hide.. But you can't escape from the ever moving fuzzy hands of \" You know who\"\n",
      "p7c0d0\t2021-08-19 12:12:09\tmold!\tMy first batch of mold :(\n",
      "p6birt\t2021-08-17 22:15:28\tmold!\tOne of a few spots of concern. White and fuzzy. I’ve already started a second “first” batch.\n",
      "p4df5c\t2021-08-14 20:31:20\tmold!\tFirst batch with mold in a year and a half of brewing. One thing I’ve learned from this page is have a backup.\n",
      "p4a2tg\t2021-08-14 17:28:33\tmold!\tIt's mold, right?\n",
      "p3qc5c\t2021-08-13 19:50:47\tmold!\tSomewhere down the line, my kombucha went bad. Had to pour 'em out for the homies.\n",
      "p2rmtj\t2021-08-12 05:33:31\tmold!\tYou guys think this is still ok to use?\n",
      "p27hwh\t2021-08-11 08:29:25\tnot mold\tDoes this look infected?\n",
      "ozm9qp\t2021-08-07 06:02:06\tnot mold\tTo mold or to not mold?\n",
      "ozkits\t2021-08-07 04:03:45\tmold!\tJust noticed this can the bottom layers be salvaged?\n",
      "ov7usz\t2021-07-31 16:12:45\tnot mold\tWent to brew a batch and found my first infestation.. gross.\n",
      "otcz75\t2021-07-28 18:06:02\tnot mold\tmy first scoby :)\n",
      "osz5s9\t2021-07-28 02:42:35\tmold!\tI know, I know. But is it? I haven’t brewed in years, and I’m an idiot and put the lid on it.\n",
      "osd6af\t2021-07-27 03:36:38\tmold!\tShould I throw out my scoby\n",
      "oqcr50\t2021-07-24 00:09:19\tnot mold\tIs this okay? 4th day of 2nd ferment. Ph 3.5 before 2nd ferment, kroger's unfiltered apple juice and cinnamon stick added for flavor.\n",
      "opz8ql\t2021-07-23 11:59:49\tnot mold\tYet another ist this mold? Post\n",
      "oo5o05\t2021-07-20 18:36:20\tmold!\tIs This Mold That Is Growing?\n",
      "omvgjr\t2021-07-18 19:46:41\tmold!\tNeed to restart?\n",
      "ol2wk3\t2021-07-15 23:55:12\tmold!\tMold? It’s my first time brewing.\n",
      "okjgf2\t2021-07-15 04:27:58\tmold!\tMold :( left my black tea covered too cool for a few days and was going to add my starter tea today and I see this.\n",
      "ok46k3\t2021-07-14 15:19:09\tnot mold\tIs this mold? Used Chinese LongJing tea as base\n",
      "ojqauk\t2021-07-14 00:11:54\tmold!\tIs this Mold? (Help)\n",
      "ofpxrl\t2021-07-07 21:16:33\tnot mold\tFollow up to my “is this mold” post. The black dots are still there, but somehow, under my hop cloth, maggots(?) got in 😢. This is my only SCOBY too 🤦🏻‍♂️\n",
      "odbrmk\t2021-07-04 04:49:14\tnot mold\tIs it Mold?\n",
      "oc3tqv\t2021-07-02 07:45:02\tmold!\tIs this mould? I'm brewing my first ever batch and am really bummed out :'(\n",
      "obi7z1\t2021-07-01 11:35:14\tmold!\tNot sure guys, mold? Maybe it's just melatonin idk\n",
      "ob6ri7\t2021-06-30 23:15:28\tmold!\tFML Mold\n",
      "oamci7\t2021-06-30 03:22:50\tmold!\tIs it...mold?!\n",
      "oabu0b\t2021-06-29 18:31:13\tmold!\tMold… right? :((((\n",
      "o9luv8\t2021-06-28 16:53:21\tmold!\tIs this mould? Just kidding, this is a neglected experimental batch that I forgot about. Yum!\n",
      "o8urzh\t2021-06-27 12:46:56\tnot mold\tWhat are these little white things? Is it ok?\n",
      "o7lr5r\t2021-06-25 13:24:36\tmold!\tMold! But then, what happened? Can I drink it?\n",
      "o763t3\t2021-06-24 19:49:37\tmold!\tProbly Mold I guess😞\n",
      "o73q37\t2021-06-24 17:54:42\tmold!\tFor anyone asking “is this mold?”, THIS is mold😭 RIP Scoby Bryant 2019-2021. You survived two moves, one across several states. You will be missed.\n",
      "o559ya\t2021-06-21 22:54:06\tmold!\tPlease Help! Is this mold on my scoby hotel glass?\n",
      "o4rlkb\t2021-06-21 11:49:25\tmold!\tOpened the top cover after 7 days. The taste is good, but having some doubts about these pock marks. I haven't seen them in my previous batchs, are these normal? My previous scoby came out pretty smooth, this appears a bit different.\n",
      "o2xwq6\t2021-06-18 21:16:35\tmold!\tI was just getting ready to start a new batch of kombucha and already have my tea ready then I go to get my hotel and there's mold is there any saving it or should I just dump the whole thing and start over?\n",
      "o0m35d\t2021-06-15 21:10:46\tmold!\tJust let me down easy...is this what I think it is?\n",
      "nz7m08\t2021-06-14 00:21:55\tmold!\tiS tHiS MoLD?\n",
      "nxqi8e\t2021-06-11 23:18:01\tnot mold\tIs this mold? Came back home after two weeks away to this\n",
      "nxb5yh\t2021-06-11 10:42:44\tmold!\tI noticed this bald spot since day 3, now it's 7 days now. Is this mold or just irregular scoby growth?\n",
      "nru608\t2021-06-04 04:11:28\tnot mold\tIs this mold? First timer here. Looks like a crispy layer in the center\n",
      "nqbk14\t2021-06-02 04:50:26\tnot mold\tCan’t tell if this is mold?\n",
      "nq7etw\t2021-06-02 01:14:42\tnot mold\tJust checked on the baby scoby and it's sunk to the bottom + been covered by this weird fuzzy cloud. Is this mold?\n",
      "nq57mj\t2021-06-01 23:32:08\tmold!\tCan anyone definitely say if this is mold? Any help is very much appreciated!\n",
      "npnt8e\t2021-06-01 08:53:10\tmold!\tIs it mold in the corner?😭\n",
      "nnqg8y\t2021-05-29 18:01:48\tnot mold\tTried to set up my SCOBY hotel to give a break to brewing. It looks like this after a week. Is it mold? I am keeping it on the counter, room temperature, top covered with paper towel.\n",
      "nnkzkb\t2021-05-29 12:53:06\tmold!\tJust threw out mold from the top new pellicle of my kombucha. Should I discard the whole thing. The mold was just on the top.\n",
      "nn3qa4\t2021-05-28 20:03:23\tnot mold\tIs this mold?\n",
      "nn0wow\t2021-05-28 17:55:54\tmold!\tIs this mold?\n",
      "nkwlyj\t2021-05-25 20:29:55\tnot mold\tGreenish patch on pellicle\n",
      "nku6y1\t2021-05-25 18:44:44\tmold!\tIs this mold :(? Can it be scraped?\n",
      "nkiei9\t2021-05-25 07:49:34\tnot mold\tThe most common question. Is it Mold?\n",
      "nkc3jv\t2021-05-25 02:01:56\tnot mold\tThe age old question: is this mold? Some dry, skin-like raised spots but it doesn’t seem to be obviously discolored or fuzzy anywhere?\n",
      "njzbnw\t2021-05-24 16:32:10\tmold!\tPretty sure it’s yeast, but this is my first time brewing. What’s your guess?\n",
      "njxnz4\t2021-05-24 15:12:57\tmold!\tIs this mold?\n",
      "njplz5\t2021-05-24 06:34:50\tnot mold\tIs this dark spot okay? Ph: 3.5. Smells like vinegar today. Batch is a little over a month old.\n",
      "nhhvpk\t2021-05-21 04:26:03\tmold!\tMold?\n",
      "nft9v9\t2021-05-19 04:17:58\tmold!\tI don’t think it’s mold but first time brewing\n",
      "ndb668\t2021-05-16 01:20:12\tnot mold\tOk... but is this mold?\n",
      "nbfznu\t2021-05-13 14:55:58\tnot mold\tIs this mold?\n",
      "nacuny\t2021-05-12 03:11:42\tmold!\tMold?\n",
      "na9s9q\t2021-05-12 00:37:22\tnot mold\tIs this mold?\n",
      "n9xsxm\t2021-05-11 16:07:05\tnot mold\tI guess it's the most common question - mold or ok??:):) so.... Is my batch ok? I am a yeastie boy but first time Kombuchian...day4...\n",
      "n9ngw6\t2021-05-11 05:09:50\tmold!\tAnother \"Is this mold?\" Post\n",
      "n9a9jy\t2021-05-10 19:06:24\tmold!\tJust starting to brew again, I used an old fridge batch from years ago. I'm pretty sure this is mold, can anyone help me confirm?\n",
      "n8pyw1\t2021-05-10 01:03:45\tnot mold\t2F mold?\n",
      "n50obq\t2021-05-05 00:50:14\tnot mold\tThe age old question, are these white spots mold?\n",
      "n0ig5y\t2021-04-28 18:16:59\tmold!\tDoes this look healthy(F1)? First time brewing.\n",
      "n00x2n\t2021-04-28 00:54:55\tnot mold\tIs this mold? It looks a little colourful, like blueish to me\n",
      "mzv2np\t2021-04-27 20:25:30\tmold!\tDoes it look normal/healthy?\n",
      "mzl3sj\t2021-04-27 12:06:41\tnot mold\tHELP! Brewing my first batch. It’s been sitting for 5 days now, a pellicle started forming and there’s some tiny white spots here and there, doesn’t look like mold though. What is it and what should I do?\n",
      "mzd6fw\t2021-04-27 03:18:41\tmold!\tMy first 20 Gallon Kombucha! Idk if my Scoby was enough!\n",
      "mz29f6\t2021-04-26 18:55:58\tmold!\tThis is mold, yeah?\n",
      "myz0j6\t2021-04-26 16:32:34\tnot mold\tBeauty! <3\n",
      "mynsrg\t2021-04-26 04:41:19\tmold!\tIs this mold? Saw this on the top of the liquid on the 2nd day of 2nd fermentation.\n",
      "myfeff\t2021-04-25 21:20:36\tmold!\tSmells fine, regular blob grows under it but that thing on top troubles me\n",
      "my7rxa\t2021-04-25 14:55:50\tnot mold\tHelp! Is this mould?\n",
      "mx9s9l\t2021-04-24 03:22:27\tmold!\tShould I trash the first jar?\n",
      "mx82f6\t2021-04-24 01:41:14\tnot mold\tForgotten kombucha from 3/31/21.. mold I’m assuming? If not, salvageable? Thanks!\n",
      "mvni78\t2021-04-21 21:34:44\tnot mold\tHelp! Is this mold?\n",
      "mul5fw\t2021-04-20 09:30:20\tmold!\tIs this mould\n",
      "mt9jux\t2021-04-18 11:22:30\tmold!\tCan mold go away?\n",
      "mt9dft\t2021-04-18 11:07:14\tnot mold\tIs this mould? I think I failed my first time making kombucha😞\n",
      "msw21l\t2021-04-17 20:23:34\tnot mold\tCould this be mold? My 9th batch and i don’t think it is but wanted to confer with the kombucha masters here :)\n",
      "mre32e\t2021-04-15 14:56:35\tnot mold\tPlease, is this mold? The dots in the middle? Kombucha is unheard of in my region, I have no one else to ask. Thank you. 🙏\n",
      "mr6smb\t2021-04-15 05:37:26\tmold!\tIs this mold?\n",
      "mr3wgo\t2021-04-15 02:36:24\tnot mold\t[Vermont, USA] A close-up of the cursed mites (flour?) that took up residence in my kombucha\n",
      "mpiexd\t2021-04-12 19:11:52\tmold!\tYes, it's definitely mold. But why?\n",
      "moyqa6\t2021-04-11 22:31:48\tnot mold\tMold on my second batch? There are these white spots but not sure if they are mold. HELP\n",
      "mo29n3\t2021-04-10 12:31:19\tnot mold\tFirst time trying to make a kombucha scoby and I’m on day 4 I was just wondering if this is normal start to scoby formation with the small opaque whitish circles.\n",
      "mnkbwr\t2021-04-09 17:58:25\tnot mold\tAnother \"Is it Mold?\" post\n",
      "mm5p22\t2021-04-07 18:16:49\tmold!\tPls help!! Is this mold? What did I do wrong? Is it lost forever? :’(\n",
      "mktvo9\t2021-04-05 22:19:28\tmold!\tLeft the last batch alone for a year. Is it mold?\n",
      "mk4ivs\t2021-04-04 22:47:33\tnot mold\tIs this mold? 2nd fermentation. Added strawberries and ginger.\n",
      "mj3htr\t2021-04-03 09:07:37\tnot mold\tGuys is this mold?\n",
      "miynvc\t2021-04-03 03:38:09\tmold!\tIs this mold? It does not appear to be fuzzy to me, but I am not sure. This is my 2nd fermentation after starter.\n",
      "mieoj8\t2021-04-02 08:38:43\tnot mold\tIs this mold? 8th brew and this is the first time I had a pellicle with a \"brain\" like texture. No fuzz/unusual smells.\n",
      "mhg4m9\t2021-03-31 23:24:10\tmold!\tMold??\n",
      "mhe04m\t2021-03-31 21:43:14\tnot mold\tBeen brewing for awhile now but this is the first time I’ve transferred part of my scoby and I’m nervous it may have grown mold in the new jar\n",
      "mf5t9d\t2021-03-28 19:45:27\tnot mold\tIs it mold??\n",
      "melabo\t2021-03-27 20:55:15\tnot mold\tFirst Time Brewing - is that mold? Is this healthy/on the right track?\n",
      "mdp6p2\t2021-03-26 14:55:44\tmold!\tIs this mold? (:\n",
      "mcsykv\t2021-03-25 08:54:42\tmold!\thello nice kombucha people, could you please tell me if it is mold? first batch, very confused. thank you.\n",
      "mcrckg\t2021-03-25 07:00:16\tnot mold\tMould or not mould?\n",
      "mckt59\t2021-03-25 01:09:15\tnot mold\tSo besides the fact that my pellicle looks like a vajayjay, would you keep using it?\n",
      "mbl17j\t2021-03-23 19:17:47\tmold!\t2nd time this has happened, should I dump the entire batch? Bought the new container from Walmart but ig I didn't clean it well enough\n",
      "maw6ab\t2021-03-22 20:45:15\tmold!\t2F mold. Seems to be from the rosemary.\n",
      "m9nb5y\t2021-03-21 04:26:38\tnot mold\tIs this normal?\n",
      "m9971p\t2021-03-20 16:24:47\tnot mold\tfirst booch batch ever. is this mold or just discoloration from (what I believe is a) yeast chain? Thanks!\n",
      "m8ziu3\t2021-03-20 05:30:53\tnot mold\tMould or nah? It’s powdery though same colour as the scoby\n",
      "m78h0f\t2021-03-17 20:29:08\tmold!\tIs this mold???\n",
      "m66ovk\t2021-03-16 12:14:30\tmold!\tMold in scooby hotel, what should I do? Throw away all scoobies or just this one on the top?\n",
      "m5qkkz\t2021-03-15 18:55:33\tnot mold\tHi there! First time brewer here, I was checking my kimbucha after fermentation 1 and I need some validation 🥺 Is it moldy? What’s the grey stuff? Tysm!\n",
      "m4zr9p\t2021-03-14 18:38:32\tmold!\t2F Mold?\n",
      "m49kz9\t2021-03-13 17:24:03\tnot mold\tNot sure if mold or not mold. This is my 3rd batch a few days in.\n",
      "m3aqxk\t2021-03-12 06:29:48\tmold!\tDo mold grow this fast?\n",
      "m2qohj\t2021-03-11 15:01:21\tmold!\tFound this black mold on my mother juice today :( Question in comments\n",
      "m0jp2r\t2021-03-08 17:38:46\tmold!\tI manage to convince myself that these blobs aren't mold. I then noticed the white specs on top of said blobs. Are they mold?\n",
      "lzoilb\t2021-03-07 12:03:34\tnot mold\tSo... I kinda forgot about my kombucha for the winter.\n",
      "ly84hs\t2021-03-05 10:16:27\tnot mold\tLa máma! so proud of this big kombucha's mother\n",
      "lwkwwn\t2021-03-03 05:15:10\tmold!\tNot enough kombucha starter\n",
      "lwachp\t2021-03-02 20:27:21\tmold!\tTwo batches in a row\n",
      "ltfc5e\t2021-02-27 04:37:07\tmold!\t1F - 3 jars, 2 are perfect but 1 has a spotty dimple textured pellicle. Is this mould?\n",
      "lqt4ai\t2021-02-23 22:08:40\tnot mold\tFirst brew: is this mold?\n",
      "lqeczc\t2021-02-23 10:28:40\tnot mold\tHey Guys! Do you think it is mold? First time for me :)\n",
      "lplf2f\t2021-02-22 12:05:06\tnot mold\tIs this mold?\n",
      "lp642h\t2021-02-21 21:41:16\tnot mold\tAm I right this is mold? First time brewing kombucha and not sure! Will post more photos in comments.\n",
      "lovm2w\t2021-02-21 12:55:07\tmold!\tIt happened again... Second try at making a SCOBY, got mold... Again! More details in comment.\n",
      "lon63j\t2021-02-21 03:44:06\tmold!\tIs this mold or kahm?.. i am assuming its kahm as it was only 3 days and is there anyway we can save this brew?\n",
      "locqg5\t2021-02-20 19:03:21\tnot mold\tNewbie / 2nd Brew / Is this mold?\n",
      "lo7rt6\t2021-02-20 15:04:43\tnot mold\tFirst timer here, is that mold? It looks like scoby in the making.\n",
      "lnkouu\t2021-02-19 17:58:40\tnot mold\tIs this mold? :(\n",
      "lmxle4\t2021-02-18 22:20:36\tnot mold\tDry pellicle surface with veins of (yeast? mold?) -- OK or problem?\n",
      "lmmkzy\t2021-02-18 14:18:04\tnot mold\tJust to confirm if its mold or not 😞\n",
      "lmidw4\t2021-02-18 10:00:18\tmold!\thello peeps does anyone know if this is mold ?\n",
      "lma7f1\t2021-02-18 02:23:51\tnot mold\tAny mold here?\n",
      "lm35cv\t2021-02-17 20:58:26\tmold!\tAnyone want to tell me it's NOT mold before I dump? 😬😢\n",
      "llxskf\t2021-02-17 17:04:57\tnot mold\tIs this mold? Or is this okay:)? This is a 30 day brew, i used black tea and sugar. Tasted it, tasted fine as much as i can tell (I'm pretty new in this), only a little sweet. What do you think? Thanks!\n",
      "Number of posts:\t248\n"
     ]
    }
   ],
   "source": [
    "# Get the last 5 mold/not mold posts\n",
    "mold_posts = reddit.subreddit('kombucha').search(\n",
    "    query='flair:\"*mold*\"', \n",
    "    sort='new', \n",
    "    limit = None, \n",
    "    time_filter = \"all\",\n",
    "    syntax='lucene')\n",
    "\n",
    "n = 0\n",
    "print(\"id\\ttimestamp\\tflair\\ttitle\")\n",
    "for post in mold_posts:\n",
    "    attrs = (post.id, get_date(post), post.link_flair_text, post.title)\n",
    "    print(\"%s\\t%s\\t%s\\t%s\" % attrs)\n",
    "    n += 1\n",
    "print(\"Number of posts:\\t\" + str(n))"
   ]
  },
  {
   "cell_type": "markdown",
   "metadata": {},
   "source": [
    "There appears to be a limit on the number of posts returned: only 248 posts were returned, but the oldest date is not very far in the past."
   ]
  },
  {
   "cell_type": "markdown",
   "metadata": {},
   "source": [
    "# Moving from PRAW to Pushshift\n",
    "Pushshift is a copy of all reddit posts and comments + an API intended for big queries. This means that it can be used to query further back than PRAW allows. Below is an API call that queries the kombucha subreddit for the 5 latest posts. The output is a JSON object with all the familiar attributes.\n",
    "\n",
    "```\n",
    "https://api.pushshift.io/reddit/search/submission/?subreddit=kombucha&sort=desc&sort_type=created_utc&size=5\n",
    "```\n",
    "\n",
    "However, there are a few issues that need to be overcome when using Pushshift:\n",
    "\n",
    "* Pushshift doesn't have any method for filtering by flair, though flairs are available in the output. This means we'll need to device a different way of findings mould related posts;\n",
    "* Pushshift stores posts as they were submitted. This means that any later updated to the post might not be included in the database. Thus, any flair update to `mold!` or `not mold` will not have been included, and they are likely to still be labeled as `what's wrong!?` or `question`.\n",
    "\n",
    "Since we're looking for images, we can use the query `.jpg` to find any posts with images. This will likely return many posts not related to mould, so we will need to come up with a solution to identify mould related posts. We could maybe do this by using Pushshift to identify all submissions with one or more images, and then use PRAW to obtain the flair for those submission IDs.\n",
    "\n",
    "In a way, only having the original flair from Pushshift is an advantage, because some users initially label their question about mould as `mold!`, despite not knowing whether it is mould. Those labels could be wrong if not updated by the user. By filtering those submissions out, we improve our final data set."
   ]
  },
  {
   "cell_type": "code",
   "execution_count": 180,
   "metadata": {},
   "outputs": [
    {
     "name": "stdout",
     "output_type": "stream",
     "text": [
      "{'data': [{'all_awardings': [], 'allow_live_comments': False, 'author': 'LWYMMD_1989', 'author_flair_css_class': None, 'author_flair_richtext': [], 'author_flair_text': None, 'author_flair_type': 'text', 'author_fullname': 't2_573lddsh', 'author_is_blocked': False, 'author_patreon_flair': False, 'author_premium': False, 'awarders': [], 'can_mod_post': False, 'contest_mode': False, 'created_utc': 1644436132, 'domain': 'self.Kombucha', 'full_link': 'https://www.reddit.com/r/Kombucha/comments/som5vk/any_ideas_whats_going_on_here/', 'gildings': {}, 'id': 'som5vk', 'is_created_from_ads_ui': False, 'is_crosspostable': True, 'is_meta': False, 'is_original_content': False, 'is_reddit_media_domain': False, 'is_robot_indexable': True, 'is_self': True, 'is_video': False, 'link_flair_background_color': '', 'link_flair_richtext': [], 'link_flair_text_color': 'dark', 'link_flair_type': 'text', 'locked': False, 'media_metadata': {'o75euy2d3vg81': {'e': 'Image', 'id': 'o75euy2d3vg81', 'm': 'image/jpg', 'p': [{'u': 'https://preview.redd.it/o75euy2d3vg81.jpg?width=108&amp;crop=smart&amp;auto=webp&amp;s=511ff37b493468d0ab7fe301075bf5a97dd81197', 'x': 108, 'y': 192}, {'u': 'https://preview.redd.it/o75euy2d3vg81.jpg?width=216&amp;crop=smart&amp;auto=webp&amp;s=d9b90b6e4c092ef99ebb76c6a43a686e95783d87', 'x': 216, 'y': 384}, {'u': 'https://preview.redd.it/o75euy2d3vg81.jpg?width=320&amp;crop=smart&amp;auto=webp&amp;s=3f3757536e4de0e4b11f3783ee092694a9154965', 'x': 320, 'y': 568}, {'u': 'https://preview.redd.it/o75euy2d3vg81.jpg?width=640&amp;crop=smart&amp;auto=webp&amp;s=0bab8e600bd610b55e4be2bda9ae53d2747baa79', 'x': 640, 'y': 1137}, {'u': 'https://preview.redd.it/o75euy2d3vg81.jpg?width=960&amp;crop=smart&amp;auto=webp&amp;s=fe796aca3dd17c6f817845c7643f0da68f73925c', 'x': 960, 'y': 1706}, {'u': 'https://preview.redd.it/o75euy2d3vg81.jpg?width=1080&amp;crop=smart&amp;auto=webp&amp;s=4a3f1aa3e559043f7c0741e936fef620d3bb4673', 'x': 1080, 'y': 1920}], 's': {'u': 'https://preview.redd.it/o75euy2d3vg81.jpg?width=1080&amp;format=pjpg&amp;auto=webp&amp;s=d363b62e81cb50877ea0e4a7671cd13befac970b', 'x': 1080, 'y': 1920}, 'status': 'valid'}, 'u3fs903d3vg81': {'e': 'Image', 'id': 'u3fs903d3vg81', 'm': 'image/jpg', 'p': [{'u': 'https://preview.redd.it/u3fs903d3vg81.jpg?width=108&amp;crop=smart&amp;auto=webp&amp;s=1596163dd74e37b8f632dbeed079a7498032b848', 'x': 108, 'y': 144}, {'u': 'https://preview.redd.it/u3fs903d3vg81.jpg?width=216&amp;crop=smart&amp;auto=webp&amp;s=65737327e0d4d4b346e663670ecba824e9535932', 'x': 216, 'y': 288}, {'u': 'https://preview.redd.it/u3fs903d3vg81.jpg?width=320&amp;crop=smart&amp;auto=webp&amp;s=267d39abbd32824f30bb107193002b9045e88b11', 'x': 320, 'y': 426}, {'u': 'https://preview.redd.it/u3fs903d3vg81.jpg?width=640&amp;crop=smart&amp;auto=webp&amp;s=3498e792d1a5997cc8772e3bf03f0cb2f9105bf2', 'x': 640, 'y': 853}, {'u': 'https://preview.redd.it/u3fs903d3vg81.jpg?width=960&amp;crop=smart&amp;auto=webp&amp;s=e35e7a8d031dabbb150dfd3b914d5674f5f76d83', 'x': 960, 'y': 1280}, {'u': 'https://preview.redd.it/u3fs903d3vg81.jpg?width=1080&amp;crop=smart&amp;auto=webp&amp;s=cf7aaf1868cb920d004c8fee183ac097a3919c88', 'x': 1080, 'y': 1440}], 's': {'u': 'https://preview.redd.it/u3fs903d3vg81.jpg?width=3024&amp;format=pjpg&amp;auto=webp&amp;s=f6539ef73bee43aacd0a8de58af6f79faae5913b', 'x': 3024, 'y': 4032}, 'status': 'valid'}}, 'media_only': False, 'no_follow': True, 'num_comments': 0, 'num_crossposts': 0, 'over_18': False, 'parent_whitelist_status': 'all_ads', 'permalink': '/r/Kombucha/comments/som5vk/any_ideas_whats_going_on_here/', 'pinned': False, 'pwls': 6, 'retrieved_on': 1644436142, 'score': 1, 'selftext': 'This has looked this way for a couple of days. I don’t know if it’s mold or the scoby is dead or what. I think the liquid may have gotten to above 100F but even then it seemed to be bubbling at first. This is day 7\\n\\n&amp;#x200B;\\n\\n&amp;#x200B;\\n\\nhttps://preview.redd.it/o75euy2d3vg81.jpg?width=1080&amp;format=pjpg&amp;auto=webp&amp;s=d363b62e81cb50877ea0e4a7671cd13befac970b\\n\\nhttps://preview.redd.it/u3fs903d3vg81.jpg?width=3024&amp;format=pjpg&amp;auto=webp&amp;s=f6539ef73bee43aacd0a8de58af6f79faae5913b', 'send_replies': True, 'spoiler': False, 'stickied': False, 'subreddit': 'Kombucha', 'subreddit_id': 't5_2qx36', 'subreddit_subscribers': 311662, 'subreddit_type': 'public', 'thumbnail': 'https://a.thumbs.redditmedia.com/6h3fDvVbLwFNF1WfBwQmqC_w6Iqln0TyaLkHN7LXVr0.jpg', 'thumbnail_height': 140, 'thumbnail_width': 140, 'title': \"Any ideas what's going on here?\", 'total_awards_received': 0, 'treatment_tags': [], 'upvote_ratio': 1.0, 'url': 'https://www.reddit.com/r/Kombucha/comments/som5vk/any_ideas_whats_going_on_here/', 'whitelist_status': 'all_ads', 'wls': 6}, {'all_awardings': [], 'allow_live_comments': False, 'author': 'Fat-12-yo-Kid', 'author_flair_css_class': None, 'author_flair_richtext': [], 'author_flair_text': None, 'author_flair_type': 'text', 'author_fullname': 't2_ep7y7op', 'author_is_blocked': False, 'author_patreon_flair': False, 'author_premium': False, 'awarders': [], 'can_mod_post': False, 'contest_mode': False, 'created_utc': 1644416009, 'domain': 'self.Kombucha', 'full_link': 'https://www.reddit.com/r/Kombucha/comments/soekp2/is_this_kahm_yeast_or_mold/', 'gildings': {}, 'id': 'soekp2', 'is_created_from_ads_ui': False, 'is_crosspostable': True, 'is_meta': False, 'is_original_content': False, 'is_reddit_media_domain': False, 'is_robot_indexable': True, 'is_self': True, 'is_video': False, 'link_flair_background_color': '#ffb000', 'link_flair_css_class': 'one', 'link_flair_richtext': [], 'link_flair_template_id': '9b142210-e9d1-11e8-8b0c-0e6cbe9c92dc', 'link_flair_text': \"what's wrong!?\", 'link_flair_text_color': 'dark', 'link_flair_type': 'text', 'locked': False, 'media_metadata': {'clksyod0ftg81': {'e': 'Image', 'id': 'clksyod0ftg81', 'm': 'image/jpg', 'p': [{'u': 'https://preview.redd.it/clksyod0ftg81.jpg?width=108&amp;crop=smart&amp;auto=webp&amp;s=a18e9184c09450ebc80b5dfda414f3c0ff014200', 'x': 108, 'y': 144}, {'u': 'https://preview.redd.it/clksyod0ftg81.jpg?width=216&amp;crop=smart&amp;auto=webp&amp;s=1627c704bd9b80e0d90163eb5d2ff2aa52611fa8', 'x': 216, 'y': 288}, {'u': 'https://preview.redd.it/clksyod0ftg81.jpg?width=320&amp;crop=smart&amp;auto=webp&amp;s=63698977e430fb1cbae85be50f87f683dfa584f3', 'x': 320, 'y': 426}, {'u': 'https://preview.redd.it/clksyod0ftg81.jpg?width=640&amp;crop=smart&amp;auto=webp&amp;s=c80bf3fb174cb4cf1c41c9cf354348b53d142340', 'x': 640, 'y': 853}, {'u': 'https://preview.redd.it/clksyod0ftg81.jpg?width=960&amp;crop=smart&amp;auto=webp&amp;s=ff5822fdbca61b3066ed6a4c69e484bfacb5153a', 'x': 960, 'y': 1280}, {'u': 'https://preview.redd.it/clksyod0ftg81.jpg?width=1080&amp;crop=smart&amp;auto=webp&amp;s=88bf48afff4246d9ebed61a3e2484bc23e8104f6', 'x': 1080, 'y': 1440}], 's': {'u': 'https://preview.redd.it/clksyod0ftg81.jpg?width=3000&amp;format=pjpg&amp;auto=webp&amp;s=31d63025355bf079bea3c63ba4aa5e7f3f646b11', 'x': 3000, 'y': 4000}, 'status': 'valid'}, 'oygg0sq6ftg81': {'e': 'Image', 'id': 'oygg0sq6ftg81', 'm': 'image/jpg', 'p': [{'u': 'https://preview.redd.it/oygg0sq6ftg81.jpg?width=108&amp;crop=smart&amp;auto=webp&amp;s=7836c0c8b46d86386017968e1e2bd7d177453cf6', 'x': 108, 'y': 144}, {'u': 'https://preview.redd.it/oygg0sq6ftg81.jpg?width=216&amp;crop=smart&amp;auto=webp&amp;s=e0766774296d6a5a6f912cf954a9673f6a995572', 'x': 216, 'y': 288}, {'u': 'https://preview.redd.it/oygg0sq6ftg81.jpg?width=320&amp;crop=smart&amp;auto=webp&amp;s=b56e0d5966b609e4fb419ef925e72ad1de0c7ebe', 'x': 320, 'y': 426}, {'u': 'https://preview.redd.it/oygg0sq6ftg81.jpg?width=640&amp;crop=smart&amp;auto=webp&amp;s=e384311d8a286ba196facd554c1617fea302f984', 'x': 640, 'y': 853}, {'u': 'https://preview.redd.it/oygg0sq6ftg81.jpg?width=960&amp;crop=smart&amp;auto=webp&amp;s=d978821299cf1c27ca76e3cdae995f44858b9d36', 'x': 960, 'y': 1280}, {'u': 'https://preview.redd.it/oygg0sq6ftg81.jpg?width=1080&amp;crop=smart&amp;auto=webp&amp;s=6939de8ab187fda768862a76d279d9b8a16375f2', 'x': 1080, 'y': 1440}], 's': {'u': 'https://preview.redd.it/oygg0sq6ftg81.jpg?width=3000&amp;format=pjpg&amp;auto=webp&amp;s=e5f9add493e18a4e53c286a9c633d70543965fea', 'x': 3000, 'y': 4000}, 'status': 'valid'}}, 'media_only': False, 'no_follow': True, 'num_comments': 1, 'num_crossposts': 0, 'over_18': False, 'parent_whitelist_status': 'all_ads', 'permalink': '/r/Kombucha/comments/soekp2/is_this_kahm_yeast_or_mold/', 'pinned': False, 'pwls': 6, 'retrieved_on': 1644416020, 'score': 1, 'selftext': \"Wanted your advice on my latest kombucha batch since I'm unable to say if this Kahm yeast or not. I'm a beginner homebrewer so this is something I never had to experience before. \\n\\nI have been brewing this for about a month. It is a mix of green tea and jasmine, 75% and 25% respectively. For starter culture, I used a previously made kombucha of a friend. \\n\\nAny ideas about how this is going? Any suggestions on how to proceed in case it is Kahm yeast?\\n\\n&amp;#x200B;\\n\\n[Top view](https://preview.redd.it/clksyod0ftg81.jpg?width=3000&amp;format=pjpg&amp;auto=webp&amp;s=31d63025355bf079bea3c63ba4aa5e7f3f646b11)\\n\\n&amp;#x200B;\\n\\n[Side view](https://preview.redd.it/oygg0sq6ftg81.jpg?width=3000&amp;format=pjpg&amp;auto=webp&amp;s=e5f9add493e18a4e53c286a9c633d70543965fea)\\n\\n&amp;#x200B;\\n\\nIt has been like this for at least 2 weeks. I guess since it is has not been progressing, I could have thrown it away but it has been quite tough to find Kombucha or SCOBY in Denmark.\\n\\nAny help is much appreciated. Thank you.\", 'send_replies': True, 'spoiler': False, 'stickied': False, 'subreddit': 'Kombucha', 'subreddit_id': 't5_2qx36', 'subreddit_subscribers': 311531, 'subreddit_type': 'public', 'thumbnail': 'https://b.thumbs.redditmedia.com/oAJM3VjxuNBv9cuEoNoXe2GTqIGRL5EU-tUzoaqSePk.jpg', 'thumbnail_height': 140, 'thumbnail_width': 140, 'title': 'Is this Kahm yeast or mold?', 'total_awards_received': 0, 'treatment_tags': [], 'upvote_ratio': 1.0, 'url': 'https://www.reddit.com/r/Kombucha/comments/soekp2/is_this_kahm_yeast_or_mold/', 'whitelist_status': 'all_ads', 'wls': 6}, {'all_awardings': [], 'allow_live_comments': False, 'author': 'birofunk', 'author_flair_css_class': None, 'author_flair_richtext': [], 'author_flair_text': None, 'author_flair_type': 'text', 'author_fullname': 't2_4067c', 'author_is_blocked': False, 'author_patreon_flair': False, 'author_premium': False, 'awarders': [], 'can_mod_post': False, 'contest_mode': False, 'created_utc': 1643276864, 'domain': 'self.Kombucha', 'full_link': 'https://www.reddit.com/r/Kombucha/comments/sduryp/scoby_ejecting_itself/', 'gildings': {}, 'id': 'sduryp', 'is_created_from_ads_ui': False, 'is_crosspostable': True, 'is_meta': False, 'is_original_content': False, 'is_reddit_media_domain': False, 'is_robot_indexable': True, 'is_self': True, 'is_video': False, 'link_flair_background_color': '#ffb000', 'link_flair_css_class': 'one', 'link_flair_richtext': [], 'link_flair_template_id': '9b142210-e9d1-11e8-8b0c-0e6cbe9c92dc', 'link_flair_text': \"what's wrong!?\", 'link_flair_text_color': 'dark', 'link_flair_type': 'text', 'locked': False, 'media_metadata': {'yvhwqml6c7e81': {'e': 'Image', 'id': 'yvhwqml6c7e81', 'm': 'image/jpg', 'p': [{'u': 'https://preview.redd.it/yvhwqml6c7e81.jpg?width=108&amp;crop=smart&amp;auto=webp&amp;s=47334e8b1e4480102f96a217037af01283438a1c', 'x': 108, 'y': 51}, {'u': 'https://preview.redd.it/yvhwqml6c7e81.jpg?width=216&amp;crop=smart&amp;auto=webp&amp;s=edaac1bc6d7625f10d215abf22649cbd7ad2e0ad', 'x': 216, 'y': 102}, {'u': 'https://preview.redd.it/yvhwqml6c7e81.jpg?width=320&amp;crop=smart&amp;auto=webp&amp;s=b7c1e2660de8c74bb7da5f7bf030ec49c0863d6b', 'x': 320, 'y': 151}, {'u': 'https://preview.redd.it/yvhwqml6c7e81.jpg?width=640&amp;crop=smart&amp;auto=webp&amp;s=a3f66ae91a031054812936b1f2fb31846263c817', 'x': 640, 'y': 302}, {'u': 'https://preview.redd.it/yvhwqml6c7e81.jpg?width=960&amp;crop=smart&amp;auto=webp&amp;s=8ea6f13ee98817fb0b3d427465202ab41ea2443f', 'x': 960, 'y': 454}, {'u': 'https://preview.redd.it/yvhwqml6c7e81.jpg?width=1080&amp;crop=smart&amp;auto=webp&amp;s=22e25f7b80721aaaf54c5c595449d3753f2f797f', 'x': 1080, 'y': 511}], 's': {'u': 'https://preview.redd.it/yvhwqml6c7e81.jpg?width=4032&amp;format=pjpg&amp;auto=webp&amp;s=c01d1cac6c8bdd97082671cfd2a5ae7518a9e9b5', 'x': 4032, 'y': 1908}, 'status': 'valid'}}, 'media_only': False, 'no_follow': True, 'num_comments': 0, 'num_crossposts': 0, 'over_18': False, 'parent_whitelist_status': 'all_ads', 'permalink': '/r/Kombucha/comments/sduryp/scoby_ejecting_itself/', 'pinned': False, 'pwls': 6, 'retrieved_on': 1643276874, 'score': 1, 'selftext': \"Is this normal? It's a new one for me!\\n\\nMy last brew was fizzy after 1st fermentation and didn't form a new scoby, if that helps!\\n\\nhttps://preview.redd.it/yvhwqml6c7e81.jpg?width=4032&amp;format=pjpg&amp;auto=webp&amp;s=c01d1cac6c8bdd97082671cfd2a5ae7518a9e9b5\", 'send_replies': True, 'spoiler': False, 'stickied': False, 'subreddit': 'Kombucha', 'subreddit_id': 't5_2qx36', 'subreddit_subscribers': 305266, 'subreddit_type': 'public', 'thumbnail': 'https://b.thumbs.redditmedia.com/lHTbd9Y4PklllL-ZDzDUP4LmiZ9ifud2sPGSZ7VQ6Qk.jpg', 'thumbnail_height': 66, 'thumbnail_width': 140, 'title': 'Scoby ejecting itself', 'total_awards_received': 0, 'treatment_tags': [], 'upvote_ratio': 1.0, 'url': 'https://www.reddit.com/r/Kombucha/comments/sduryp/scoby_ejecting_itself/', 'whitelist_status': 'all_ads', 'wls': 6}, {'all_awardings': [], 'allow_live_comments': False, 'author': 'Ok-Race342', 'author_flair_css_class': None, 'author_flair_richtext': [], 'author_flair_text': None, 'author_flair_type': 'text', 'author_fullname': 't2_b9tg3asy', 'author_is_blocked': False, 'author_patreon_flair': False, 'author_premium': False, 'awarders': [], 'can_mod_post': False, 'contest_mode': False, 'created_utc': 1643164717, 'domain': 'self.Kombucha', 'full_link': 'https://www.reddit.com/r/Kombucha/comments/scv39l/mold_or_scoby_formation/', 'gildings': {}, 'id': 'scv39l', 'is_created_from_ads_ui': False, 'is_crosspostable': True, 'is_meta': False, 'is_original_content': False, 'is_reddit_media_domain': False, 'is_robot_indexable': True, 'is_self': True, 'is_video': False, 'link_flair_background_color': '#ffb000', 'link_flair_richtext': [], 'link_flair_template_id': '9b142210-e9d1-11e8-8b0c-0e6cbe9c92dc', 'link_flair_text': \"what's wrong!?\", 'link_flair_text_color': 'dark', 'link_flair_type': 'text', 'locked': False, 'media_metadata': {'u6ar2ehi2yd81': {'e': 'Image', 'id': 'u6ar2ehi2yd81', 'm': 'image/jpg', 'p': [{'u': 'https://preview.redd.it/u6ar2ehi2yd81.jpg?width=108&amp;crop=smart&amp;auto=webp&amp;s=64b05a32593a97f1e15392fc4bc94f18d467763b', 'x': 108, 'y': 144}, {'u': 'https://preview.redd.it/u6ar2ehi2yd81.jpg?width=216&amp;crop=smart&amp;auto=webp&amp;s=4573c71be6154defa9ab9060a48675ff701c6c40', 'x': 216, 'y': 288}, {'u': 'https://preview.redd.it/u6ar2ehi2yd81.jpg?width=320&amp;crop=smart&amp;auto=webp&amp;s=eb951308a6b8e0d04c573d9b2d822481e69f3c29', 'x': 320, 'y': 426}, {'u': 'https://preview.redd.it/u6ar2ehi2yd81.jpg?width=640&amp;crop=smart&amp;auto=webp&amp;s=a4dc1371c95d54dae59429c407029b08fc734fdb', 'x': 640, 'y': 853}], 's': {'u': 'https://preview.redd.it/u6ar2ehi2yd81.jpg?width=750&amp;format=pjpg&amp;auto=webp&amp;s=553715d35490e16e610840deb7115be08ba2c3df', 'x': 750, 'y': 1000}, 'status': 'valid'}}, 'media_only': False, 'no_follow': True, 'num_comments': 1, 'num_crossposts': 0, 'over_18': False, 'parent_whitelist_status': 'all_ads', 'permalink': '/r/Kombucha/comments/scv39l/mold_or_scoby_formation/', 'pinned': False, 'pwls': 6, 'retrieved_on': 1643164728, 'score': 1, 'selftext': 'Can someone help me to see whether that this is a formation or scoby or a mold? its been about a week after second fermentation that it is still in this condition\\n\\nhttps://preview.redd.it/u6ar2ehi2yd81.jpg?width=750&amp;format=pjpg&amp;auto=webp&amp;s=553715d35490e16e610840deb7115be08ba2c3df', 'send_replies': True, 'spoiler': False, 'stickied': False, 'subreddit': 'Kombucha', 'subreddit_id': 't5_2qx36', 'subreddit_subscribers': 304563, 'subreddit_type': 'public', 'thumbnail': 'https://b.thumbs.redditmedia.com/Ju7afTA1A5lPHz61z5uCDxG35hdOPNmjsJemT3oSQ0M.jpg', 'thumbnail_height': 140, 'thumbnail_width': 140, 'title': 'Mold or Scoby formation?', 'total_awards_received': 0, 'treatment_tags': [], 'upvote_ratio': 1.0, 'url': 'https://www.reddit.com/r/Kombucha/comments/scv39l/mold_or_scoby_formation/', 'whitelist_status': 'all_ads', 'wls': 6}, {'all_awardings': [], 'allow_live_comments': False, 'author': 'Bodhiwanders', 'author_flair_css_class': None, 'author_flair_richtext': [], 'author_flair_text': None, 'author_flair_type': 'text', 'author_fullname': 't2_a0f21c7p', 'author_is_blocked': False, 'author_patreon_flair': False, 'author_premium': False, 'awarders': [], 'can_mod_post': False, 'contest_mode': False, 'created_utc': 1642975530, 'domain': 'self.Kombucha', 'full_link': 'https://www.reddit.com/r/Kombucha/comments/sb5aav/used_what_we_had_in_the_fridge_surprisingly_tasty/', 'gildings': {}, 'id': 'sb5aav', 'is_created_from_ads_ui': False, 'is_crosspostable': True, 'is_meta': False, 'is_original_content': False, 'is_reddit_media_domain': False, 'is_robot_indexable': True, 'is_self': True, 'is_video': False, 'link_flair_background_color': '#ff66ac', 'link_flair_css_class': 'two', 'link_flair_richtext': [], 'link_flair_template_id': 'e62c0d60-e9d3-11e8-a6f5-0e829127b8f4', 'link_flair_text': 'beautiful booch', 'link_flair_text_color': 'dark', 'link_flair_type': 'text', 'locked': False, 'media_metadata': {'uo55b085gid81': {'e': 'Image', 'id': 'uo55b085gid81', 'm': 'image/jpg', 'p': [{'u': 'https://preview.redd.it/uo55b085gid81.jpg?width=108&amp;crop=smart&amp;auto=webp&amp;s=ca3b7e3905df06e5969d656f1bdb8c53ee1e8558', 'x': 108, 'y': 109}, {'u': 'https://preview.redd.it/uo55b085gid81.jpg?width=216&amp;crop=smart&amp;auto=webp&amp;s=1c80c08eb6c4b4060a0ceab6424023054fac1185', 'x': 216, 'y': 218}, {'u': 'https://preview.redd.it/uo55b085gid81.jpg?width=320&amp;crop=smart&amp;auto=webp&amp;s=7e715eff2a8ad72ac7f8831cc0e8699f9f6fd78b', 'x': 320, 'y': 323}, {'u': 'https://preview.redd.it/uo55b085gid81.jpg?width=640&amp;crop=smart&amp;auto=webp&amp;s=5e1456b3af7fa0cfe019bfcd272cf011385b5b11', 'x': 640, 'y': 647}, {'u': 'https://preview.redd.it/uo55b085gid81.jpg?width=960&amp;crop=smart&amp;auto=webp&amp;s=8922d69719b915644e918dd054f866daf5b1103d', 'x': 960, 'y': 971}, {'u': 'https://preview.redd.it/uo55b085gid81.jpg?width=1080&amp;crop=smart&amp;auto=webp&amp;s=8100cca7df000ed69a6f9981180c8a7e4e8b9dd2', 'x': 1080, 'y': 1092}], 's': {'u': 'https://preview.redd.it/uo55b085gid81.jpg?width=2024&amp;format=pjpg&amp;auto=webp&amp;s=a8a2847c4a9360de5842812f3e33687f831da4ed', 'x': 2024, 'y': 2048}, 'status': 'valid'}}, 'media_only': False, 'no_follow': True, 'num_comments': 0, 'num_crossposts': 0, 'over_18': False, 'parent_whitelist_status': 'all_ads', 'permalink': '/r/Kombucha/comments/sb5aav/used_what_we_had_in_the_fridge_surprisingly_tasty/', 'pinned': False, 'post_hint': 'self', 'preview': {'enabled': False, 'images': [{'id': 'zvf-sx7S1kMOghcg4nWleoxeBTq6V1BcB9d10-NwWqw', 'resolutions': [{'height': 109, 'url': 'https://external-preview.redd.it/tVLf9I0_5arCTI1dwaWpN_dCGarU_Iwkzc4bQ0C64gk.jpg?width=108&amp;crop=smart&amp;auto=webp&amp;s=edeff26b81ed438fddac3a88c8cdd5fd9d5a5269', 'width': 108}, {'height': 218, 'url': 'https://external-preview.redd.it/tVLf9I0_5arCTI1dwaWpN_dCGarU_Iwkzc4bQ0C64gk.jpg?width=216&amp;crop=smart&amp;auto=webp&amp;s=ed4582be79b2325bfdffce48b4d687437af110e4', 'width': 216}, {'height': 323, 'url': 'https://external-preview.redd.it/tVLf9I0_5arCTI1dwaWpN_dCGarU_Iwkzc4bQ0C64gk.jpg?width=320&amp;crop=smart&amp;auto=webp&amp;s=9fae88daca62e01d768ab614020a7cda63ad624e', 'width': 320}, {'height': 647, 'url': 'https://external-preview.redd.it/tVLf9I0_5arCTI1dwaWpN_dCGarU_Iwkzc4bQ0C64gk.jpg?width=640&amp;crop=smart&amp;auto=webp&amp;s=9ea217c6170821117cecaf18e4637037a02ef576', 'width': 640}, {'height': 971, 'url': 'https://external-preview.redd.it/tVLf9I0_5arCTI1dwaWpN_dCGarU_Iwkzc4bQ0C64gk.jpg?width=960&amp;crop=smart&amp;auto=webp&amp;s=e220607dfd8fce3fddfe49c0673a90736616434f', 'width': 960}, {'height': 1092, 'url': 'https://external-preview.redd.it/tVLf9I0_5arCTI1dwaWpN_dCGarU_Iwkzc4bQ0C64gk.jpg?width=1080&amp;crop=smart&amp;auto=webp&amp;s=d36ddd2d0cf5735d1250d5e9aa2cf035d2a074bb', 'width': 1080}], 'source': {'height': 2048, 'url': 'https://external-preview.redd.it/tVLf9I0_5arCTI1dwaWpN_dCGarU_Iwkzc4bQ0C64gk.jpg?auto=webp&amp;s=1b9d34f00af0766263d4a8c8c063cc81fec489fd', 'width': 2024}, 'variants': {}}]}, 'pwls': 6, 'retrieved_on': 1642975540, 'score': 1, 'selftext': 'This batch we just whipped up turned out so flipping good!\\n\\n&amp;#x200B;\\n\\nhttps://preview.redd.it/uo55b085gid81.jpg?width=2024&amp;format=pjpg&amp;auto=webp&amp;s=a8a2847c4a9360de5842812f3e33687f831da4ed\\n\\nThe orange lavender is my favourite, but the other flavours are, rose and orange, and a raspberry + lime + grape!! \\n\\nLove using dried flowers alongside fresh fruit I find that they complement each other well, but also we cannot wait for the spring when the fresh rosebuds will be out in our garden\\n\\nWe wrote a whole article about how we use fruit to flavour our booch [here](https://bodhiwanders.com/2022/01/bottling-flavouring-kombucha-with-fresh-fruit-and-flowers/)', 'send_replies': True, 'spoiler': False, 'stickied': False, 'subreddit': 'Kombucha', 'subreddit_id': 't5_2qx36', 'subreddit_subscribers': 303489, 'subreddit_type': 'public', 'thumbnail': 'https://a.thumbs.redditmedia.com/aaByttgatKc5nU6_kBuZALQJ30SH0NsBzJkiD337X-8.jpg', 'thumbnail_height': 140, 'thumbnail_width': 140, 'title': 'Used what we had in the fridge, surprisingly tasty!!', 'total_awards_received': 0, 'treatment_tags': [], 'upvote_ratio': 1.0, 'url': 'https://www.reddit.com/r/Kombucha/comments/sb5aav/used_what_we_had_in_the_fridge_surprisingly_tasty/', 'whitelist_status': 'all_ads', 'wls': 6}]}\n"
     ]
    }
   ],
   "source": [
    "import json\n",
    "\n",
    "q = 'https://api.pushshift.io/reddit/search/submission/?subreddit=kombucha&sort=desc&sort_type=created_utc&size=5&q=\".jpg\"'\n",
    "response = urllib.request.urlopen(q)\n",
    "data = response.read()\n",
    "result = json.loads(data)\n",
    "print(result)\n"
   ]
  },
  {
   "cell_type": "code",
   "execution_count": 192,
   "metadata": {},
   "outputs": [
    {
     "name": "stdout",
     "output_type": "stream",
     "text": [
      "None\n",
      "kahm!\n"
     ]
    }
   ],
   "source": [
    "ids = [\"t3_som5vk\", \"t3_soekp2\"]\n",
    "full_ids = [i if i.startswith('t3_') else f't3_{i}' for i in ids]\n",
    "posts = reddit.info(full_ids)\n",
    "for post in posts:\n",
    "    print(post.link_flair_text)"
   ]
  },
  {
   "cell_type": "markdown",
   "metadata": {},
   "source": [
    "That seems to work. We first fetched the posts using Pushshift, and then batch queried PRAW using the post ids. We could do this in small batches to then fetch all the data. Next question: can we fetch posts from further back? to test this, let's sort the posts ascending, rather than descending - this should get us the first ever image posts in the subreddit. Because flairs may not have been in use back then, let's just print the titles."
   ]
  },
  {
   "cell_type": "code",
   "execution_count": 193,
   "metadata": {},
   "outputs": [
    {
     "name": "stdout",
     "output_type": "stream",
     "text": [
      "{'data': [{'author': 'dadankskunk', 'author_flair_css_class': None, 'author_flair_text': None, 'created_utc': 1338358063, 'domain': 'self.Kombucha', 'full_link': 'https://www.reddit.com/r/Kombucha/comments/ubql2/made_my_first_kombucha_just_bottled_pics/', 'id': 'ubql2', 'is_self': True, 'media_embed': {}, 'num_comments': 8, 'over_18': False, 'permalink': '/r/Kombucha/comments/ubql2/made_my_first_kombucha_just_bottled_pics/', 'score': 5, 'selftext': \"So I made the kombucha from GT's No 9, which is blueberry I think.  I made the tea from Gen Maicha, which I had some left over of.  I purchased it from Teavana I think... Good tea company.  Anyway, it's been 2-3 weeks and this mushroom was a lot thicker than I expected!  It looked thin and floppy from the outside, but the moment I picked it up I knew it was a big one, thick and firm... That sounded wrong but it's the truth.    I threw in some lemon, lime, and orange peels in the first fermentation, I don't know how it'll taste, but I threw in a couple more orange peels for the second fermentation.  Along with this, one kombucha has some left over juice made fresh from orange, apple, beets, kale and pineapple, along with about 2 tsp of marijuana extract(glycerin solvent).  The rest weren't changed.  We'll see how it comes out!\\n\\nPictures\\n[pic 1](http://i.imgur.com/0v1EJ.jpg)\\n[pic 2](http://i.imgur.com/FaPI8.jpg)\", 'subreddit': 'Kombucha', 'subreddit_id': 't5_2qx36', 'thumbnail': 'self', 'title': 'Made my first kombucha, just bottled, pics!  ', 'url': 'http://www.reddit.com/r/Kombucha/comments/ubql2/made_my_first_kombucha_just_bottled_pics/'}, {'author': 'erasmosis', 'author_created_utc': 1178244020, 'author_flair_css_class': None, 'author_flair_text': None, 'author_fullname': 't2_1nebf', 'created_utc': 1343419703, 'domain': 'self.Kombucha', 'full_link': 'https://www.reddit.com/r/Kombucha/comments/x9jar/hey_reddit_im_brewing_my_kombucha_in_5_gallon/', 'id': 'x9jar', 'is_self': True, 'media_embed': {}, 'num_comments': 6, 'over_18': False, 'permalink': '/r/Kombucha/comments/x9jar/hey_reddit_im_brewing_my_kombucha_in_5_gallon/', 'score': 2, 'selftext': \"My local food coop gets its bulk liquids in [these buckets,](http://images04.olx.com/ui/6/68/33/1274584143_89416533_1-Pictures-of--5-Gallon-Buckets-with-LidsFOOD-GRADE-1274584143.jpg)\\n\\nThey seem perfect for bucha, and I've been brewing about 40 gallons a week in them.  Eventually i'd like to get glass, but I'm wondering if this plastic is at all sketchy.  I feel pretty good about it, but there are lingering questions in my mind. \\n\\nSo buchareddit, what do you think?\\n\\nThanks, \\nRand \\n\", 'subreddit': 'Kombucha', 'subreddit_id': 't5_2qx36', 'thumbnail': 'self', 'title': \"Hey Reddit,   I'm brewing my kombucha in 5 gallon food grade plastic buckets.  What do you think?\", 'url': 'http://www.reddit.com/r/Kombucha/comments/x9jar/hey_reddit_im_brewing_my_kombucha_in_5_gallon/'}, {'author': 'o0dano0o', 'author_created_utc': 1152233150, 'author_flair_css_class': None, 'author_flair_text': None, 'author_fullname': 't2_9h1v', 'created_utc': 1396631016, 'domain': 'self.Kombucha', 'full_link': 'https://www.reddit.com/r/Kombucha/comments/227d3r/any_boston_area_kombuchittors/', 'gilded': 0, 'id': '227d3r', 'is_self': True, 'media_embed': {}, 'num_comments': 0, 'over_18': False, 'permalink': '/r/Kombucha/comments/227d3r/any_boston_area_kombuchittors/', 'retrieved_on': 1441594446, 'score': 2, 'secure_media_embed': {}, 'selftext': 'In preparing for a move this summer, my wife and I are downsizing quite a bit of our belongings.\\n\\nOne of the things I need to find a new home for is my Kombucha crock. It looks like [this](http://s1.hubimg.com/u/3650032_f520.jpg).\\n\\nPlease pm me if you have any interest in it! Thanks!', 'stickied': False, 'subreddit': 'Kombucha', 'subreddit_id': 't5_2qx36', 'thumbnail': 'self', 'title': 'Any Boston area Kombuchittors?', 'url': 'http://www.reddit.com/r/Kombucha/comments/227d3r/any_boston_area_kombuchittors/'}, {'author': 'Fey_fox', 'author_created_utc': 1357460067, 'author_flair_css_class': None, 'author_flair_text': None, 'author_fullname': 't2_a4d0r', 'created_utc': 1399137747, 'domain': 'self.Kombucha', 'edited': 1399138141, 'full_link': 'https://www.reddit.com/r/Kombucha/comments/24ms6k/vinegar_smell_is_this_normal/', 'gilded': 0, 'id': '24ms6k', 'is_self': True, 'media_embed': {}, 'num_comments': 5, 'over_18': False, 'permalink': '/r/Kombucha/comments/24ms6k/vinegar_smell_is_this_normal/', 'retrieved_on': 1441552980, 'score': 4, 'secure_media_embed': {}, 'selftext': \"Hi folks, my friend gave me a scoby last week, &amp;amp;amp; he said to give it at least two weeks to get big enough to start brewing. He started in the winter &amp;amp;amp; his house is usually pretty cold (low 60s) so I think he may be used to slow brewing. \\n\\nToday it looks like this \\nhttp://i.imgur.com/CJ2s8bS.jpg\\nhttp://i.imgur.com/4YJ2ov9.jpg\\n&amp;amp;amp; it smells very vinegary. Is that normal? Is it ready to go? If not should I add something to the water? I don't mind the smell, I live alone so it's no big deal but guests may not enjoy it. \\n\\nThanks! \\n[edit: uploaded better photos]\", 'stickied': False, 'subreddit': 'Kombucha', 'subreddit_id': 't5_2qx36', 'thumbnail': 'self', 'title': 'Vinegar smell, is this normal?', 'url': 'http://www.reddit.com/r/Kombucha/comments/24ms6k/vinegar_smell_is_this_normal/'}, {'author': 'doobiekiller', 'author_created_utc': 1334099462, 'author_flair_css_class': None, 'author_flair_text': None, 'author_fullname': 't2_7f12s', 'created_utc': 1407864300, 'domain': 'self.Kombucha', 'full_link': 'https://www.reddit.com/r/Kombucha/comments/2dconc/keeping_hothouse_brew_going_in_winter/', 'gilded': 0, 'id': '2dconc', 'is_self': True, 'media_embed': {}, 'num_comments': 4, 'over_18': False, 'permalink': '/r/Kombucha/comments/2dconc/keeping_hothouse_brew_going_in_winter/', 'retrieved_on': 1441223126, 'score': 4, 'secure_media_embed': {}, 'selftext': 'Hey all. I had an awesome idea earlier this summer: Brew my kombucha in my garage. This is awesome, as it maintains an average temperature of 80-85F (27-29C), and is protected from sunlight. As a result I have been able to \"speed brew\" awesome tasting kombucha. I have been able to cut my brew time from 2 weeks to 6 days (I do a primary continuous brew of 4 liters, followed by a second sealed brew for carbonation). I end up with a very tasty, bubbly brew that ends with a pH of 3-3.5. I would like to keep this going, during the fall and winter, but I am at a loss as to how to maintain this temperature. I have a few ideas/suggestions, but any help would be appriciated.\\n\\nIdeas:\\n\\n1. Put all my brew vessels in a large cooler, twice a day fill a gallon jar with boiling water (or hot water bottle),  place it in the cooler and monitor temp\\n\\n2. Get a heating blanket and [thermostat with a probe](http://www.shellab.com/store/images/D/d-1082-75.jpg), hook them up in series, and place the probe in the brew vessel surrounded with a glass sheath, wrap heating blanket around brew vessel and maintain temp that way (I use this method at work for fermenting e.coli)\\n\\n3. hot box- a space heater and insulated box (cooler) in series like so: [heater]-[hot box/tube]-[cooler w/thermostat]. This maintains air temp around the brews, but also requires an exhaust port to be installed in the cooler, and might be the most labor intensive. I had to build on of these once for an ultrasensitive calorimeter.\\n\\n4. Solar hotbox: a cooler with a clear lid that can be placed in the sun to warm, and a heavy lid to prevent heat loss during the night. I would use this, but I have no south facing windows in my house so I think it\\'s a no go.\\n\\nAny other ideas/suggrestions?', 'stickied': False, 'subreddit': 'Kombucha', 'subreddit_id': 't5_2qx36', 'thumbnail': 'self', 'title': 'Keeping hothouse brew going in winter', 'url': 'http://www.reddit.com/r/Kombucha/comments/2dconc/keeping_hothouse_brew_going_in_winter/'}]}\n"
     ]
    }
   ],
   "source": [
    "q = 'https://api.pushshift.io/reddit/search/submission/?subreddit=kombucha&sort=asc&sort_type=created_utc&size=5&q=\".jpg\"'\n",
    "response = urllib.request.urlopen(q)\n",
    "data = response.read()\n",
    "result = json.loads(data)\n",
    "print(result)"
   ]
  },
  {
   "cell_type": "code",
   "execution_count": 195,
   "metadata": {},
   "outputs": [
    {
     "name": "stdout",
     "output_type": "stream",
     "text": [
      "Made my first kombucha, just bottled, pics!  \n",
      "Any Boston area Kombuchittors?\n"
     ]
    }
   ],
   "source": [
    "ids = [\"ubql2\", \"227d3r\"]\n",
    "full_ids = [i if i.startswith('t3_') else f't3_{i}' for i in ids]\n",
    "posts = reddit.info(full_ids)\n",
    "for post in posts:\n",
    "    print(post.title)"
   ]
  }
 ],
 "metadata": {
  "interpreter": {
   "hash": "74597b8a6c2e78b1702df7d723b5e614cf34ec9e123fac975035cbc72d20fe8a"
  },
  "kernelspec": {
   "display_name": "Python 3.7.3 64-bit ('3.7.3')",
   "language": "python",
   "name": "python3"
  },
  "language_info": {
   "codemirror_mode": {
    "name": "ipython",
    "version": 3
   },
   "file_extension": ".py",
   "mimetype": "text/x-python",
   "name": "python",
   "nbconvert_exporter": "python",
   "pygments_lexer": "ipython3",
   "version": "3.10.2"
  },
  "orig_nbformat": 4
 },
 "nbformat": 4,
 "nbformat_minor": 2
}
